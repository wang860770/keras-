{
 "cells": [
  {
   "cell_type": "markdown",
   "metadata": {},
   "source": [
    "# 梯度下降学习率问题\n",
    "用最简单的SGD做实验，讨论学习率问题。\n",
    "\n",
    "学习率如果太小，则会下降很慢，需要很多次迭代，如果太大，就会出现发散，具体可以动手调试，也可以看截图。\n",
    "\n",
    "选取的代价函数$J(x) = 0.5 (x-1)^2 + 0.5$"
   ]
  },
  {
   "cell_type": "code",
   "execution_count": 28,
   "metadata": {
    "ExecuteTime": {
     "end_time": "2019-06-05T01:44:56.389408Z",
     "start_time": "2019-06-05T01:44:56.112392Z"
    }
   },
   "outputs": [
    {
     "data": {
      "application/vnd.jupyter.widget-view+json": {
       "model_id": "b6ed636fdb4e46aba1e8e097813d3309",
       "version_major": 2,
       "version_minor": 0
      },
      "text/plain": [
       "interactive(children=(FloatSlider(value=0.05, description='lr', max=5.0, step=0.001), IntSlider(value=10, desc…"
      ]
     },
     "metadata": {},
     "output_type": "display_data"
    }
   ],
   "source": [
    "import numpy as np\n",
    "import matplotlib.pyplot as plt\n",
    "from ipywidgets import *\n",
    "\n",
    " \n",
    "#先算出来当前函数的导数\n",
    "def gradJ(theta):\n",
    "    return theta-1\n",
    " \n",
    "#梯度函数\n",
    "def J(theta):\n",
    "    return 0.5*(theta-1)**2+0.5\n",
    " \n",
    "def train(lr,epoch,theta):\n",
    "    thetas = []\n",
    "    for i in range(epoch):\n",
    "        gredient = gradJ(theta)\n",
    "        last_theta = theta\n",
    "        theta = theta - lr*gredient\n",
    "        thetas.append(theta)\n",
    "    plt.figure(figsize=(10,10))\n",
    "    x = np.linspace(-1,3,100)\n",
    "    plt.plot(x, J(x))\n",
    "    plt.plot(np.array(thetas),J(np.array(thetas)),color='r',marker='o')\n",
    "    \n",
    "    plt.plot(1.0, 0.5, 'r*',ms=15)\n",
    "    plt.text(1.0, 0.55, 'min', color='k')\n",
    "    plt.text(thetas[0]+0.1,  J(thetas[0]), 'start', color='k')\n",
    "    plt.text(thetas[-1]+0.1, J(thetas[-1])-0.05, 'end', color='k')\n",
    "    \n",
    "    plt.xlabel('theta')\n",
    "    plt.ylabel('loss')\n",
    "    plt.show()\n",
    "    print('theta:',theta)\n",
    "    print('loss:',J(theta))\n",
    "    \n",
    "#定义了4个变量控件，可以随时调节，查看效果 (最小值，最大值，步长)\n",
    "@interact(lr=(0, 5, 0.001),epoch=(0,100,1),init_theta=(-1,3,0.1),continuous_update=False)\n",
    "def visualize_gradient_descent(lr=0.05,epoch=10,init_theta=-1):\n",
    "    train(lr,epoch,init_theta)"
   ]
  },
  {
   "cell_type": "code",
   "execution_count": null,
   "metadata": {},
   "outputs": [],
   "source": []
  }
 ],
 "metadata": {
  "kernelspec": {
   "display_name": "Python 3",
   "language": "python",
   "name": "python3"
  },
  "language_info": {
   "codemirror_mode": {
    "name": "ipython",
    "version": 3
   },
   "file_extension": ".py",
   "mimetype": "text/x-python",
   "name": "python",
   "nbconvert_exporter": "python",
   "pygments_lexer": "ipython3",
   "version": "3.7.3"
  }
 },
 "nbformat": 4,
 "nbformat_minor": 2
}
