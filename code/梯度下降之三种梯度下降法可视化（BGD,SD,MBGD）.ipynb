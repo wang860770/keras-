{
 "cells": [
  {
   "cell_type": "markdown",
   "metadata": {},
   "source": [
    "# 批量梯度下降法(BGD),随机梯度下降法(SGD),min-batch小批量梯度下降法(MBGD)\n",
    "用可视化的方式来看下三种梯度下降法。"
   ]
  },
  {
   "cell_type": "code",
   "execution_count": 8,
   "metadata": {
    "ExecuteTime": {
     "end_time": "2019-06-06T00:57:08.164201Z",
     "start_time": "2019-06-06T00:57:03.268921Z"
    }
   },
   "outputs": [],
   "source": [
    "import numpy as np\n",
    "import matplotlib.pyplot as plt\n",
    "from ipywidgets import *\n",
    "np.random.seed(1)\n",
    "%matplotlib inline"
   ]
  },
  {
   "cell_type": "markdown",
   "metadata": {},
   "source": [
    "# 我们来拟合简单的函数 $f(x)=wx+1 $ $其中w=0.5$"
   ]
  },
  {
   "cell_type": "code",
   "execution_count": 9,
   "metadata": {
    "ExecuteTime": {
     "end_time": "2019-06-06T00:57:18.420787Z",
     "start_time": "2019-06-06T00:57:18.414787Z"
    }
   },
   "outputs": [],
   "source": [
    "# 生成数据\n",
    "def generate_data(sample_num=200):   \n",
    "    #在返回（-1, 1）范围内的等差序列\n",
    "    X = np.linspace(-1, 1, sample_num) \n",
    "    Y = 0.5* X+1 ++ np.random.normal(0, 0.1, (sample_num, ))#生成Y并添加噪声\n",
    "    return X,Y"
   ]
  },
  {
   "cell_type": "code",
   "execution_count": 12,
   "metadata": {
    "ExecuteTime": {
     "end_time": "2019-06-06T00:57:40.031023Z",
     "start_time": "2019-06-06T00:57:39.864014Z"
    },
    "scrolled": true
   },
   "outputs": [
    {
     "data": {
      "image/png": "[encoded data removed]",
      "text/plain": [
       "<Figure size 432x288 with 1 Axes>"
      ]
     },
     "metadata": {
      "needs_background": "light"
     },
     "output_type": "display_data"
    }
   ],
   "source": [
    "#显示要拟合的数据\n",
    "X, Y = generate_data()\n",
    "plt.scatter(X,Y)\n",
    "plt.show()"
   ]
  },
  {
   "cell_type": "code",
   "execution_count": 13,
   "metadata": {
    "ExecuteTime": {
     "end_time": "2019-06-06T00:57:45.360328Z",
     "start_time": "2019-06-06T00:57:45.346327Z"
    }
   },
   "outputs": [],
   "source": [
    "def plot(thetas,losses):\n",
    "    plt.figure(figsize=(8,6))\n",
    "    plt.plot(thetas, losses)\n",
    "    plt.plot(np.array(thetas),np.array(losses),color='r',marker='o')\n",
    "    plt.xlim(-0.1,0.6)\n",
    "    plt.ylim(-0.1,0.2)\n",
    "    plt.plot(0.5, 0, 'r*',ms=15)\n",
    "    plt.text(0.5, 0, 'min', color='k')\n",
    "    plt.text(thetas[0]+0.01,  losses[0], 'start', color='k')\n",
    "    plt.text(thetas[-1]+0.01, losses[-1]-0.01, 'end', color='k')\n",
    "    \n",
    "    plt.xlabel('w')\n",
    "    plt.ylabel('loss')\n",
    "    plt.title('w-loss')\n",
    "    \n",
    "    plt.figure(figsize=(8,6))\n",
    "    plt.plot(np.linspace(0,1000,len(losses)), losses)\n",
    "    plt.xlabel('epoch')\n",
    "    plt.ylabel('loss')\n",
    "    plt.title('epoch-loss')\n",
    "    \n",
    "    plt.figure(figsize=(8,6))\n",
    "    X, Y = generate_data()\n",
    "    plt.scatter(X,Y)\n",
    "    Y = thetas[-1]* X+1\n",
    "    plt.plot(X,Y,'r')\n",
    "    plt.xlabel('x')\n",
    "    plt.ylabel('y')\n",
    "    plt.title('x-y')\n",
    "    \n",
    "    plt.show()   \n",
    "    print('w:',thetas[-1])\n",
    "    print('loss:',losses[-1])   "
   ]
  },
  {
   "cell_type": "markdown",
   "metadata": {},
   "source": [
    "# BGM（批量梯度下降法）\n",
    "每次都要全部样本进行计算，方向比较稳，不会波动，但是比较慢，要迭代好多次"
   ]
  },
  {
   "cell_type": "code",
   "execution_count": 18,
   "metadata": {
    "ExecuteTime": {
     "end_time": "2019-06-06T01:04:27.491329Z",
     "start_time": "2019-06-06T01:04:27.476328Z"
    },
    "scrolled": true
   },
   "outputs": [],
   "source": [
    "def bgd(X, Y, lr=0.01, epoch=10):\n",
    "    sample_num = X.shape[0]\n",
    "    w = 0.1\n",
    "    loss=0\n",
    "    thetas=[]\n",
    "    losses=[]\n",
    "    for i in range(epoch):\n",
    "        loss=0\n",
    "        dj=0\n",
    "        error=0\n",
    "        #每次都是所有样本一起算，更新一次\n",
    "        for j in range(sample_num):\n",
    "            predict_y =w*X[j]+1\n",
    "            error +=0.5*np.power((predict_y - Y[j]), 2)\n",
    "            dj+=(predict_y - Y[j])*X[j]\n",
    "        loss = error/sample_num\n",
    "        dj/=sample_num\n",
    "        w = w-lr *dj\n",
    "        losses.append(loss)\n",
    "        thetas.append(w)\n",
    "        \n",
    "    plot(thetas,losses)"
   ]
  },
  {
   "cell_type": "code",
   "execution_count": 19,
   "metadata": {
    "ExecuteTime": {
     "end_time": "2019-06-06T01:04:29.173425Z",
     "start_time": "2019-06-06T01:04:28.576391Z"
    },
    "scrolled": false
   },
   "outputs": [
    {
     "data": {
      "application/vnd.jupyter.widget-view+json": {
       "model_id": "c5a2fccd9d404af298bc035fa22b7e87",
       "version_major": 2,
       "version_minor": 0
      },
      "text/plain": [
       "interactive(children=(FloatSlider(value=0.01, description='lr', max=1.0, step=0.001), IntSlider(value=10, desc…"
      ]
     },
     "metadata": {},
     "output_type": "display_data"
    }
   ],
   "source": [
    "@interact(lr=(0, 1, 0.001),epoch=(1,2000,10),continuous_update=False)\n",
    "def visualize_gradient_descent(lr=0.01,epoch=10):\n",
    "    X, Y = generate_data()\n",
    "    bgd(X, Y,lr,epoch)"
   ]
  },
  {
   "cell_type": "markdown",
   "metadata": {},
   "source": [
    "# SGD（随机梯度下降法）"
   ]
  },
  {
   "cell_type": "code",
   "execution_count": 20,
   "metadata": {
    "ExecuteTime": {
     "end_time": "2019-06-06T01:10:00.388369Z",
     "start_time": "2019-06-06T01:10:00.379369Z"
    }
   },
   "outputs": [],
   "source": [
    "def sgd(X, Y, lr=0.01, epoch=10):\n",
    "    sample_num = X.shape[0]\n",
    "    w =0\n",
    "\n",
    "    thetas=[]\n",
    "    losses=[]\n",
    "    for _ in range(epoch):\n",
    "        loss=0\n",
    "        #每个样本单独算，单独更新一次\n",
    "        for j in range(sample_num):\n",
    "            predict_y =w*X[j]+1\n",
    "            loss =0.5* np.power((predict_y - Y[j]), 2)\n",
    "            w = w-lr *(predict_y - Y[j])*X[j]\n",
    "            losses.append(loss)\n",
    "            thetas.append(w)\n",
    "    plot(thetas,losses)"
   ]
  },
  {
   "cell_type": "code",
   "execution_count": 21,
   "metadata": {
    "ExecuteTime": {
     "end_time": "2019-06-06T01:10:01.291421Z",
     "start_time": "2019-06-06T01:10:00.650384Z"
    },
    "scrolled": false
   },
   "outputs": [
    {
     "data": {
      "application/vnd.jupyter.widget-view+json": {
       "model_id": "ca5572ae5e9143509d5375e18792ba2f",
       "version_major": 2,
       "version_minor": 0
      },
      "text/plain": [
       "interactive(children=(FloatSlider(value=0.01, description='lr', max=5.0, step=0.001), IntSlider(value=10, desc…"
      ]
     },
     "metadata": {},
     "output_type": "display_data"
    }
   ],
   "source": [
    "#可以随时调节，查看效果 (最小值，最大值，步长)\n",
    "@interact(lr=(0, 5, 0.001),epoch=(1,100,1),continuous_update=False)\n",
    "def visualize_gradient_descent(lr=0.01,epoch=10):\n",
    "    X, Y = generate_data()\n",
    "    sgd(X, Y,lr,epoch)"
   ]
  },
  {
   "cell_type": "markdown",
   "metadata": {},
   "source": [
    "## MBGD（小批量梯度下降法）"
   ]
  },
  {
   "cell_type": "code",
   "execution_count": 22,
   "metadata": {
    "ExecuteTime": {
     "end_time": "2019-06-06T01:10:12.557065Z",
     "start_time": "2019-06-06T01:10:12.537064Z"
    }
   },
   "outputs": [],
   "source": [
    "def mbgd(X, Y, lr=0.01, epoch=10,batch_size=8):\n",
    "    sample_num = X.shape[0]\n",
    "    w =0\n",
    "\n",
    "    thetas=[]\n",
    "    losses=[]\n",
    "    \n",
    "    batch_num=(sample_num-1)//batch_size+1\n",
    "    for _ in range(epoch):\n",
    "        \n",
    "        for i in range(batch_num):\n",
    "            loss=0\n",
    "            start_index = i * batch_size\n",
    "            end_index = min((i + 1) * batch_size, sample_num)\n",
    "            \n",
    "            batch_x=X[start_index:end_index]\n",
    "            batch_y=Y[start_index:end_index]\n",
    "            \n",
    "            num=end_index-start_index\n",
    "            for j in range(num):\n",
    "                predict_y =w*batch_x[j]+1\n",
    "                loss+=0.5* np.power((predict_y - batch_y[j]), 2)\n",
    "                w = w-lr *(predict_y - batch_y[j])*batch_x[j]\n",
    "            loss /= num\n",
    "            \n",
    "            losses.append(loss)\n",
    "            thetas.append(w)\n",
    "    plot(thetas,losses)"
   ]
  },
  {
   "cell_type": "code",
   "execution_count": 23,
   "metadata": {
    "ExecuteTime": {
     "end_time": "2019-06-06T01:10:13.407114Z",
     "start_time": "2019-06-06T01:10:12.874083Z"
    }
   },
   "outputs": [
    {
     "data": {
      "application/vnd.jupyter.widget-view+json": {
       "model_id": "61727a9b1b1b449786270b68ba668690",
       "version_major": 2,
       "version_minor": 0
      },
      "text/plain": [
       "interactive(children=(FloatSlider(value=0.01, description='lr', max=5.0, min=0.01, step=0.01), IntSlider(value…"
      ]
     },
     "metadata": {},
     "output_type": "display_data"
    }
   ],
   "source": [
    "#可以随时调节，查看效果 (最小值，最大值，步长)\n",
    "@interact(lr=(0.01, 5.00, 0.01),epoch=(1,100,1),batch_size=(0,200,8),continuous_update=False)\n",
    "def visualize_gradient_descent(lr=0.01,epoch=10,batch_size=8):\n",
    "    X, Y = generate_data()\n",
    "    mbgd(X, Y,lr,epoch,batch_size)"
   ]
  },
  {
   "cell_type": "code",
   "execution_count": null,
   "metadata": {},
   "outputs": [],
   "source": []
  }
 ],
 "metadata": {
  "kernelspec": {
   "display_name": "Python 3",
   "language": "python",
   "name": "python3"
  },
  "language_info": {
   "codemirror_mode": {
    "name": "ipython",
    "version": 3
   },
   "file_extension": ".py",
   "mimetype": "text/x-python",
   "name": "python",
   "nbconvert_exporter": "python",
   "pygments_lexer": "ipython3",
   "version": "3.7.3"
  },
  "toc": {
   "base_numbering": 1,
   "nav_menu": {},
   "number_sections": true,
   "sideBar": true,
   "skip_h1_title": false,
   "title_cell": "Table of Contents",
   "title_sidebar": "Contents",
   "toc_cell": false,
   "toc_position": {},
   "toc_section_display": true,
   "toc_window_display": false
  }
 },
 "nbformat": 4,
 "nbformat_minor": 2
}
