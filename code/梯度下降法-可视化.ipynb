{
 "cells": [
  {
   "cell_type": "markdown",
   "metadata": {},
   "source": [
    "# Visualizing SGD, Momentum, Adagrad and RMSProp\n",
    "\n",
    "# 可视化随机梯度下降，动量机制，适配学习率和RMSProp"
   ]
  },
  {
   "cell_type": "code",
   "execution_count": 59,
   "metadata": {
    "ExecuteTime": {
     "end_time": "2019-06-04T12:58:00.122507Z",
     "start_time": "2019-06-04T12:58:00.105506Z"
    }
   },
   "outputs": [],
   "source": [
    "%matplotlib inline\n",
    "import numpy as np\n",
    "import matplotlib.pyplot as plt\n",
    "from matplotlib import ticker, cm\n",
    "import seaborn as sns\n",
    "from ipywidgets import *\n",
    "import math\n",
    "\n",
    "#绘图元素比例  比较小\n",
    "sns.set_context('paper', font_scale=2)\n",
    "#设置显示中文字体\n",
    "font = {'family' : 'SimHei',\n",
    "#         'weight' : 'bold',\n",
    "        'size'   : '15'}\n",
    "plt.rc('font', **font)               # 步骤一（设置字体的更多属性）\n",
    "plt.rc('axes', unicode_minus=False)  # 步骤二（解决坐标轴负数的负号显示问题）"
   ]
  },
  {
   "cell_type": "markdown",
   "metadata": {},
   "source": [
    "##### 下面这个Cell定义了4个函数，\n",
    "\n",
    "1. f_2d(x1, x2) 定义了一个简单的 2 维函数，$f(x_1, x_2) = 0.5 x_1^2 + 2x_2^2$. 我们的目标是使用这个函数测试各种梯度下降算法，寻找极小值点。\n",
    "2. f_grad(x1, x2) 计算 f_2d() 沿两个方向的梯度\n",
    "3. train_2d() 函数使用给用的梯度下降算法，迭代N步，返回更新数据，即x1,x2的值\n",
    "4. plot_2d() 函数画出 f_2d 函数的等高图以及N步更新轨迹\n",
    "5. 学习率，迭代次数，变量初始值均可在空间中调试，方便观察"
   ]
  },
  {
   "cell_type": "code",
   "execution_count": 170,
   "metadata": {
    "ExecuteTime": {
     "end_time": "2019-06-04T13:59:14.703681Z",
     "start_time": "2019-06-04T13:59:14.682679Z"
    }
   },
   "outputs": [],
   "source": [
    "def f_2d(x1, x2):\n",
    "    '''优化的目标函数 有2个变量'''\n",
    "    return 0.5 * x1 ** 2 + 2 * x2 ** 2\n",
    "\n",
    "def f_grad(x1, x2):\n",
    "    '''x1和x2的梯度'''\n",
    "    dfdx1 =  x1\n",
    "    dfdx2 = 4 * x2\n",
    "    return dfdx1, dfdx2\n",
    "\n",
    "def train_2d(trainer, lr,epoch=50,init_x1=-4,init_x2=-4):\n",
    "    \"\"\"自定义训练器:trainer\n",
    "       lr:学习率\n",
    "       epoch:轮次\n",
    "       init_x1:x1的初始值 便于观察\n",
    "       init_x2:x1的初始值\n",
    "    \"\"\"\n",
    "    x1, x2 = init_x1, init_x2\n",
    "    s_x1, s_x2 = 0, 0\n",
    "    res = [(x1, x2)]\n",
    "    for i in range(epoch):\n",
    "        x1, x2, s_x1, s_x2, lr = trainer(x1, x2, s_x1, s_x2, lr)\n",
    "        res.append((x1, x2))\n",
    "    return res\n",
    "\n",
    "def plot_2d(res, figsize=(10, 8), title=None):\n",
    "    x1_, x2_ = zip(*res)\n",
    "    fig = plt.figure(figsize=figsize)\n",
    "    plt.plot([0], [0], 'r*', ms=15)\n",
    "    plt.text(0.0, 0.25, '最小值', color='k')\n",
    "    plt.plot(x1_[0], x2_[0], 'ro', ms=10)\n",
    "    plt.text(x1_[0]+0.2, x2_[0]-0.15, '起点', color='k')\n",
    "    plt.plot(x1_, x2_, '-o', color='r')\n",
    "    \n",
    "    plt.plot(x1_[-1], x2_[-1], 'bo',ms=10)\n",
    "    plt.text(x1_[-1]+0.1, x2_[-1]-0.4, '终点', color='k')\n",
    "    \n",
    "    x1 = np.linspace(-5,5, 100)\n",
    "    x2 = np.linspace(-5,5, 100)\n",
    "    x1, x2 = np.meshgrid(x1, x2)\n",
    "    #画出等高线区域，并用彩虹颜色填充，设置透明度\n",
    "    cp=plt.contourf(x1, x2, f_2d(x1, x2),alpha=0.75, cmap=cm.rainbow)\n",
    "    #画出等高线\n",
    "    C=plt.contour(x1, x2, f_2d(x1, x2),colors='black')\n",
    "    plt.clabel(C,inline=True,fontsize=15)\n",
    "    cbar = fig.colorbar(cp)\n",
    "    cbar.set_label('损失值')\n",
    "    plt.xlabel('x1')\n",
    "    plt.ylabel('x2')\n",
    "    plt.title(title)\n",
    "    plt.show()\n",
    "    x1,x2=res[-1]\n",
    "    loss=f_2d(x1,x2)\n",
    "    print('最小损失值:',loss,'x1:',x1,' x2:',x2)"
   ]
  },
  {
   "cell_type": "markdown",
   "metadata": {},
   "source": [
    "## 机器学习原理\n",
    "\n",
    "机器学习是一种新的编程模式。这种模式先假设任何输入 x 与输出 y 之间存在连续几何变换，\n",
    "其函数形式可用 $y= f(x, \\theta)$ 表示。其中 $\\theta$ 是函数参数，初始化为随机数。\n",
    "注意，初始化过程并不任意，这里有一篇很好的文章讲参数初始化 \n",
    "[deeplearning.ai](http://www.deeplearning.ai/ai-notes/initialization/?utm_source=email&utm_medium=newsletter&utm_campaign=BlogAINotesInTextMay082019)。\n",
    "\n",
    "机器学习通过逐步微调函数参数 $\\theta$的方式，试图最小化模型预言 $\\hat{y}$ 与真实标签 $y$的差别。\n",
    "此差别最简单的数学表达式是 MAE 或者 MSE，即\n",
    "$$L(\\theta) = |\\hat{y} - y|$$\n",
    "或\n",
    "$$L(\\theta) = |\\hat{y} - y|^2$$\n",
    "\n",
    "为了最小化误差 $L(\\theta)$, 我们只需要计算误差对参数 $\\theta$ 的梯度，通过链式规则，\n",
    "将误差反向传递到 $\\theta$, 并使用梯度下降，更新$\\theta$ 即可。\n",
    "\n",
    "如果增加 $\\theta$, 损失函数 $L(\\theta)$ 增大，那么损失函数对参数$\\theta$的梯度为正数, 即 $\\nabla_{\\theta} L(\\theta) > 0$,\n",
    "只要将 $\\theta$ 减去一个正数 $\\eta \\cdot \\nabla_{\\theta} L(\\theta)$ 即可使损失函数减小。\n",
    " 其中 $\\eta$ 是学习率 (Learning Rate, 简写为 lr)，为一个很小的正数。\n",
    " \n",
    "如果增加 $\\theta$, 损失函数 $L(\\theta)$ 变小，那么 $\\nabla_{\\theta} L(\\theta) < 0$,\n",
    "将 $\\theta$ 减去一个负数 $\\eta \\cdot \\nabla_{\\theta} L$ 同样可使损失函数减小。\n",
    "你发现无论梯度是正是负，只要将参数减去学习率乘以梯度，总可以将损失降低。\n",
    "\n",
    "这就是梯度下降的原理！\n",
    "\n",
    "接下来会以交互式可视化的方式，展示几种最常用的梯度下降算法。\n",
    "\n",
    "## 原始的梯度下降算法\n",
    "\n",
    "\n",
    "\n",
    "$$\\theta = \\theta - \\eta \\cdot \\nabla_{\\theta} L(\\theta)$$"
   ]
  },
  {
   "cell_type": "code",
   "execution_count": 163,
   "metadata": {
    "ExecuteTime": {
     "end_time": "2019-06-04T13:49:58.526869Z",
     "start_time": "2019-06-04T13:49:58.116846Z"
    }
   },
   "outputs": [
    {
     "data": {
      "application/vnd.jupyter.widget-view+json": {
       "model_id": "dc9194a104c64b0faf0f34e859a19bf4",
       "version_major": 2,
       "version_minor": 0
      },
      "text/plain": [
       "interactive(children=(FloatSlider(value=0.05, description='lr', max=1.0, step=0.001), IntSlider(value=50, desc…"
      ]
     },
     "metadata": {},
     "output_type": "display_data"
    }
   ],
   "source": [
    "#最原始的梯度下降法\n",
    "def sgd(x1, x2, s1, s2, lr):\n",
    "    dfdx1, dfdx2 = f_grad(x1, x2)\n",
    "    return (x1 - lr * dfdx1, x2 - lr * dfdx2, 0, 0, lr)\n",
    "\n",
    "#定义了4个变量控件，可以随时调节，查看效果 (最小值，最大值，步长)\n",
    "@interact(lr=(0, 1, 0.001),epoch=(0,100,1),init_x1=(-5,5,0.1),init_x2=(-5,5,0.1),continuous_update=False)\n",
    "def visualize_gradient_descent(lr=0.05,epoch=50,init_x1=-4,init_x2=-2.4):\n",
    "    res = train_2d(sgd, lr,epoch,init_x1,init_x2)\n",
    "    plot_2d(res,(12,8), title='原始SGD')"
   ]
  },
  {
   "cell_type": "markdown",
   "metadata": {},
   "source": [
    "## 带动量的梯度下降算法\n",
    "\n",
    "\n",
    "$$v_t = \\gamma v_{t-1} + \\eta \\cdot \\nabla_{\\theta} L(\\theta)$$\n",
    "$$\\theta = \\theta - v_t$$\n",
    "\n",
    "可见下图。对以前的梯度做了指数加权平均，不会像原始的那样直接折线那么厉害，因为有之前速度影响，所以瞬间就折，而是会再向原来那个方向前进一段距离,也可以理解为对原始梯度做了一个平滑,然后再用来做梯度下降"
   ]
  },
  {
   "cell_type": "code",
   "execution_count": 164,
   "metadata": {
    "ExecuteTime": {
     "end_time": "2019-06-04T13:50:08.781456Z",
     "start_time": "2019-06-04T13:50:08.337430Z"
    }
   },
   "outputs": [
    {
     "data": {
      "application/vnd.jupyter.widget-view+json": {
       "model_id": "fa818040f54541028cd558253b029302",
       "version_major": 2,
       "version_minor": 0
      },
      "text/plain": [
       "interactive(children=(FloatSlider(value=0.1, description='lr', max=0.99, step=0.001), FloatSlider(value=0.1, d…"
      ]
     },
     "metadata": {},
     "output_type": "display_data"
    }
   ],
   "source": [
    "@interact(lr=(0, 0.99, 0.001), gamma=(0, 0.99, 0.001),continuous_update=False,\n",
    "         epoch=(0,100,1),init_x1=(-5,5,0.1),init_x2=(-5,5,0.1))\n",
    "def visualize_sgd_momentum(lr=0.1, gamma=0.1,epoch=10,init_x1=-4,init_x2=-2.4):\n",
    "    '''lr: learning rate\n",
    "    gamma: parameter for momentum sgd\n",
    "    每次都会根据上一次的动量来进行更新\n",
    "    '''\n",
    "    \n",
    "    def momentum(x1, x2, v1, v2, lr):\n",
    "        dfdx1, dfdx2 = f_grad(x1, x2)\n",
    "        v1 = gamma * v1 + lr * dfdx1\n",
    "        v2 = gamma * v2 + lr * dfdx2\n",
    "        x1 = x1 - v1\n",
    "        x2 = x2 - v2\n",
    "        return (x1, x2, v1, v2, lr)\n",
    "    \n",
    "    res = train_2d(momentum, lr,epoch,init_x1,init_x2)\n",
    "    plot_2d(res, title='momentum')"
   ]
  },
  {
   "cell_type": "markdown",
   "metadata": {},
   "source": [
    "## 带惯性的梯度下降算法\n",
    "\n",
    "\n",
    "\n",
    "$$v_t = \\gamma v_{t-1} + (1 - \\gamma) \\cdot \\nabla_{\\theta} L(\\theta)$$\n",
    "$$\\theta = \\theta - \\eta v_t$$"
   ]
  },
  {
   "cell_type": "code",
   "execution_count": 177,
   "metadata": {
    "ExecuteTime": {
     "end_time": "2019-06-04T14:14:21.861567Z",
     "start_time": "2019-06-04T14:14:21.435543Z"
    }
   },
   "outputs": [
    {
     "data": {
      "application/vnd.jupyter.widget-view+json": {
       "model_id": "d1930213e4874d0285412215546d9175",
       "version_major": 2,
       "version_minor": 0
      },
      "text/plain": [
       "interactive(children=(FloatSlider(value=0.1, description='lr', max=0.99, step=0.01), FloatSlider(value=0.1, de…"
      ]
     },
     "metadata": {},
     "output_type": "display_data"
    }
   ],
   "source": [
    "@interact(lr=(0, 0.99, 0.01), gamma=(0, 0.99, 0.01),\n",
    "          continuous_update=False,epoch=(0,100,1),init_x1=(-5,5,0.1),init_x2=(-5,5,0.1))\n",
    "def visualize_sgd_inertia(lr=0.1, gamma=0.1,epoch=10,init_x1=-4,init_x2=-2.4):\n",
    "    '''lr: learning rate\n",
    "    gamma: parameter for inertia sgd'''\n",
    "    \n",
    "    def inertia(x1, x2, v1, v2, lr):\n",
    "        dfdx1, dfdx2 = f_grad(x1, x2)\n",
    "        v1 = gamma * v1 + (1 - gamma) * dfdx1\n",
    "        v2 = gamma * v2 + (1 - gamma) * dfdx2\n",
    "        x1 = x1 - lr * v1\n",
    "        x2 = x2 - lr * v2\n",
    "        return (x1, x2, v1, v2, lr)\n",
    "    \n",
    "    res = train_2d(inertia, lr,epoch,init_x1,init_x2)\n",
    "    plot_2d(res, title='inertia')"
   ]
  },
  {
   "cell_type": "markdown",
   "metadata": {},
   "source": [
    "## Adagrad 自适应调整的梯度下降\n",
    "\n",
    "$$ g_t =  \\nabla_{\\theta} L(\\theta)$$\n",
    "\n",
    "$$ G = \\sum_{t} g_t^2$$\n",
    "\n",
    "$$\\theta = \\theta - \\frac{\\eta}{\\sqrt{G + \\epsilon}} \\cdot g_t$$\n",
    "\n",
    "可以自动调节学习率，但是下降的太快，学习率很小，可能导致后期学不到东西了\n",
    "此方法也经常用于参数未标准化时，提供不通的学习率，以便于快速到达最小点"
   ]
  },
  {
   "cell_type": "code",
   "execution_count": 179,
   "metadata": {
    "ExecuteTime": {
     "end_time": "2019-06-04T14:16:26.637704Z",
     "start_time": "2019-06-04T14:16:26.213680Z"
    }
   },
   "outputs": [
    {
     "data": {
      "application/vnd.jupyter.widget-view+json": {
       "model_id": "eb6a78f274a44ffbb6592d7fd995b8a6",
       "version_major": 2,
       "version_minor": 0
      },
      "text/plain": [
       "interactive(children=(FloatSlider(value=0.1, description='lr', max=4.0, step=0.01), IntSlider(value=10, descri…"
      ]
     },
     "metadata": {},
     "output_type": "display_data"
    }
   ],
   "source": [
    "@interact(lr=(0, 4, 0.01),\n",
    "          continuous_update=False,epoch=(0,100,1),init_x1=(-5,5,0.1),init_x2=(-5,5,0.1))\n",
    "def visualize_adagrad(lr=0.1,epoch=10,init_x1=-4,init_x2=-2.4):\n",
    "    '''lr: learning rate'''\n",
    "    def adagrad_2d(x1, x2, s1, s2, lr):\n",
    "        g1, g2 = f_grad(x1, x2)\n",
    "        eps = 1e-6\n",
    "        s1 += g1 ** 2\n",
    "        s2 += g2 ** 2\n",
    "        x1 -= lr / math.sqrt(s1 + eps) * g1\n",
    "        x2 -= lr / math.sqrt(s2 + eps) * g2\n",
    "        return x1, x2, s1, s2, lr\n",
    "    \n",
    "    res = train_2d(adagrad_2d, lr,epoch,init_x1,init_x2)\n",
    "    plot_2d(res, title='Adagrad')"
   ]
  },
  {
   "cell_type": "markdown",
   "metadata": {},
   "source": [
    "## RMSProp \n",
    "\n",
    "$$ g = \\nabla_{\\theta} L(\\theta) $$\n",
    "\n",
    "$$ E\\left[g^2\\right] = \\gamma E\\left[g^2\\right] + (1-\\gamma) g^2 $$\n",
    "\n",
    "$$\\theta = \\theta - \\frac{\\eta}{\\sqrt{E\\left[g^2\\right] + \\epsilon}} \\cdot g$$\n",
    "\n",
    "对Adagrad做了相应修改，让学习率不会下降了太快导致后期学不到东西,相当于做了归一化,调整不同参数的步长，加快收敛速度"
   ]
  },
  {
   "cell_type": "code",
   "execution_count": 173,
   "metadata": {
    "ExecuteTime": {
     "end_time": "2019-06-04T14:00:43.014732Z",
     "start_time": "2019-06-04T14:00:42.598708Z"
    }
   },
   "outputs": [
    {
     "data": {
      "application/vnd.jupyter.widget-view+json": {
       "model_id": "4a087664402b4196aa7f02823d97d01f",
       "version_major": 2,
       "version_minor": 0
      },
      "text/plain": [
       "interactive(children=(FloatSlider(value=0.1, description='lr', max=4.0, step=0.001), FloatSlider(value=0.9, de…"
      ]
     },
     "metadata": {},
     "output_type": "display_data"
    }
   ],
   "source": [
    "@interact(lr=(0, 4, 0.001), \n",
    "          gamma=(0, 0.99, 0.001),\n",
    "          continuous_update=False,epoch=(0,100,1),init_x1=(-5,5,0.1),init_x2=(-5,5,0.1))\n",
    "def visualize_rmsprop(lr=0.1, gamma=0.9,epoch=50,init_x1=-4,init_x2=-4):\n",
    "    '''lr: learning rate, \n",
    "       gamma: momentum'''  \n",
    "    def rmsprop_2d(x1, x2, s1, s2, lr):\n",
    "        eps = 1e-6\n",
    "        g1, g2 = f_grad(x1, x2)\n",
    "        s1 = gamma * s1 + (1 - gamma) * g1 ** 2\n",
    "        s2 = gamma * s2 + (1 - gamma) * g2 ** 2\n",
    "        x1 -= lr / math.sqrt(s1 + eps) * g1\n",
    "        x2 -= lr / math.sqrt(s2 + eps) * g2\n",
    "        return x1, x2, s1, s2, lr\n",
    "\n",
    "    res = train_2d(rmsprop_2d, lr,epoch,init_x1,init_x2)\n",
    "    plot_2d(res, title='RMSProp')"
   ]
  },
  {
   "cell_type": "markdown",
   "metadata": {},
   "source": [
    "## Adam\n",
    "\n",
    "$$ g = \\nabla_{\\theta} L(\\theta) $$\n",
    "\n",
    "$$ m = \\beta_1 m + (1 - \\beta_1) g $$\n",
    "\n",
    "$$ n = \\beta_2 n + (1 - \\beta_2) g^2 $$\n",
    "\n",
    "$$ \\hat{m} = \\frac{m}{(1 - \\beta_1^t)} $$\n",
    "\n",
    "$$ \\hat{n} = \\frac{n}{(1 - \\beta_2^t)} $$\n",
    "\n",
    "$$\\theta = \\theta - \\frac{\\eta}{\\sqrt{\\hat{n}} + \\epsilon} \\hat{m}$$\n",
    "\n",
    "结合Momentum和Adagrad的2个特征，即做指数加权平均，又做归一化"
   ]
  },
  {
   "cell_type": "code",
   "execution_count": 180,
   "metadata": {
    "ExecuteTime": {
     "end_time": "2019-06-04T14:32:34.174044Z",
     "start_time": "2019-06-04T14:32:33.744019Z"
    }
   },
   "outputs": [
    {
     "data": {
      "application/vnd.jupyter.widget-view+json": {
       "model_id": "7a9d7341a1e84d1aa02ceda04050f210",
       "version_major": 2,
       "version_minor": 0
      },
      "text/plain": [
       "interactive(children=(FloatSlider(value=0.1, description='lr', max=1.0, step=0.001), FloatSlider(value=0.9, de…"
      ]
     },
     "metadata": {},
     "output_type": "display_data"
    }
   ],
   "source": [
    "@interact(lr=(0, 1, 0.001), \n",
    "          beta1=(0, 0.999, 0.001),\n",
    "          beta2=(0, 0.999, 0.001),\n",
    "          continuous_update=False,epoch=(0,100,1),init_x1=(-5,5,0.1),init_x2=(-5,5,0.1))\n",
    "def visualize_adam(lr=0.1, beta1=0.9, beta2=0.999,epoch=10,init_x1=-4,init_x2=-2.4):\n",
    "    '''lr: learning rate\n",
    "    beta1: parameter for E(g)\n",
    "    beta2: parameter for E(g^2)\n",
    "    '''  \n",
    "    def Deltax(m, n, g, t):\n",
    "        eps = 1.0E-6\n",
    "        m = beta1 * m + (1 - beta1) * g\n",
    "        n = beta2 * n + (1 - beta2) * g*g\n",
    "        m_hat = m / (1 - beta1**t)\n",
    "        n_hat = n / (1 - beta2**t)\n",
    "        dx = lr * m_hat / (math.sqrt(n_hat) + eps)\n",
    "        return m, n, dx\n",
    "        \n",
    "    def adam_2d(x1, x2, m1, n1, m2, n2, lr, t):\n",
    "        '''m1, m2: E(g1), E(g2)\n",
    "           n1, n2: E(g1^2), E(g2^2) where E() is expectation\n",
    "           lr: learning rate\n",
    "           t: time step'''\n",
    "        eps = 1e-6\n",
    "        g1, g2 = f_grad(x1, x2)\n",
    "        m1, n1, dx1 = Deltax(m1, n1, g1, t)\n",
    "        m2, n2, dx2 = Deltax(m2, n2, g2, t)       \n",
    "        x1 -= dx1\n",
    "        x2 -= dx2\n",
    "        return x1, x2, m1, n1, m2, n2, lr\n",
    "    \n",
    "    def train_adam(trainer, lr,epoch=10,init_x1=-4,init_x2=-4):\n",
    "        \"\"\"Train a 2d object function with a customized trainer\"\"\"\n",
    "        x1, x2 = init_x1,init_x2\n",
    "        m1, n1, m2, n2 = 0, 0, 0, 0\n",
    "        res = [(x1, x2)]\n",
    "        for i in range(epoch):\n",
    "            x1, x2, m1, n1, m2, n2, lr = trainer(x1, x2, m1, n1, m2, n2, lr, i+1)\n",
    "            res.append((x1, x2))\n",
    "        return res\n",
    "    \n",
    "    res = train_adam(adam_2d, lr,epoch,init_x1,init_x2)\n",
    "    plot_2d(res, title='adam')"
   ]
  },
  {
   "cell_type": "code",
   "execution_count": null,
   "metadata": {},
   "outputs": [],
   "source": []
  }
 ],
 "metadata": {
  "kernelspec": {
   "display_name": "Python 3",
   "language": "python",
   "name": "python3"
  },
  "language_info": {
   "codemirror_mode": {
    "name": "ipython",
    "version": 3
   },
   "file_extension": ".py",
   "mimetype": "text/x-python",
   "name": "python",
   "nbconvert_exporter": "python",
   "pygments_lexer": "ipython3",
   "version": "3.7.3"
  },
  "widgets": {
   "application/vnd.jupyter.widget-state+json": {
    "state": {
     "017371b51e7a452e943986d2b5a189f9": {
      "model_module": "jupyter-js-widgets",
      "model_module_version": "~2.1.4",
      "model_name": "VBoxModel",
      "state": {
       "_dom_classes": [
        "widget-interact"
       ],
       "_model_module_version": "~2.1.4",
       "_view_module_version": "~2.1.4",
       "children": [
        "IPY_MODEL_a2d86c31534a4bceabae9e581bf94803",
        "IPY_MODEL_b082087ff5c040c995e88349be4a7377"
       ],
       "layout": "IPY_MODEL_6cf23ab9b5524238b1a4740f84575f8c"
      }
     },
     "01ef507f27b84e1399b9ff1b442a90c3": {
      "model_module": "jupyter-js-widgets",
      "model_module_version": "~2.1.4",
      "model_name": "LayoutModel",
      "state": {
       "_model_module_version": "~2.1.4",
       "_view_module_version": "~2.1.4"
      }
     },
     "02d94642c0164f72b30688602188e873": {
      "model_module": "jupyter-js-widgets",
      "model_module_version": "~2.1.4",
      "model_name": "OutputModel",
      "state": {
       "_dom_classes": [],
       "_model_module": "jupyter-js-widgets",
       "_model_module_version": "~2.1.4",
       "_view_module": "jupyter-js-widgets",
       "_view_module_version": "~2.1.4",
       "layout": "IPY_MODEL_61fdc61a52504919bb3e813c66eab80b",
       "msg_throttle": 1
      }
     },
     "03a0f7d8452d4fc19fbda7ae48517880": {
      "model_module": "jupyter-js-widgets",
      "model_module_version": "~2.1.4",
      "model_name": "LayoutModel",
      "state": {
       "_model_module_version": "~2.1.4",
       "_view_module_version": "~2.1.4"
      }
     },
     "03a6d2a5e84b46f0b562e2ae40509bef": {
      "model_module": "jupyter-js-widgets",
      "model_module_version": "~2.1.4",
      "model_name": "LayoutModel",
      "state": {
       "_model_module_version": "~2.1.4",
       "_view_module_version": "~2.1.4"
      }
     },
     "050d1bedb7c646b98e539de57685395d": {
      "model_module": "jupyter-js-widgets",
      "model_module_version": "~2.1.4",
      "model_name": "OutputModel",
      "state": {
       "_dom_classes": [],
       "_model_module": "jupyter-js-widgets",
       "_model_module_version": "~2.1.4",
       "_view_module": "jupyter-js-widgets",
       "_view_module_version": "~2.1.4",
       "layout": "IPY_MODEL_b189820aac83410f88600e8880ea1619",
       "msg_throttle": 1
      }
     },
     "055f73669d394b558be01b9b4ffa3c86": {
      "model_module": "jupyter-js-widgets",
      "model_module_version": "~2.1.4",
      "model_name": "FloatSliderModel",
      "state": {
       "_model_module_version": "~2.1.4",
       "_view_module_version": "~2.1.4",
       "description": "lr",
       "layout": "IPY_MODEL_4bb01f5991b04cac80329084763974c3",
       "max": 1,
       "step": 0.001,
       "value": 0.268
      }
     },
     "0679c1ed976f46e1ad535f7eafeea316": {
      "model_module": "jupyter-js-widgets",
      "model_module_version": "~2.1.4",
      "model_name": "FloatSliderModel",
      "state": {
       "_model_module_version": "~2.1.4",
       "_view_module_version": "~2.1.4",
       "description": "lr",
       "layout": "IPY_MODEL_24f9cc8a4607414eae8813b0e204851f",
       "max": 1,
       "step": 0.001,
       "value": 0.398
      }
     },
     "08c3320c92a545a0b63100e9115e95d8": {
      "model_module": "jupyter-js-widgets",
      "model_module_version": "~2.1.4",
      "model_name": "LayoutModel",
      "state": {
       "_model_module_version": "~2.1.4",
       "_view_module_version": "~2.1.4"
      }
     },
     "099eaa67909e4f1c9f903fa1140f9b6b": {
      "model_module": "jupyter-js-widgets",
      "model_module_version": "~2.1.4",
      "model_name": "VBoxModel",
      "state": {
       "_dom_classes": [
        "widget-interact"
       ],
       "_model_module_version": "~2.1.4",
       "_view_module_version": "~2.1.4",
       "children": [
        "IPY_MODEL_981ba1d1c5a44d21b26929a2132ceeca",
        "IPY_MODEL_ccce9db801af4d51b5f1dbe07e147947",
        "IPY_MODEL_4b8bd9e82f4c4f2bbceb78f8c5276c34"
       ],
       "layout": "IPY_MODEL_89e9c4ec4c8e418e95d36e8cdf04bc68"
      }
     },
     "09c628eea35f40eea043ce1139f13871": {
      "model_module": "jupyter-js-widgets",
      "model_module_version": "~2.1.4",
      "model_name": "FloatSliderModel",
      "state": {
       "_model_module_version": "~2.1.4",
       "_view_module_version": "~2.1.4",
       "description": "mu",
       "layout": "IPY_MODEL_d9015ecb14064f3c996ca45e47f88eec",
       "max": 0.99,
       "step": 0.001,
       "value": 0.9
      }
     },
     "0ac30b5e3b5546aca3803e35ab5aece5": {
      "model_module": "jupyter-js-widgets",
      "model_module_version": "~2.1.4",
      "model_name": "LayoutModel",
      "state": {
       "_model_module_version": "~2.1.4",
       "_view_module_version": "~2.1.4"
      }
     },
     "0b0d84c87c2140e48ff3b63104b4e456": {
      "model_module": "jupyter-js-widgets",
      "model_module_version": "~2.1.4",
      "model_name": "VBoxModel",
      "state": {
       "_dom_classes": [
        "widget-interact"
       ],
       "_model_module_version": "~2.1.4",
       "_view_module_version": "~2.1.4",
       "children": [
        "IPY_MODEL_e480e06b9c8c42af9469a15e5ac9d6c3",
        "IPY_MODEL_1bdecff6fed44991b8f4af4538e415e8",
        "IPY_MODEL_bc17ee6a9b9e4bf19fe714ec584af40c"
       ],
       "layout": "IPY_MODEL_195e3f91d7b749f59b1dd29913675cab"
      }
     },
     "0bbbf29177cf45db98f54f2520c68a3a": {
      "model_module": "jupyter-js-widgets",
      "model_module_version": "~2.1.4",
      "model_name": "FloatSliderModel",
      "state": {
       "_model_module_version": "~2.1.4",
       "_view_module_version": "~2.1.4",
       "description": "lr",
       "layout": "IPY_MODEL_dcb0e97609f94ee082f32a9475d86bf4",
       "max": 1,
       "step": 0.001,
       "value": 0.33
      }
     },
     "0c0a24d15a7949718a160e439e804d9e": {
      "model_module": "jupyter-js-widgets",
      "model_module_version": "~2.1.4",
      "model_name": "VBoxModel",
      "state": {
       "_dom_classes": [
        "widget-interact"
       ],
       "_model_module_version": "~2.1.4",
       "_view_module_version": "~2.1.4",
       "children": [
        "IPY_MODEL_cc19cda079bf41629cc167fd5219bd27",
        "IPY_MODEL_7dec28ec97894e37922af794c052579d",
        "IPY_MODEL_fdd531c098ce43018f29676308bc6b08"
       ],
       "layout": "IPY_MODEL_78d33b15058340bf96c1f5ab36dfbab6"
      }
     },
     "0cc4547416a94c75b72e000702f65d49": {
      "model_module": "jupyter-js-widgets",
      "model_module_version": "~2.1.4",
      "model_name": "FloatSliderModel",
      "state": {
       "_model_module_version": "~2.1.4",
       "_view_module_version": "~2.1.4",
       "description": "lr",
       "layout": "IPY_MODEL_708b654457ce42ec96ec3bf128838766",
       "max": 0.99,
       "step": 0.01
      }
     },
     "0d9626acc2494ea396e438eb308cd319": {
      "model_module": "jupyter-js-widgets",
      "model_module_version": "~2.1.4",
      "model_name": "LayoutModel",
      "state": {
       "_model_module_version": "~2.1.4",
       "_view_module_version": "~2.1.4"
      }
     },
     "1004a188c64247f8b2ab5061f53dc943": {
      "model_module": "jupyter-js-widgets",
      "model_module_version": "~2.1.4",
      "model_name": "LayoutModel",
      "state": {
       "_model_module_version": "~2.1.4",
       "_view_module_version": "~2.1.4"
      }
     },
     "11b4346518a848558f0842a9c8143243": {
      "model_module": "jupyter-js-widgets",
      "model_module_version": "~2.1.4",
      "model_name": "VBoxModel",
      "state": {
       "_dom_classes": [
        "widget-interact"
       ],
       "_model_module_version": "~2.1.4",
       "_view_module_version": "~2.1.4",
       "children": [
        "IPY_MODEL_75619b2802ca4e13909e0bb2e4652865",
        "IPY_MODEL_1f19479916774372a2992f126d247b19",
        "IPY_MODEL_6a4fccd2d9fb471a81ebd9d1d871002a"
       ],
       "layout": "IPY_MODEL_96e49ab33c464a1f8a374d1393b9969b"
      }
     },
     "12096d19729940c1a268db467bb29ad8": {
      "model_module": "jupyter-js-widgets",
      "model_module_version": "~2.1.4",
      "model_name": "FloatSliderModel",
      "state": {
       "_model_module_version": "~2.1.4",
       "_view_module_version": "~2.1.4",
       "description": "lr",
       "layout": "IPY_MODEL_ee9b015b7e4e45cb8793c36859a48a7b",
       "max": 1,
       "step": 0.001,
       "value": 0.114
      }
     },
     "1224b4c5ffc745ddb50088cd1d5c6dbb": {
      "model_module": "jupyter-js-widgets",
      "model_module_version": "~2.1.4",
      "model_name": "OutputModel",
      "state": {
       "_dom_classes": [],
       "_model_module": "jupyter-js-widgets",
       "_model_module_version": "~2.1.4",
       "_view_module": "jupyter-js-widgets",
       "_view_module_version": "~2.1.4",
       "layout": "IPY_MODEL_26dc44d548e847f8abbc993dd1080729",
       "msg_throttle": 1
      }
     },
     "124b0d0590a94b8bbf14136bad0a69d9": {
      "model_module": "jupyter-js-widgets",
      "model_module_version": "~2.1.4",
      "model_name": "LayoutModel",
      "state": {
       "_model_module_version": "~2.1.4",
       "_view_module_version": "~2.1.4"
      }
     },
     "12ab9c7f4bab4e368faf12229c400b6b": {
      "model_module": "jupyter-js-widgets",
      "model_module_version": "~2.1.4",
      "model_name": "LayoutModel",
      "state": {
       "_model_module_version": "~2.1.4",
       "_view_module_version": "~2.1.4"
      }
     },
     "13e10819c61c4998989de6635058e538": {
      "model_module": "jupyter-js-widgets",
      "model_module_version": "~2.1.4",
      "model_name": "LayoutModel",
      "state": {
       "_model_module_version": "~2.1.4",
       "_view_module_version": "~2.1.4"
      }
     },
     "149269631fc54b0aa1f193ed770dbad3": {
      "model_module": "jupyter-js-widgets",
      "model_module_version": "~2.1.4",
      "model_name": "OutputModel",
      "state": {
       "_dom_classes": [],
       "_model_module": "jupyter-js-widgets",
       "_model_module_version": "~2.1.4",
       "_view_module": "jupyter-js-widgets",
       "_view_module_version": "~2.1.4",
       "layout": "IPY_MODEL_422e52b416f74c98bb5b29d6c0553c84",
       "msg_throttle": 1
      }
     },
     "14a2fd5f0f274d6ba80cc299842d53b0": {
      "model_module": "jupyter-js-widgets",
      "model_module_version": "~2.1.4",
      "model_name": "VBoxModel",
      "state": {
       "_dom_classes": [
        "widget-interact"
       ],
       "_model_module_version": "~2.1.4",
       "_view_module_version": "~2.1.4",
       "children": [
        "IPY_MODEL_e917d4ad7a884d1d877edb280fc8db21",
        "IPY_MODEL_2535e75c7d01427e8087e7d932e9beb8",
        "IPY_MODEL_6e8443c05c6f4874975f447457c979cc"
       ],
       "layout": "IPY_MODEL_715d7a1d835a4e0f85d41c9d42a2995a"
      }
     },
     "15a718c025e5482da67770f5d482a05a": {
      "model_module": "jupyter-js-widgets",
      "model_module_version": "~2.1.4",
      "model_name": "VBoxModel",
      "state": {
       "_dom_classes": [
        "widget-interact"
       ],
       "_model_module_version": "~2.1.4",
       "_view_module_version": "~2.1.4",
       "children": [
        "IPY_MODEL_5076448b09a04ab5aebf3d5e7894410d",
        "IPY_MODEL_e4ffe680130849d5a035e2d66e203320",
        "IPY_MODEL_c0b287a837a443d5b37006c0e742ee3f"
       ],
       "layout": "IPY_MODEL_08c3320c92a545a0b63100e9115e95d8"
      }
     },
     "1601144e56474e8ebcf7cfa9493b7c18": {
      "model_module": "jupyter-js-widgets",
      "model_module_version": "~2.1.4",
      "model_name": "FloatSliderModel",
      "state": {
       "_model_module_version": "~2.1.4",
       "_view_module_version": "~2.1.4",
       "description": "lr",
       "layout": "IPY_MODEL_ec3b5b7240114535b6e9ab6baf8d107c",
       "max": 1,
       "step": 0.02,
       "value": 0.12
      }
     },
     "160dd9f65c7a4f2ea5dd3309fdc458b6": {
      "model_module": "jupyter-js-widgets",
      "model_module_version": "~2.1.4",
      "model_name": "LayoutModel",
      "state": {
       "_model_module_version": "~2.1.4",
       "_view_module_version": "~2.1.4"
      }
     },
     "171d4820c56548efa933f738a6a751e5": {
      "model_module": "jupyter-js-widgets",
      "model_module_version": "~2.1.4",
      "model_name": "FloatSliderModel",
      "state": {
       "_model_module_version": "~2.1.4",
       "_view_module_version": "~2.1.4",
       "description": "lr",
       "layout": "IPY_MODEL_918fc4e5dcc646ea9ff895c756b1cf9c",
       "max": 1,
       "step": 0.001,
       "value": 0.125
      }
     },
     "193e32b88ba348689cc36b0f5f9fb7fe": {
      "model_module": "jupyter-js-widgets",
      "model_module_version": "~2.1.4",
      "model_name": "LayoutModel",
      "state": {
       "_model_module_version": "~2.1.4",
       "_view_module_version": "~2.1.4"
      }
     },
     "195e3f91d7b749f59b1dd29913675cab": {
      "model_module": "jupyter-js-widgets",
      "model_module_version": "~2.1.4",
      "model_name": "LayoutModel",
      "state": {
       "_model_module_version": "~2.1.4",
       "_view_module_version": "~2.1.4"
      }
     },
     "1a0ea46c838f4ed094eee2f2b16e8f01": {
      "model_module": "jupyter-js-widgets",
      "model_module_version": "~2.1.4",
      "model_name": "LayoutModel",
      "state": {
       "_model_module_version": "~2.1.4",
       "_view_module_version": "~2.1.4"
      }
     },
     "1a53a89e7cd44167abac18621a1d51fc": {
      "model_module": "jupyter-js-widgets",
      "model_module_version": "~2.1.4",
      "model_name": "LayoutModel",
      "state": {
       "_model_module_version": "~2.1.4",
       "_view_module_version": "~2.1.4"
      }
     },
     "1b6ddec5e662477b9d4504a49ffab6d6": {
      "model_module": "jupyter-js-widgets",
      "model_module_version": "~2.1.4",
      "model_name": "LayoutModel",
      "state": {
       "_model_module_version": "~2.1.4",
       "_view_module_version": "~2.1.4"
      }
     },
     "1b6f0f0241114a4698b1982f5e43061c": {
      "model_module": "jupyter-js-widgets",
      "model_module_version": "~2.1.4",
      "model_name": "LayoutModel",
      "state": {
       "_model_module_version": "~2.1.4",
       "_view_module_version": "~2.1.4"
      }
     },
     "1ba61c5ef0c84182b9557b2a819d5e2c": {
      "model_module": "jupyter-js-widgets",
      "model_module_version": "~2.1.4",
      "model_name": "LayoutModel",
      "state": {
       "_model_module_version": "~2.1.4",
       "_view_module_version": "~2.1.4"
      }
     },
     "1bdecff6fed44991b8f4af4538e415e8": {
      "model_module": "jupyter-js-widgets",
      "model_module_version": "~2.1.4",
      "model_name": "FloatSliderModel",
      "state": {
       "_model_module_version": "~2.1.4",
       "_view_module_version": "~2.1.4",
       "description": "gamma",
       "layout": "IPY_MODEL_2dffbc9b086c4926906f13a5e0ef1d81",
       "max": 0.99,
       "step": 0.001,
       "value": 0.9
      }
     },
     "1c282d4a54b843638848838f88e8ea19": {
      "model_module": "jupyter-js-widgets",
      "model_module_version": "~2.1.4",
      "model_name": "LayoutModel",
      "state": {
       "_model_module_version": "~2.1.4",
       "_view_module_version": "~2.1.4"
      }
     },
     "1c408bbd6087490c9bcee5b1020211ed": {
      "model_module": "jupyter-js-widgets",
      "model_module_version": "~2.1.4",
      "model_name": "OutputModel",
      "state": {
       "_dom_classes": [],
       "_model_module": "jupyter-js-widgets",
       "_model_module_version": "~2.1.4",
       "_view_module": "jupyter-js-widgets",
       "_view_module_version": "~2.1.4",
       "layout": "IPY_MODEL_6b1d61e58ad347ab9b3f1dc65055ac42",
       "msg_throttle": 1
      }
     },
     "1ccf1d11f3844173a3840ef3ee1cbf4c": {
      "model_module": "jupyter-js-widgets",
      "model_module_version": "~2.1.4",
      "model_name": "LayoutModel",
      "state": {
       "_model_module_version": "~2.1.4",
       "_view_module_version": "~2.1.4"
      }
     },
     "1f19479916774372a2992f126d247b19": {
      "model_module": "jupyter-js-widgets",
      "model_module_version": "~2.1.4",
      "model_name": "FloatSliderModel",
      "state": {
       "_model_module_version": "~2.1.4",
       "_view_module_version": "~2.1.4",
       "description": "gamma",
       "layout": "IPY_MODEL_f96ff9718f1d45e8a15c7d2ecf810273",
       "max": 0.99,
       "step": 0.1
      }
     },
     "1f3cb484d014440daf268c8a0e787a7e": {
      "model_module": "jupyter-js-widgets",
      "model_module_version": "~2.1.4",
      "model_name": "FloatSliderModel",
      "state": {
       "_model_module_version": "~2.1.4",
       "_view_module_version": "~2.1.4",
       "description": "lr",
       "layout": "IPY_MODEL_1b6ddec5e662477b9d4504a49ffab6d6",
       "max": 0.99,
       "step": 0.01,
       "value": 0.38
      }
     },
     "1f93bc9e5107490b88241b747b261bde": {
      "model_module": "jupyter-js-widgets",
      "model_module_version": "~2.1.4",
      "model_name": "LayoutModel",
      "state": {
       "_model_module_version": "~2.1.4",
       "_view_module_version": "~2.1.4"
      }
     },
     "20aa293d48f5472886bbb77f3f14358a": {
      "model_module": "jupyter-js-widgets",
      "model_module_version": "~2.1.4",
      "model_name": "LayoutModel",
      "state": {
       "_model_module_version": "~2.1.4",
       "_view_module_version": "~2.1.4"
      }
     },
     "20bd08ecfaa844f289f407d87d8f226d": {
      "model_module": "jupyter-js-widgets",
      "model_module_version": "~2.1.4",
      "model_name": "FloatSliderModel",
      "state": {
       "_model_module_version": "~2.1.4",
       "_view_module_version": "~2.1.4",
       "description": "mu",
       "layout": "IPY_MODEL_3d0477c11c044756891ec945c1caeb22",
       "max": 0.99,
       "step": 0.001,
       "value": 0.084
      }
     },
     "20c830ef34bb41859b4b9b7d1bdcc096": {
      "model_module": "jupyter-js-widgets",
      "model_module_version": "~2.1.4",
      "model_name": "LayoutModel",
      "state": {
       "_model_module_version": "~2.1.4",
       "_view_module_version": "~2.1.4"
      }
     },
     "215d87c52adb4e59885a6c05fa64df0d": {
      "model_module": "jupyter-js-widgets",
      "model_module_version": "~2.1.4",
      "model_name": "VBoxModel",
      "state": {
       "_dom_classes": [
        "widget-interact"
       ],
       "_model_module_version": "~2.1.4",
       "_view_module_version": "~2.1.4",
       "children": [
        "IPY_MODEL_51079ab79ca04a8e9147fcebbaf47460",
        "IPY_MODEL_a686e4fcd3994ba6ab48ff05961dbb2d"
       ],
       "layout": "IPY_MODEL_ae2b55aa20a14bbe9fafb8142ee88d8e"
      }
     },
     "216c6415c01a44a9a316b2a90e118d7a": {
      "model_module": "jupyter-js-widgets",
      "model_module_version": "~2.1.4",
      "model_name": "OutputModel",
      "state": {
       "_dom_classes": [],
       "_model_module": "jupyter-js-widgets",
       "_model_module_version": "~2.1.4",
       "_view_module": "jupyter-js-widgets",
       "_view_module_version": "~2.1.4",
       "layout": "IPY_MODEL_c3c7843655654b2cba897cc4fcec9d6e",
       "msg_throttle": 1
      }
     },
     "21a5637f46bb467ca120851a2edc9535": {
      "model_module": "jupyter-js-widgets",
      "model_module_version": "~2.1.4",
      "model_name": "LayoutModel",
      "state": {
       "_model_module_version": "~2.1.4",
       "_view_module_version": "~2.1.4"
      }
     },
     "21d42b7f536e49d0a01b366c06234112": {
      "model_module": "jupyter-js-widgets",
      "model_module_version": "~2.1.4",
      "model_name": "LayoutModel",
      "state": {
       "_model_module_version": "~2.1.4",
       "_view_module_version": "~2.1.4"
      }
     },
     "21dea7b0a1564affbe4cc0a4889f5890": {
      "model_module": "jupyter-js-widgets",
      "model_module_version": "~2.1.4",
      "model_name": "LayoutModel",
      "state": {
       "_model_module_version": "~2.1.4",
       "_view_module_version": "~2.1.4"
      }
     },
     "2313d9e34fb345d6a35b7480390eaea9": {
      "model_module": "jupyter-js-widgets",
      "model_module_version": "~2.1.4",
      "model_name": "FloatSliderModel",
      "state": {
       "_model_module_version": "~2.1.4",
       "_view_module_version": "~2.1.4",
       "description": "beta",
       "layout": "IPY_MODEL_c667e04731f8447bb934a2fb7d864a0d",
       "max": 0.99,
       "step": 0.01,
       "value": 0.38
      }
     },
     "23c25e2c36ef4535a3ef9fe5b2ccfa50": {
      "model_module": "jupyter-js-widgets",
      "model_module_version": "~2.1.4",
      "model_name": "LayoutModel",
      "state": {
       "_model_module_version": "~2.1.4",
       "_view_module_version": "~2.1.4"
      }
     },
     "23e52fe80c5a4e61926db87632fd09f8": {
      "model_module": "jupyter-js-widgets",
      "model_module_version": "~2.1.4",
      "model_name": "OutputModel",
      "state": {
       "_dom_classes": [],
       "_model_module": "jupyter-js-widgets",
       "_model_module_version": "~2.1.4",
       "_view_module": "jupyter-js-widgets",
       "_view_module_version": "~2.1.4",
       "layout": "IPY_MODEL_ac4b45aec0a14f3cb85ec13766f2cebf",
       "msg_throttle": 1
      }
     },
     "248aefa703fa4922a68ff666d3cc9eb8": {
      "model_module": "jupyter-js-widgets",
      "model_module_version": "~2.1.4",
      "model_name": "VBoxModel",
      "state": {
       "_dom_classes": [
        "widget-interact"
       ],
       "_model_module_version": "~2.1.4",
       "_view_module_version": "~2.1.4",
       "children": [
        "IPY_MODEL_8a6944448e5f41898e86f3db435eab2b",
        "IPY_MODEL_618c262b12c44ce4b90ea421adf43946",
        "IPY_MODEL_fcf3c2edff23471dadd0738545406701",
        "IPY_MODEL_beeefcd4a9454eca81599aee0934da2a"
       ],
       "layout": "IPY_MODEL_cc705158232c444185814ad1997c51a6"
      }
     },
     "249b2d01237143c283cc72795dff9813": {
      "model_module": "jupyter-js-widgets",
      "model_module_version": "~2.1.4",
      "model_name": "LayoutModel",
      "state": {
       "_model_module_version": "~2.1.4",
       "_view_module_version": "~2.1.4"
      }
     },
     "24bb92ce28c244b9b905f72c944a1e9a": {
      "model_module": "jupyter-js-widgets",
      "model_module_version": "~2.1.4",
      "model_name": "LayoutModel",
      "state": {
       "_model_module_version": "~2.1.4",
       "_view_module_version": "~2.1.4"
      }
     },
     "24f9cc8a4607414eae8813b0e204851f": {
      "model_module": "jupyter-js-widgets",
      "model_module_version": "~2.1.4",
      "model_name": "LayoutModel",
      "state": {
       "_model_module_version": "~2.1.4",
       "_view_module_version": "~2.1.4"
      }
     },
     "2535e75c7d01427e8087e7d932e9beb8": {
      "model_module": "jupyter-js-widgets",
      "model_module_version": "~2.1.4",
      "model_name": "FloatSliderModel",
      "state": {
       "_model_module_version": "~2.1.4",
       "_view_module_version": "~2.1.4",
       "description": "beta",
       "layout": "IPY_MODEL_4d5bbc65d5ac40c8a266ffd3297340de",
       "max": 0.99,
       "step": 0.001,
       "value": 0.222
      }
     },
     "26dc44d548e847f8abbc993dd1080729": {
      "model_module": "jupyter-js-widgets",
      "model_module_version": "~2.1.4",
      "model_name": "LayoutModel",
      "state": {
       "_model_module_version": "~2.1.4",
       "_view_module_version": "~2.1.4"
      }
     },
     "28a46f613e1349a2a3ecda5cd0c5338c": {
      "model_module": "jupyter-js-widgets",
      "model_module_version": "~2.1.4",
      "model_name": "OutputModel",
      "state": {
       "_dom_classes": [],
       "_model_module": "jupyter-js-widgets",
       "_model_module_version": "~2.1.4",
       "_view_module": "jupyter-js-widgets",
       "_view_module_version": "~2.1.4",
       "layout": "IPY_MODEL_249b2d01237143c283cc72795dff9813",
       "msg_throttle": 1
      }
     },
     "28d43d1252b04ebd9a00a46363c951b3": {
      "model_module": "jupyter-js-widgets",
      "model_module_version": "~2.1.4",
      "model_name": "LayoutModel",
      "state": {
       "_model_module_version": "~2.1.4",
       "_view_module_version": "~2.1.4"
      }
     },
     "291bb984a89c49038e02854ec0491f72": {
      "model_module": "jupyter-js-widgets",
      "model_module_version": "~2.1.4",
      "model_name": "LayoutModel",
      "state": {
       "_model_module_version": "~2.1.4",
       "_view_module_version": "~2.1.4"
      }
     },
     "292697e510d6400cb0f09fd00cd635e6": {
      "model_module": "jupyter-js-widgets",
      "model_module_version": "~2.1.4",
      "model_name": "LayoutModel",
      "state": {
       "_model_module_version": "~2.1.4",
       "_view_module_version": "~2.1.4"
      }
     },
     "296ee5fdd8d045bc9223e7d49715982d": {
      "model_module": "jupyter-js-widgets",
      "model_module_version": "~2.1.4",
      "model_name": "FloatSliderModel",
      "state": {
       "_model_module_version": "~2.1.4",
       "_view_module_version": "~2.1.4",
       "description": "gamma",
       "layout": "IPY_MODEL_48a41bd071c5499c9c27d24f490368eb",
       "max": 0.99,
       "step": 0.1,
       "value": 0.9
      }
     },
     "2ad5ae8e96644398a10207164638d759": {
      "model_module": "jupyter-js-widgets",
      "model_module_version": "~2.1.4",
      "model_name": "LayoutModel",
      "state": {
       "_model_module_version": "~2.1.4",
       "_view_module_version": "~2.1.4"
      }
     },
     "2b0b7d149d00444fbf889bcbc0fae8d8": {
      "model_module": "jupyter-js-widgets",
      "model_module_version": "~2.1.4",
      "model_name": "OutputModel",
      "state": {
       "_dom_classes": [],
       "_model_module": "jupyter-js-widgets",
       "_model_module_version": "~2.1.4",
       "_view_module": "jupyter-js-widgets",
       "_view_module_version": "~2.1.4",
       "layout": "IPY_MODEL_bc1643c0b0af4b98b67111474166c796",
       "msg_throttle": 1
      }
     },
     "2c32d91afd444bb59570af23c15c3140": {
      "model_module": "jupyter-js-widgets",
      "model_module_version": "~2.1.4",
      "model_name": "VBoxModel",
      "state": {
       "_dom_classes": [
        "widget-interact"
       ],
       "_model_module_version": "~2.1.4",
       "_view_module_version": "~2.1.4",
       "children": [
        "IPY_MODEL_3eb9fc6cc22f4c8d8dcef386b364f82d",
        "IPY_MODEL_9a9c82b927d24161a32ba3eccf924076"
       ],
       "layout": "IPY_MODEL_7fd48e102fe046b697b861bfb3dfd850"
      }
     },
     "2c74eedfaf3f4a6782ffac6629b38501": {
      "model_module": "jupyter-js-widgets",
      "model_module_version": "~2.1.4",
      "model_name": "FloatSliderModel",
      "state": {
       "_model_module_version": "~2.1.4",
       "_view_module_version": "~2.1.4",
       "description": "gamma",
       "layout": "IPY_MODEL_21d42b7f536e49d0a01b366c06234112",
       "max": 0.99,
       "step": 0.01,
       "value": 0.68
      }
     },
     "2cd6aefbde8b460d90d7525ddc3d11fe": {
      "model_module": "jupyter-js-widgets",
      "model_module_version": "~2.1.4",
      "model_name": "FloatSliderModel",
      "state": {
       "_model_module_version": "~2.1.4",
       "_view_module_version": "~2.1.4",
       "description": "lr",
       "layout": "IPY_MODEL_57070e8f280541d08a1d3f6997cbc879",
       "max": 0.99,
       "step": 0.01,
       "value": 0.04
      }
     },
     "2dd60a142d164bae98e7b06595c2b763": {
      "model_module": "jupyter-js-widgets",
      "model_module_version": "~2.1.4",
      "model_name": "OutputModel",
      "state": {
       "_dom_classes": [],
       "_model_module": "jupyter-js-widgets",
       "_model_module_version": "~2.1.4",
       "_view_module": "jupyter-js-widgets",
       "_view_module_version": "~2.1.4",
       "layout": "IPY_MODEL_db4e0458ac0d4c93a85b0f52ee8f891e",
       "msg_throttle": 1
      }
     },
     "2de522b4ae584862be52fe68a1e8722a": {
      "model_module": "jupyter-js-widgets",
      "model_module_version": "~2.1.4",
      "model_name": "LayoutModel",
      "state": {
       "_model_module_version": "~2.1.4",
       "_view_module_version": "~2.1.4"
      }
     },
     "2dffbc9b086c4926906f13a5e0ef1d81": {
      "model_module": "jupyter-js-widgets",
      "model_module_version": "~2.1.4",
      "model_name": "LayoutModel",
      "state": {
       "_model_module_version": "~2.1.4",
       "_view_module_version": "~2.1.4"
      }
     },
     "2e2f4a43edf14bc3addd559efffe4ca6": {
      "model_module": "jupyter-js-widgets",
      "model_module_version": "~2.1.4",
      "model_name": "LayoutModel",
      "state": {
       "_model_module_version": "~2.1.4",
       "_view_module_version": "~2.1.4"
      }
     },
     "2f2dca642c874cab87df499a01b946d8": {
      "model_module": "jupyter-js-widgets",
      "model_module_version": "~2.1.4",
      "model_name": "LayoutModel",
      "state": {
       "_model_module_version": "~2.1.4",
       "_view_module_version": "~2.1.4"
      }
     },
     "2f65541306a14e16ba83dcf902c5b448": {
      "model_module": "jupyter-js-widgets",
      "model_module_version": "~2.1.4",
      "model_name": "LayoutModel",
      "state": {
       "_model_module_version": "~2.1.4",
       "_view_module_version": "~2.1.4"
      }
     },
     "2f79f96173d34fd697106e74b74f0af3": {
      "model_module": "jupyter-js-widgets",
      "model_module_version": "~2.1.4",
      "model_name": "FloatSliderModel",
      "state": {
       "_model_module_version": "~2.1.4",
       "_view_module_version": "~2.1.4",
       "description": "gamma",
       "layout": "IPY_MODEL_1a0ea46c838f4ed094eee2f2b16e8f01",
       "max": 0.99,
       "step": 0.01,
       "value": 0.9
      }
     },
     "303270fb99cd4f8e94e2cc19a61189f5": {
      "model_module": "jupyter-js-widgets",
      "model_module_version": "~2.1.4",
      "model_name": "LayoutModel",
      "state": {
       "_model_module_version": "~2.1.4",
       "_view_module_version": "~2.1.4"
      }
     },
     "3054eea0d88a4418a9284a5847885aa6": {
      "model_module": "jupyter-js-widgets",
      "model_module_version": "~2.1.4",
      "model_name": "LayoutModel",
      "state": {
       "_model_module_version": "~2.1.4",
       "_view_module_version": "~2.1.4"
      }
     },
     "31523f0b50854147b62a0f970143f638": {
      "model_module": "jupyter-js-widgets",
      "model_module_version": "~2.1.4",
      "model_name": "LayoutModel",
      "state": {
       "_model_module_version": "~2.1.4",
       "_view_module_version": "~2.1.4"
      }
     },
     "317c6b9c584548c2a15f116a07b1b8bb": {
      "model_module": "jupyter-js-widgets",
      "model_module_version": "~2.1.4",
      "model_name": "FloatSliderModel",
      "state": {
       "_model_module_version": "~2.1.4",
       "_view_module_version": "~2.1.4",
       "description": "lr",
       "layout": "IPY_MODEL_28d43d1252b04ebd9a00a46363c951b3",
       "max": 1,
       "step": 0.02,
       "value": 0.1
      }
     },
     "3250a20acebb4068a88612f94d7fb4c9": {
      "model_module": "jupyter-js-widgets",
      "model_module_version": "~2.1.4",
      "model_name": "OutputModel",
      "state": {
       "_dom_classes": [],
       "_model_module": "jupyter-js-widgets",
       "_model_module_version": "~2.1.4",
       "_view_module": "jupyter-js-widgets",
       "_view_module_version": "~2.1.4",
       "layout": "IPY_MODEL_f874e6e6bd2e4e298725648ea552fdb3",
       "msg_throttle": 1
      }
     },
     "32cf6616ff81414ea9373450a41bdaf1": {
      "model_module": "jupyter-js-widgets",
      "model_module_version": "~2.1.4",
      "model_name": "LayoutModel",
      "state": {
       "_model_module_version": "~2.1.4",
       "_view_module_version": "~2.1.4"
      }
     },
     "341bb0745ef441c286e0d3a382da3372": {
      "model_module": "jupyter-js-widgets",
      "model_module_version": "~2.1.4",
      "model_name": "FloatSliderModel",
      "state": {
       "_model_module_version": "~2.1.4",
       "_view_module_version": "~2.1.4",
       "description": "lr",
       "layout": "IPY_MODEL_8d6fcfa982fb4772a79119c13def0afb",
       "max": 0.001,
       "step": 0.0001,
       "value": 0.0001
      }
     },
     "343afe6fa72d47d09bfc506be6dbccd9": {
      "model_module": "jupyter-js-widgets",
      "model_module_version": "~2.1.4",
      "model_name": "VBoxModel",
      "state": {
       "_dom_classes": [
        "widget-interact"
       ],
       "_model_module_version": "~2.1.4",
       "_view_module_version": "~2.1.4",
       "children": [
        "IPY_MODEL_97d33d4a984940acadd322d1e1e5f49c",
        "IPY_MODEL_c02f80dbfc444b4fbe8c6c2a4bb6ff17"
       ],
       "layout": "IPY_MODEL_ae8a0f84caec42c6a25614e7bdba3f5a"
      }
     },
     "357b433b16264e3486532bde32cea207": {
      "model_module": "jupyter-js-widgets",
      "model_module_version": "~2.1.4",
      "model_name": "FloatSliderModel",
      "state": {
       "_model_module_version": "~2.1.4",
       "_view_module_version": "~2.1.4",
       "description": "lr",
       "layout": "IPY_MODEL_2ad5ae8e96644398a10207164638d759",
       "max": 0.99,
       "step": 0.01,
       "value": 0.04
      }
     },
     "357bafdba9e240ea9ce187a3669f0a6f": {
      "model_module": "jupyter-js-widgets",
      "model_module_version": "~2.1.4",
      "model_name": "FloatSliderModel",
      "state": {
       "_model_module_version": "~2.1.4",
       "_view_module_version": "~2.1.4",
       "description": "nu",
       "layout": "IPY_MODEL_95b0bd75ce0146f9985ec6a9b226d5f1",
       "max": 0.99,
       "step": 0.001,
       "value": 0.99
      }
     },
     "3609ff98f13e4bb8904d831da27aa97e": {
      "model_module": "jupyter-js-widgets",
      "model_module_version": "~2.1.4",
      "model_name": "FloatSliderModel",
      "state": {
       "_model_module_version": "~2.1.4",
       "_view_module_version": "~2.1.4",
       "description": "gamma",
       "layout": "IPY_MODEL_adca824c8e664ec99a1ee56620e94b8c",
       "max": 0.99,
       "step": 0.1
      }
     },
     "3621d25770ce4e2aa1363950a33869c5": {
      "model_module": "jupyter-js-widgets",
      "model_module_version": "~2.1.4",
      "model_name": "FloatSliderModel",
      "state": {
       "_model_module_version": "~2.1.4",
       "_view_module_version": "~2.1.4",
       "description": "lr",
       "layout": "IPY_MODEL_f6dcd05dc08544eaaddb1404eee5b21d",
       "max": 0.99,
       "step": 0.01,
       "value": 0.04
      }
     },
     "36a101eb5c6341e3b53aa4461eff5fd7": {
      "model_module": "jupyter-js-widgets",
      "model_module_version": "~2.1.4",
      "model_name": "LayoutModel",
      "state": {
       "_model_module_version": "~2.1.4",
       "_view_module_version": "~2.1.4"
      }
     },
     "36b98f1e6fc442b18535485a6a95ba37": {
      "model_module": "jupyter-js-widgets",
      "model_module_version": "~2.1.4",
      "model_name": "LayoutModel",
      "state": {
       "_model_module_version": "~2.1.4",
       "_view_module_version": "~2.1.4"
      }
     },
     "39f29b65fb794ee7bc2f9e7c33170752": {
      "model_module": "jupyter-js-widgets",
      "model_module_version": "~2.1.4",
      "model_name": "OutputModel",
      "state": {
       "_dom_classes": [],
       "_model_module": "jupyter-js-widgets",
       "_model_module_version": "~2.1.4",
       "_view_module": "jupyter-js-widgets",
       "_view_module_version": "~2.1.4",
       "layout": "IPY_MODEL_3f858c9ec5e6484ca5f09608d1e0c30d",
       "msg_throttle": 1
      }
     },
     "3a14899040e843b5a85a3621780dbb23": {
      "model_module": "jupyter-js-widgets",
      "model_module_version": "~2.1.4",
      "model_name": "LayoutModel",
      "state": {
       "_model_module_version": "~2.1.4",
       "_view_module_version": "~2.1.4"
      }
     },
     "3abdc19a098746e6ae1c55de62545533": {
      "model_module": "jupyter-js-widgets",
      "model_module_version": "~2.1.4",
      "model_name": "OutputModel",
      "state": {
       "_dom_classes": [],
       "_model_module": "jupyter-js-widgets",
       "_model_module_version": "~2.1.4",
       "_view_module": "jupyter-js-widgets",
       "_view_module_version": "~2.1.4",
       "layout": "IPY_MODEL_7c4185cac5f94a7ba5a0ee27436a83f2",
       "msg_throttle": 1
      }
     },
     "3d0477c11c044756891ec945c1caeb22": {
      "model_module": "jupyter-js-widgets",
      "model_module_version": "~2.1.4",
      "model_name": "LayoutModel",
      "state": {
       "_model_module_version": "~2.1.4",
       "_view_module_version": "~2.1.4"
      }
     },
     "3d11571f873e4cadbeec24a0033ead12": {
      "model_module": "jupyter-js-widgets",
      "model_module_version": "~2.1.4",
      "model_name": "VBoxModel",
      "state": {
       "_dom_classes": [
        "widget-interact"
       ],
       "_model_module_version": "~2.1.4",
       "_view_module_version": "~2.1.4",
       "children": [
        "IPY_MODEL_a25dbe74f0fa4679894b6f72d290a234",
        "IPY_MODEL_40749ed9b9924fe180bbd9b55b838523",
        "IPY_MODEL_02d94642c0164f72b30688602188e873"
       ],
       "layout": "IPY_MODEL_9a6e9c316b3548338c2f8dbb7fd1fd05"
      }
     },
     "3dd1bccb57584dab8d3af669169592f3": {
      "model_module": "jupyter-js-widgets",
      "model_module_version": "~2.1.4",
      "model_name": "LayoutModel",
      "state": {
       "_model_module_version": "~2.1.4",
       "_view_module_version": "~2.1.4"
      }
     },
     "3e034ce4850c458d9a88ad90d01bfd1e": {
      "model_module": "jupyter-js-widgets",
      "model_module_version": "~2.1.4",
      "model_name": "LayoutModel",
      "state": {
       "_model_module_version": "~2.1.4",
       "_view_module_version": "~2.1.4"
      }
     },
     "3eb9fc6cc22f4c8d8dcef386b364f82d": {
      "model_module": "jupyter-js-widgets",
      "model_module_version": "~2.1.4",
      "model_name": "FloatSliderModel",
      "state": {
       "_model_module_version": "~2.1.4",
       "_view_module_version": "~2.1.4",
       "description": "lr",
       "layout": "IPY_MODEL_6dbbb7929ccd4562a3966ac6cf799507",
       "max": 0.99,
       "step": 0.01
      }
     },
     "3f04051bc18540d7aaba4aefbf18e191": {
      "model_module": "jupyter-js-widgets",
      "model_module_version": "~2.1.4",
      "model_name": "VBoxModel",
      "state": {
       "_dom_classes": [
        "widget-interact"
       ],
       "_model_module_version": "~2.1.4",
       "_view_module_version": "~2.1.4",
       "children": [
        "IPY_MODEL_e187349d7a5e4bb196b136954f377a76",
        "IPY_MODEL_c1741dd5f0e04e46b6b00d0c4a92219a",
        "IPY_MODEL_fcbcdd17620a45c9a9d684796ea6ed8d",
        "IPY_MODEL_3abdc19a098746e6ae1c55de62545533"
       ],
       "layout": "IPY_MODEL_f1b6e3dad8e74cfcaf1bf429e26923aa"
      }
     },
     "3f0a09c093a64b8b80fb471f0b4356e0": {
      "model_module": "jupyter-js-widgets",
      "model_module_version": "~2.1.4",
      "model_name": "FloatSliderModel",
      "state": {
       "_model_module_version": "~2.1.4",
       "_view_module_version": "~2.1.4",
       "description": "gamma",
       "layout": "IPY_MODEL_5f2716b1e11b4cbc82477d6ed6c36b48",
       "max": 0.99,
       "step": 0.001,
       "value": 0.297
      }
     },
     "3f858c9ec5e6484ca5f09608d1e0c30d": {
      "model_module": "jupyter-js-widgets",
      "model_module_version": "~2.1.4",
      "model_name": "LayoutModel",
      "state": {
       "_model_module_version": "~2.1.4",
       "_view_module_version": "~2.1.4"
      }
     },
     "3f86828fb1214dc3a0ea0110b8f848d1": {
      "model_module": "jupyter-js-widgets",
      "model_module_version": "~2.1.4",
      "model_name": "VBoxModel",
      "state": {
       "_dom_classes": [
        "widget-interact"
       ],
       "_model_module_version": "~2.1.4",
       "_view_module_version": "~2.1.4",
       "children": [
        "IPY_MODEL_86774512676949e088c69f7551b924b5",
        "IPY_MODEL_55a3d1727a8a49d59e9673a1f18fb334"
       ],
       "layout": "IPY_MODEL_8b8123f208fa4430843daee9c8464421"
      }
     },
     "40626bcb40de41a2a9f6206399785ee1": {
      "model_module": "jupyter-js-widgets",
      "model_module_version": "~2.1.4",
      "model_name": "VBoxModel",
      "state": {
       "_dom_classes": [
        "widget-interact"
       ],
       "_model_module_version": "~2.1.4",
       "_view_module_version": "~2.1.4",
       "children": [
        "IPY_MODEL_0679c1ed976f46e1ad535f7eafeea316",
        "IPY_MODEL_b097c4b197004a919ebe98ff676d4c8b",
        "IPY_MODEL_c2deb92fb4714db5828fa66489c1bee4",
        "IPY_MODEL_a8dc0568476d4b98a788de1ab45b5c43"
       ],
       "layout": "IPY_MODEL_64cef5f6320c4a1a89380897b5a0c67c"
      }
     },
     "40749ed9b9924fe180bbd9b55b838523": {
      "model_module": "jupyter-js-widgets",
      "model_module_version": "~2.1.4",
      "model_name": "FloatSliderModel",
      "state": {
       "_model_module_version": "~2.1.4",
       "_view_module_version": "~2.1.4",
       "description": "gamma",
       "layout": "IPY_MODEL_24bb92ce28c244b9b905f72c944a1e9a",
       "max": 0.99,
       "step": 0.1,
       "value": 0.7
      }
     },
     "41729054ca0943f2b120d47c5d256172": {
      "model_module": "jupyter-js-widgets",
      "model_module_version": "~2.1.4",
      "model_name": "OutputModel",
      "state": {
       "_dom_classes": [],
       "_model_module": "jupyter-js-widgets",
       "_model_module_version": "~2.1.4",
       "_view_module": "jupyter-js-widgets",
       "_view_module_version": "~2.1.4",
       "layout": "IPY_MODEL_59ef979c12c2430eb26965c2c92a995a",
       "msg_throttle": 1
      }
     },
     "41adf6a719d9462e8fd7f9b27811533e": {
      "model_module": "jupyter-js-widgets",
      "model_module_version": "~2.1.4",
      "model_name": "LayoutModel",
      "state": {
       "_model_module_version": "~2.1.4",
       "_view_module_version": "~2.1.4"
      }
     },
     "422e52b416f74c98bb5b29d6c0553c84": {
      "model_module": "jupyter-js-widgets",
      "model_module_version": "~2.1.4",
      "model_name": "LayoutModel",
      "state": {
       "_model_module_version": "~2.1.4",
       "_view_module_version": "~2.1.4"
      }
     },
     "426013bf52e542abb7ca7fc9fca80449": {
      "model_module": "jupyter-js-widgets",
      "model_module_version": "~2.1.4",
      "model_name": "FloatSliderModel",
      "state": {
       "_model_module_version": "~2.1.4",
       "_view_module_version": "~2.1.4",
       "description": "lr",
       "layout": "IPY_MODEL_1ccf1d11f3844173a3840ef3ee1cbf4c",
       "max": 0.001,
       "step": 0.0001,
       "value": 0.0001
      }
     },
     "42c2860760c64e75881f623fd1d1ab1a": {
      "model_module": "jupyter-js-widgets",
      "model_module_version": "~2.1.4",
      "model_name": "LayoutModel",
      "state": {
       "_model_module_version": "~2.1.4",
       "_view_module_version": "~2.1.4"
      }
     },
     "431d6591641d4040868efffe2a72a914": {
      "model_module": "jupyter-js-widgets",
      "model_module_version": "~2.1.4",
      "model_name": "LayoutModel",
      "state": {
       "_model_module_version": "~2.1.4",
       "_view_module_version": "~2.1.4"
      }
     },
     "43f4ce5440974fdbb0329ac662540613": {
      "model_module": "jupyter-js-widgets",
      "model_module_version": "~2.1.4",
      "model_name": "OutputModel",
      "state": {
       "_dom_classes": [],
       "_model_module": "jupyter-js-widgets",
       "_model_module_version": "~2.1.4",
       "_view_module": "jupyter-js-widgets",
       "_view_module_version": "~2.1.4",
       "layout": "IPY_MODEL_124b0d0590a94b8bbf14136bad0a69d9",
       "msg_throttle": 1
      }
     },
     "44506111f1b4468f85faa6c3f077b8e1": {
      "model_module": "jupyter-js-widgets",
      "model_module_version": "~2.1.4",
      "model_name": "FloatSliderModel",
      "state": {
       "_model_module_version": "~2.1.4",
       "_view_module_version": "~2.1.4",
       "description": "nu",
       "layout": "IPY_MODEL_bf378d21f25343be9ab50c687e3d052b",
       "max": 0.99,
       "step": 0.001,
       "value": 0.99
      }
     },
     "4465da5690a7468c862a038af50a6f57": {
      "model_module": "jupyter-js-widgets",
      "model_module_version": "~2.1.4",
      "model_name": "LayoutModel",
      "state": {
       "_model_module_version": "~2.1.4",
       "_view_module_version": "~2.1.4"
      }
     },
     "46ad836c537b453a9526ca0954788b02": {
      "model_module": "jupyter-js-widgets",
      "model_module_version": "~2.1.4",
      "model_name": "FloatSliderModel",
      "state": {
       "_model_module_version": "~2.1.4",
       "_view_module_version": "~2.1.4",
       "description": "nu",
       "layout": "IPY_MODEL_4d67d7e2ef964edfb46a7ca829ee3704",
       "max": 0.99,
       "step": 0.001,
       "value": 0.99
      }
     },
     "47ec9724af5d4cb8938a566ff449c22a": {
      "model_module": "jupyter-js-widgets",
      "model_module_version": "~2.1.4",
      "model_name": "FloatSliderModel",
      "state": {
       "_model_module_version": "~2.1.4",
       "_view_module_version": "~2.1.4",
       "description": "lr",
       "layout": "IPY_MODEL_6b1e93adb2a84468984af26d5b730484",
       "max": 1,
       "step": 0.02,
       "value": 0.1
      }
     },
     "485a82ba56ed4e54b88b53f7e14cd364": {
      "model_module": "jupyter-js-widgets",
      "model_module_version": "~2.1.4",
      "model_name": "OutputModel",
      "state": {
       "_dom_classes": [],
       "_model_module": "jupyter-js-widgets",
       "_model_module_version": "~2.1.4",
       "_view_module": "jupyter-js-widgets",
       "_view_module_version": "~2.1.4",
       "layout": "IPY_MODEL_b724cf12d6de4b099fdaec350499e5eb",
       "msg_throttle": 1
      }
     },
     "48a41bd071c5499c9c27d24f490368eb": {
      "model_module": "jupyter-js-widgets",
      "model_module_version": "~2.1.4",
      "model_name": "LayoutModel",
      "state": {
       "_model_module_version": "~2.1.4",
       "_view_module_version": "~2.1.4"
      }
     },
     "48b6f20e0b334720b451fc34f03fccaa": {
      "model_module": "jupyter-js-widgets",
      "model_module_version": "~2.1.4",
      "model_name": "FloatSliderModel",
      "state": {
       "_model_module_version": "~2.1.4",
       "_view_module_version": "~2.1.4",
       "description": "mu",
       "layout": "IPY_MODEL_8afaf0eecbc04f6993305808cbf60a24",
       "max": 0.99,
       "step": 0.001,
       "value": 0.9
      }
     },
     "49a9475d0b0945ffbc757c2316dfc564": {
      "model_module": "jupyter-js-widgets",
      "model_module_version": "~2.1.4",
      "model_name": "LayoutModel",
      "state": {
       "_model_module_version": "~2.1.4",
       "_view_module_version": "~2.1.4"
      }
     },
     "49afdd04bc144dd3ad574b5015e00d3d": {
      "model_module": "jupyter-js-widgets",
      "model_module_version": "~2.1.4",
      "model_name": "LayoutModel",
      "state": {
       "_model_module_version": "~2.1.4",
       "_view_module_version": "~2.1.4"
      }
     },
     "49cb0538a70643c79ee67effb335df02": {
      "model_module": "jupyter-js-widgets",
      "model_module_version": "~2.1.4",
      "model_name": "LayoutModel",
      "state": {
       "_model_module_version": "~2.1.4",
       "_view_module_version": "~2.1.4"
      }
     },
     "4a30ef46642c49e4890b9ebaa0a8ea78": {
      "model_module": "jupyter-js-widgets",
      "model_module_version": "~2.1.4",
      "model_name": "FloatSliderModel",
      "state": {
       "_model_module_version": "~2.1.4",
       "_view_module_version": "~2.1.4",
       "description": "lr",
       "layout": "IPY_MODEL_6df1c11e7d5244e199655090ac688a1e",
       "max": 0.001,
       "step": 0.0001,
       "value": 0.0005
      }
     },
     "4b8bd9e82f4c4f2bbceb78f8c5276c34": {
      "model_module": "jupyter-js-widgets",
      "model_module_version": "~2.1.4",
      "model_name": "OutputModel",
      "state": {
       "_dom_classes": [],
       "_model_module": "jupyter-js-widgets",
       "_model_module_version": "~2.1.4",
       "_view_module": "jupyter-js-widgets",
       "_view_module_version": "~2.1.4",
       "layout": "IPY_MODEL_c6eca4ee542e49448a8d5e291909f22c",
       "msg_throttle": 1
      }
     },
     "4bb01f5991b04cac80329084763974c3": {
      "model_module": "jupyter-js-widgets",
      "model_module_version": "~2.1.4",
      "model_name": "LayoutModel",
      "state": {
       "_model_module_version": "~2.1.4",
       "_view_module_version": "~2.1.4"
      }
     },
     "4c2dd2b723fc42dca1462d9a3263045c": {
      "model_module": "jupyter-js-widgets",
      "model_module_version": "~2.1.4",
      "model_name": "LayoutModel",
      "state": {
       "_model_module_version": "~2.1.4",
       "_view_module_version": "~2.1.4"
      }
     },
     "4d5bbc65d5ac40c8a266ffd3297340de": {
      "model_module": "jupyter-js-widgets",
      "model_module_version": "~2.1.4",
      "model_name": "LayoutModel",
      "state": {
       "_model_module_version": "~2.1.4",
       "_view_module_version": "~2.1.4"
      }
     },
     "4d67d7e2ef964edfb46a7ca829ee3704": {
      "model_module": "jupyter-js-widgets",
      "model_module_version": "~2.1.4",
      "model_name": "LayoutModel",
      "state": {
       "_model_module_version": "~2.1.4",
       "_view_module_version": "~2.1.4"
      }
     },
     "4db9b04610e44e1f9416ef500c1bbd6e": {
      "model_module": "jupyter-js-widgets",
      "model_module_version": "~2.1.4",
      "model_name": "LayoutModel",
      "state": {
       "_model_module_version": "~2.1.4",
       "_view_module_version": "~2.1.4"
      }
     },
     "4e097773816f45ed91f74a4bded2e127": {
      "model_module": "jupyter-js-widgets",
      "model_module_version": "~2.1.4",
      "model_name": "VBoxModel",
      "state": {
       "_dom_classes": [
        "widget-interact"
       ],
       "_model_module_version": "~2.1.4",
       "_view_module_version": "~2.1.4",
       "children": [
        "IPY_MODEL_47ec9724af5d4cb8938a566ff449c22a",
        "IPY_MODEL_ece0a09902fd487e83451a112e3adc4a",
        "IPY_MODEL_736e5075ef9a4595a10abb5800002747"
       ],
       "layout": "IPY_MODEL_98f4da77f37a4ee2ac18ffe701e5a05e"
      }
     },
     "5068b64d883346e99c9a9c85d6822e73": {
      "model_module": "jupyter-js-widgets",
      "model_module_version": "~2.1.4",
      "model_name": "VBoxModel",
      "state": {
       "_dom_classes": [
        "widget-interact"
       ],
       "_model_module_version": "~2.1.4",
       "_view_module_version": "~2.1.4",
       "children": [
        "IPY_MODEL_171d4820c56548efa933f738a6a751e5",
        "IPY_MODEL_3f0a09c093a64b8b80fb471f0b4356e0",
        "IPY_MODEL_23e52fe80c5a4e61926db87632fd09f8"
       ],
       "layout": "IPY_MODEL_f46086f4d48b412e914c829e7149f907"
      }
     },
     "5076448b09a04ab5aebf3d5e7894410d": {
      "model_module": "jupyter-js-widgets",
      "model_module_version": "~2.1.4",
      "model_name": "FloatSliderModel",
      "state": {
       "_model_module_version": "~2.1.4",
       "_view_module_version": "~2.1.4",
       "description": "lr",
       "layout": "IPY_MODEL_a9c9c152d8fc4d72a9cdb42b1361a1d0",
       "max": 0.001,
       "step": 0.0001,
       "value": 1e-05
      }
     },
     "50aa0c653d134f65b1c3ee9f1d6253b3": {
      "model_module": "jupyter-js-widgets",
      "model_module_version": "~2.1.4",
      "model_name": "LayoutModel",
      "state": {
       "_model_module_version": "~2.1.4",
       "_view_module_version": "~2.1.4"
      }
     },
     "51068908c3bf45728a3a9fea99d76771": {
      "model_module": "jupyter-js-widgets",
      "model_module_version": "~2.1.4",
      "model_name": "LayoutModel",
      "state": {
       "_model_module_version": "~2.1.4",
       "_view_module_version": "~2.1.4"
      }
     },
     "51079ab79ca04a8e9147fcebbaf47460": {
      "model_module": "jupyter-js-widgets",
      "model_module_version": "~2.1.4",
      "model_name": "FloatSliderModel",
      "state": {
       "_model_module_version": "~2.1.4",
       "_view_module_version": "~2.1.4",
       "description": "lr",
       "layout": "IPY_MODEL_e990bb5a88c04ff3bf397504653b0513",
       "max": 0.99,
       "step": 0.01,
       "value": 0.27
      }
     },
     "519db0a7eabf473a8fe4ca77b572fd67": {
      "model_module": "jupyter-js-widgets",
      "model_module_version": "~2.1.4",
      "model_name": "FloatSliderModel",
      "state": {
       "_model_module_version": "~2.1.4",
       "_view_module_version": "~2.1.4",
       "description": "lr",
       "layout": "IPY_MODEL_ddcffd2d9c1a485798541ea43f83cfd2",
       "max": 0.1,
       "step": 0.001,
       "value": 0.084
      }
     },
     "51dba0ff5d8f48cca7d8d39a3066582c": {
      "model_module": "jupyter-js-widgets",
      "model_module_version": "~2.1.4",
      "model_name": "LayoutModel",
      "state": {
       "_model_module_version": "~2.1.4",
       "_view_module_version": "~2.1.4"
      }
     },
     "51dfa8182286475db37b66c4332aa026": {
      "model_module": "jupyter-js-widgets",
      "model_module_version": "~2.1.4",
      "model_name": "FloatSliderModel",
      "state": {
       "_model_module_version": "~2.1.4",
       "_view_module_version": "~2.1.4",
       "description": "gamma",
       "layout": "IPY_MODEL_b228ab78062641639ea7948d7d0a007c",
       "max": 0.99,
       "step": 0.1
      }
     },
     "5296e4f1a1af43278c48b34996982b04": {
      "model_module": "jupyter-js-widgets",
      "model_module_version": "~2.1.4",
      "model_name": "FloatSliderModel",
      "state": {
       "_model_module_version": "~2.1.4",
       "_view_module_version": "~2.1.4",
       "description": "gamma",
       "layout": "IPY_MODEL_3dd1bccb57584dab8d3af669169592f3",
       "max": 0.99,
       "step": 0.1,
       "value": 0.5
      }
     },
     "531596d4ec37485f9c9415f0a9a2ea1b": {
      "model_module": "jupyter-js-widgets",
      "model_module_version": "~2.1.4",
      "model_name": "LayoutModel",
      "state": {
       "_model_module_version": "~2.1.4",
       "_view_module_version": "~2.1.4"
      }
     },
     "53c678ff983f4f1c81ce8bd3ddee24c0": {
      "model_module": "jupyter-js-widgets",
      "model_module_version": "~2.1.4",
      "model_name": "LayoutModel",
      "state": {
       "_model_module_version": "~2.1.4",
       "_view_module_version": "~2.1.4"
      }
     },
     "55a3d1727a8a49d59e9673a1f18fb334": {
      "model_module": "jupyter-js-widgets",
      "model_module_version": "~2.1.4",
      "model_name": "OutputModel",
      "state": {
       "_dom_classes": [],
       "_model_module": "jupyter-js-widgets",
       "_model_module_version": "~2.1.4",
       "_view_module": "jupyter-js-widgets",
       "_view_module_version": "~2.1.4",
       "layout": "IPY_MODEL_41adf6a719d9462e8fd7f9b27811533e",
       "msg_throttle": 1
      }
     },
     "57070e8f280541d08a1d3f6997cbc879": {
      "model_module": "jupyter-js-widgets",
      "model_module_version": "~2.1.4",
      "model_name": "LayoutModel",
      "state": {
       "_model_module_version": "~2.1.4",
       "_view_module_version": "~2.1.4"
      }
     },
     "5745f98d4d0745dc9037579dcb93eef4": {
      "model_module": "jupyter-js-widgets",
      "model_module_version": "~2.1.4",
      "model_name": "FloatSliderModel",
      "state": {
       "_model_module_version": "~2.1.4",
       "_view_module_version": "~2.1.4",
       "description": "lr",
       "layout": "IPY_MODEL_32cf6616ff81414ea9373450a41bdaf1",
       "max": 1,
       "step": 0.001,
       "value": 0.338
      }
     },
     "596ca5ec2f754a9a971644a462014451": {
      "model_module": "jupyter-js-widgets",
      "model_module_version": "~2.1.4",
      "model_name": "LayoutModel",
      "state": {
       "_model_module_version": "~2.1.4",
       "_view_module_version": "~2.1.4"
      }
     },
     "59ef979c12c2430eb26965c2c92a995a": {
      "model_module": "jupyter-js-widgets",
      "model_module_version": "~2.1.4",
      "model_name": "LayoutModel",
      "state": {
       "_model_module_version": "~2.1.4",
       "_view_module_version": "~2.1.4"
      }
     },
     "5bac8acbc6f6493b9af4a329a905b302": {
      "model_module": "jupyter-js-widgets",
      "model_module_version": "~2.1.4",
      "model_name": "FloatSliderModel",
      "state": {
       "_model_module_version": "~2.1.4",
       "_view_module_version": "~2.1.4",
       "description": "beta",
       "layout": "IPY_MODEL_1f93bc9e5107490b88241b747b261bde",
       "max": 0.99,
       "step": 0.01,
       "value": 0.5
      }
     },
     "5bc0a7f7ae7b4f0b8f45f35b4f9043f4": {
      "model_module": "jupyter-js-widgets",
      "model_module_version": "~2.1.4",
      "model_name": "OutputModel",
      "state": {
       "_dom_classes": [],
       "_model_module": "jupyter-js-widgets",
       "_model_module_version": "~2.1.4",
       "_view_module": "jupyter-js-widgets",
       "_view_module_version": "~2.1.4",
       "layout": "IPY_MODEL_160dd9f65c7a4f2ea5dd3309fdc458b6",
       "msg_throttle": 1
      }
     },
     "5cd9705187dd428a98ec744ed07f50a1": {
      "model_module": "jupyter-js-widgets",
      "model_module_version": "~2.1.4",
      "model_name": "LayoutModel",
      "state": {
       "_model_module_version": "~2.1.4",
       "_view_module_version": "~2.1.4"
      }
     },
     "5ce142abd1634fe896443cf6083c99f8": {
      "model_module": "jupyter-js-widgets",
      "model_module_version": "~2.1.4",
      "model_name": "VBoxModel",
      "state": {
       "_dom_classes": [
        "widget-interact"
       ],
       "_model_module_version": "~2.1.4",
       "_view_module_version": "~2.1.4",
       "children": [
        "IPY_MODEL_840b854467b7455fa2846ba852a19856",
        "IPY_MODEL_dd0715880bce4bfd8cc01c6d08bf5600"
       ],
       "layout": "IPY_MODEL_2f65541306a14e16ba83dcf902c5b448"
      }
     },
     "5f2716b1e11b4cbc82477d6ed6c36b48": {
      "model_module": "jupyter-js-widgets",
      "model_module_version": "~2.1.4",
      "model_name": "LayoutModel",
      "state": {
       "_model_module_version": "~2.1.4",
       "_view_module_version": "~2.1.4"
      }
     },
     "5f3dc45bc1524fc58d105c5efc0e45cd": {
      "model_module": "jupyter-js-widgets",
      "model_module_version": "~2.1.4",
      "model_name": "FloatSliderModel",
      "state": {
       "_model_module_version": "~2.1.4",
       "_view_module_version": "~2.1.4",
       "description": "gamma",
       "layout": "IPY_MODEL_abc66de1823b4576999e3ac2a776fa33",
       "max": 0.99,
       "step": 0.01,
       "value": 0.99
      }
     },
     "618c262b12c44ce4b90ea421adf43946": {
      "model_module": "jupyter-js-widgets",
      "model_module_version": "~2.1.4",
      "model_name": "FloatSliderModel",
      "state": {
       "_model_module_version": "~2.1.4",
       "_view_module_version": "~2.1.4",
       "description": "mu",
       "layout": "IPY_MODEL_303270fb99cd4f8e94e2cc19a61189f5",
       "max": 0.99,
       "step": 0.001,
       "value": 0.9
      }
     },
     "61942e256da94fd988915a17dda29b8d": {
      "model_module": "jupyter-js-widgets",
      "model_module_version": "~2.1.4",
      "model_name": "LayoutModel",
      "state": {
       "_model_module_version": "~2.1.4",
       "_view_module_version": "~2.1.4"
      }
     },
     "61b133bc760b46b2b0c9991749fe3550": {
      "model_module": "jupyter-js-widgets",
      "model_module_version": "~2.1.4",
      "model_name": "VBoxModel",
      "state": {
       "_dom_classes": [
        "widget-interact"
       ],
       "_model_module_version": "~2.1.4",
       "_view_module_version": "~2.1.4",
       "children": [
        "IPY_MODEL_357b433b16264e3486532bde32cea207",
        "IPY_MODEL_68faf831fe9c4f10ac7fa9356b551eb9"
       ],
       "layout": "IPY_MODEL_9195afa0245a48c79b0340cdcad3dc15"
      }
     },
     "61fdc61a52504919bb3e813c66eab80b": {
      "model_module": "jupyter-js-widgets",
      "model_module_version": "~2.1.4",
      "model_name": "LayoutModel",
      "state": {
       "_model_module_version": "~2.1.4",
       "_view_module_version": "~2.1.4"
      }
     },
     "626aaf93a8684e7181c156ab7d4cf2b8": {
      "model_module": "jupyter-js-widgets",
      "model_module_version": "~2.1.4",
      "model_name": "LayoutModel",
      "state": {
       "_model_module_version": "~2.1.4",
       "_view_module_version": "~2.1.4"
      }
     },
     "62f157546b2443f183c0d3d3ffa58b29": {
      "model_module": "jupyter-js-widgets",
      "model_module_version": "~2.1.4",
      "model_name": "FloatSliderModel",
      "state": {
       "_model_module_version": "~2.1.4",
       "_view_module_version": "~2.1.4",
       "description": "lr",
       "layout": "IPY_MODEL_3a14899040e843b5a85a3621780dbb23",
       "max": 0.99,
       "step": 0.01,
       "value": 0.67
      }
     },
     "643f39de67ca40eeadaad2c1d0e29599": {
      "model_module": "jupyter-js-widgets",
      "model_module_version": "~2.1.4",
      "model_name": "LayoutModel",
      "state": {
       "_model_module_version": "~2.1.4",
       "_view_module_version": "~2.1.4"
      }
     },
     "64cef5f6320c4a1a89380897b5a0c67c": {
      "model_module": "jupyter-js-widgets",
      "model_module_version": "~2.1.4",
      "model_name": "LayoutModel",
      "state": {
       "_model_module_version": "~2.1.4",
       "_view_module_version": "~2.1.4"
      }
     },
     "64d918c4c46147098185e1d0c138892c": {
      "model_module": "jupyter-js-widgets",
      "model_module_version": "~2.1.4",
      "model_name": "FloatSliderModel",
      "state": {
       "_model_module_version": "~2.1.4",
       "_view_module_version": "~2.1.4",
       "description": "lr",
       "layout": "IPY_MODEL_9968d97b74044d03bd2a2038a3e59846",
       "max": 1,
       "step": 0.001,
       "value": 0.046
      }
     },
     "655a0285a9a44254816f58c465a4dc7c": {
      "model_module": "jupyter-js-widgets",
      "model_module_version": "~2.1.4",
      "model_name": "LayoutModel",
      "state": {
       "_model_module_version": "~2.1.4",
       "_view_module_version": "~2.1.4"
      }
     },
     "6646af781e1a449190f0c3d37e96f848": {
      "model_module": "jupyter-js-widgets",
      "model_module_version": "~2.1.4",
      "model_name": "LayoutModel",
      "state": {
       "_model_module_version": "~2.1.4",
       "_view_module_version": "~2.1.4"
      }
     },
     "665b56e32c184cbd82c23beef542749a": {
      "model_module": "jupyter-js-widgets",
      "model_module_version": "~2.1.4",
      "model_name": "LayoutModel",
      "state": {
       "_model_module_version": "~2.1.4",
       "_view_module_version": "~2.1.4"
      }
     },
     "66e474b41c294c59a2a6374e15df9134": {
      "model_module": "jupyter-js-widgets",
      "model_module_version": "~2.1.4",
      "model_name": "OutputModel",
      "state": {
       "_dom_classes": [],
       "_model_module": "jupyter-js-widgets",
       "_model_module_version": "~2.1.4",
       "_view_module": "jupyter-js-widgets",
       "_view_module_version": "~2.1.4",
       "layout": "IPY_MODEL_88bf6f0970884595998de4e354630720",
       "msg_throttle": 1
      }
     },
     "6722586b01584cdfbbb1c189675c0c46": {
      "model_module": "jupyter-js-widgets",
      "model_module_version": "~2.1.4",
      "model_name": "LayoutModel",
      "state": {
       "_model_module_version": "~2.1.4",
       "_view_module_version": "~2.1.4"
      }
     },
     "68faf831fe9c4f10ac7fa9356b551eb9": {
      "model_module": "jupyter-js-widgets",
      "model_module_version": "~2.1.4",
      "model_name": "OutputModel",
      "state": {
       "_dom_classes": [],
       "_model_module": "jupyter-js-widgets",
       "_model_module_version": "~2.1.4",
       "_view_module": "jupyter-js-widgets",
       "_view_module_version": "~2.1.4",
       "layout": "IPY_MODEL_49afdd04bc144dd3ad574b5015e00d3d",
       "msg_throttle": 1
      }
     },
     "691e4fa491a34c3b90234026c4017810": {
      "model_module": "jupyter-js-widgets",
      "model_module_version": "~2.1.4",
      "model_name": "OutputModel",
      "state": {
       "_dom_classes": [],
       "_model_module": "jupyter-js-widgets",
       "_model_module_version": "~2.1.4",
       "_view_module": "jupyter-js-widgets",
       "_view_module_version": "~2.1.4",
       "layout": "IPY_MODEL_dd5a9e6fee334b6ea583cb97fe510399",
       "msg_throttle": 1
      }
     },
     "693c1f204bb4489d9cfe8be3366497fe": {
      "model_module": "jupyter-js-widgets",
      "model_module_version": "~2.1.4",
      "model_name": "OutputModel",
      "state": {
       "_dom_classes": [],
       "_model_module": "jupyter-js-widgets",
       "_model_module_version": "~2.1.4",
       "_view_module": "jupyter-js-widgets",
       "_view_module_version": "~2.1.4",
       "layout": "IPY_MODEL_3e034ce4850c458d9a88ad90d01bfd1e",
       "msg_throttle": 1
      }
     },
     "6a4fccd2d9fb471a81ebd9d1d871002a": {
      "model_module": "jupyter-js-widgets",
      "model_module_version": "~2.1.4",
      "model_name": "OutputModel",
      "state": {
       "_dom_classes": [],
       "_model_module": "jupyter-js-widgets",
       "_model_module_version": "~2.1.4",
       "_view_module": "jupyter-js-widgets",
       "_view_module_version": "~2.1.4",
       "layout": "IPY_MODEL_01ef507f27b84e1399b9ff1b442a90c3",
       "msg_throttle": 1
      }
     },
     "6a7d7f2bd0f84081a4f1da156c561e7e": {
      "model_module": "jupyter-js-widgets",
      "model_module_version": "~2.1.4",
      "model_name": "FloatSliderModel",
      "state": {
       "_model_module_version": "~2.1.4",
       "_view_module_version": "~2.1.4",
       "description": "lr",
       "layout": "IPY_MODEL_9d33040a53c54a049d7e863430635c65",
       "max": 1,
       "step": 0.001,
       "value": 0.098
      }
     },
     "6b0ae73a3e9744ee9e6b151ede88932c": {
      "model_module": "jupyter-js-widgets",
      "model_module_version": "~2.1.4",
      "model_name": "VBoxModel",
      "state": {
       "_dom_classes": [
        "widget-interact"
       ],
       "_model_module_version": "~2.1.4",
       "_view_module_version": "~2.1.4",
       "children": [
        "IPY_MODEL_1f3cb484d014440daf268c8a0e787a7e",
        "IPY_MODEL_f4277c7ee19d4200aa764500c9979de9"
       ],
       "layout": "IPY_MODEL_531596d4ec37485f9c9415f0a9a2ea1b"
      }
     },
     "6b1d61e58ad347ab9b3f1dc65055ac42": {
      "model_module": "jupyter-js-widgets",
      "model_module_version": "~2.1.4",
      "model_name": "LayoutModel",
      "state": {
       "_model_module_version": "~2.1.4",
       "_view_module_version": "~2.1.4"
      }
     },
     "6b1e93adb2a84468984af26d5b730484": {
      "model_module": "jupyter-js-widgets",
      "model_module_version": "~2.1.4",
      "model_name": "LayoutModel",
      "state": {
       "_model_module_version": "~2.1.4",
       "_view_module_version": "~2.1.4"
      }
     },
     "6b575e4998654722987c87a351990346": {
      "model_module": "jupyter-js-widgets",
      "model_module_version": "~2.1.4",
      "model_name": "LayoutModel",
      "state": {
       "_model_module_version": "~2.1.4",
       "_view_module_version": "~2.1.4"
      }
     },
     "6c448b67f1ad44feab5209fbe7eb6660": {
      "model_module": "jupyter-js-widgets",
      "model_module_version": "~2.1.4",
      "model_name": "LayoutModel",
      "state": {
       "_model_module_version": "~2.1.4",
       "_view_module_version": "~2.1.4"
      }
     },
     "6cf23ab9b5524238b1a4740f84575f8c": {
      "model_module": "jupyter-js-widgets",
      "model_module_version": "~2.1.4",
      "model_name": "LayoutModel",
      "state": {
       "_model_module_version": "~2.1.4",
       "_view_module_version": "~2.1.4"
      }
     },
     "6d5fe3e6f40d441e93e4107004d9cfa2": {
      "model_module": "jupyter-js-widgets",
      "model_module_version": "~2.1.4",
      "model_name": "LayoutModel",
      "state": {
       "_model_module_version": "~2.1.4",
       "_view_module_version": "~2.1.4"
      }
     },
     "6d71dc29ab7c4d578c12fa8864cb6203": {
      "model_module": "jupyter-js-widgets",
      "model_module_version": "~2.1.4",
      "model_name": "LayoutModel",
      "state": {
       "_model_module_version": "~2.1.4",
       "_view_module_version": "~2.1.4"
      }
     },
     "6dbbb7929ccd4562a3966ac6cf799507": {
      "model_module": "jupyter-js-widgets",
      "model_module_version": "~2.1.4",
      "model_name": "LayoutModel",
      "state": {
       "_model_module_version": "~2.1.4",
       "_view_module_version": "~2.1.4"
      }
     },
     "6dd3a5323c1c4daa9af6ce7e7d60af0c": {
      "model_module": "jupyter-js-widgets",
      "model_module_version": "~2.1.4",
      "model_name": "LayoutModel",
      "state": {
       "_model_module_version": "~2.1.4",
       "_view_module_version": "~2.1.4"
      }
     },
     "6df1c11e7d5244e199655090ac688a1e": {
      "model_module": "jupyter-js-widgets",
      "model_module_version": "~2.1.4",
      "model_name": "LayoutModel",
      "state": {
       "_model_module_version": "~2.1.4",
       "_view_module_version": "~2.1.4"
      }
     },
     "6e8443c05c6f4874975f447457c979cc": {
      "model_module": "jupyter-js-widgets",
      "model_module_version": "~2.1.4",
      "model_name": "OutputModel",
      "state": {
       "_dom_classes": [],
       "_model_module": "jupyter-js-widgets",
       "_model_module_version": "~2.1.4",
       "_view_module": "jupyter-js-widgets",
       "_view_module_version": "~2.1.4",
       "layout": "IPY_MODEL_d9435b59a7384df095a2e2ec092d7d9e",
       "msg_throttle": 1
      }
     },
     "708b654457ce42ec96ec3bf128838766": {
      "model_module": "jupyter-js-widgets",
      "model_module_version": "~2.1.4",
      "model_name": "LayoutModel",
      "state": {
       "_model_module_version": "~2.1.4",
       "_view_module_version": "~2.1.4"
      }
     },
     "715d7a1d835a4e0f85d41c9d42a2995a": {
      "model_module": "jupyter-js-widgets",
      "model_module_version": "~2.1.4",
      "model_name": "LayoutModel",
      "state": {
       "_model_module_version": "~2.1.4",
       "_view_module_version": "~2.1.4"
      }
     },
     "72206fc471fa41ef93b9c0de2e79eb6e": {
      "model_module": "jupyter-js-widgets",
      "model_module_version": "~2.1.4",
      "model_name": "VBoxModel",
      "state": {
       "_dom_classes": [
        "widget-interact"
       ],
       "_model_module_version": "~2.1.4",
       "_view_module_version": "~2.1.4",
       "children": [
        "IPY_MODEL_82a515ac14d1492fa02bdc9368690621",
        "IPY_MODEL_8867a38edbf3495d8f424b4e6d382537",
        "IPY_MODEL_ab7bb03b8d6840409e8e7d6151409b9b"
       ],
       "layout": "IPY_MODEL_ea1310ce9c5b4d6abffef6565729ee90"
      }
     },
     "72c703f8c3bd464ca83a5901b741781c": {
      "model_module": "jupyter-js-widgets",
      "model_module_version": "~2.1.4",
      "model_name": "LayoutModel",
      "state": {
       "_model_module_version": "~2.1.4",
       "_view_module_version": "~2.1.4"
      }
     },
     "736e5075ef9a4595a10abb5800002747": {
      "model_module": "jupyter-js-widgets",
      "model_module_version": "~2.1.4",
      "model_name": "OutputModel",
      "state": {
       "_dom_classes": [],
       "_model_module": "jupyter-js-widgets",
       "_model_module_version": "~2.1.4",
       "_view_module": "jupyter-js-widgets",
       "_view_module_version": "~2.1.4",
       "layout": "IPY_MODEL_03a6d2a5e84b46f0b562e2ae40509bef",
       "msg_throttle": 1
      }
     },
     "753330da7a814cee9152d47dda7e9e2b": {
      "model_module": "jupyter-js-widgets",
      "model_module_version": "~2.1.4",
      "model_name": "LayoutModel",
      "state": {
       "_model_module_version": "~2.1.4",
       "_view_module_version": "~2.1.4"
      }
     },
     "75610a90b59f4f78a4c6a2b11692d9c8": {
      "model_module": "jupyter-js-widgets",
      "model_module_version": "~2.1.4",
      "model_name": "LayoutModel",
      "state": {
       "_model_module_version": "~2.1.4",
       "_view_module_version": "~2.1.4"
      }
     },
     "75619b2802ca4e13909e0bb2e4652865": {
      "model_module": "jupyter-js-widgets",
      "model_module_version": "~2.1.4",
      "model_name": "FloatSliderModel",
      "state": {
       "_model_module_version": "~2.1.4",
       "_view_module_version": "~2.1.4",
       "description": "lr",
       "layout": "IPY_MODEL_eec9c810ecdf4962b6b274192f43bc2b",
       "max": 0.01,
       "step": 0.001
      }
     },
     "75c1de1a56714fbf877d3ebeb0724777": {
      "model_module": "jupyter-js-widgets",
      "model_module_version": "~2.1.4",
      "model_name": "LayoutModel",
      "state": {
       "_model_module_version": "~2.1.4",
       "_view_module_version": "~2.1.4"
      }
     },
     "76b0e936c2f9474abb333ca2c4f6e8a9": {
      "model_module": "jupyter-js-widgets",
      "model_module_version": "~2.1.4",
      "model_name": "VBoxModel",
      "state": {
       "_dom_classes": [
        "widget-interact"
       ],
       "_model_module_version": "~2.1.4",
       "_view_module_version": "~2.1.4",
       "children": [
        "IPY_MODEL_a0dc61f611364c35a6cc1fb4d9eddc22",
        "IPY_MODEL_a4bbc5a9100e44f9b729c183197f117d"
       ],
       "layout": "IPY_MODEL_95aedc9fc5d14c08ac30864e1d7e2a81"
      }
     },
     "77418f4a4f794ee78a593add668935be": {
      "model_module": "jupyter-js-widgets",
      "model_module_version": "~2.1.4",
      "model_name": "LayoutModel",
      "state": {
       "_model_module_version": "~2.1.4",
       "_view_module_version": "~2.1.4"
      }
     },
     "78d33b15058340bf96c1f5ab36dfbab6": {
      "model_module": "jupyter-js-widgets",
      "model_module_version": "~2.1.4",
      "model_name": "LayoutModel",
      "state": {
       "_model_module_version": "~2.1.4",
       "_view_module_version": "~2.1.4"
      }
     },
     "79c863d828914648b827a0563fe595d0": {
      "model_module": "jupyter-js-widgets",
      "model_module_version": "~2.1.4",
      "model_name": "LayoutModel",
      "state": {
       "_model_module_version": "~2.1.4",
       "_view_module_version": "~2.1.4"
      }
     },
     "7a179c2c632c4dc3b942239ce1e0b391": {
      "model_module": "jupyter-js-widgets",
      "model_module_version": "~2.1.4",
      "model_name": "LayoutModel",
      "state": {
       "_model_module_version": "~2.1.4",
       "_view_module_version": "~2.1.4"
      }
     },
     "7ac7464e72864bba85e1dbeae062089e": {
      "model_module": "jupyter-js-widgets",
      "model_module_version": "~2.1.4",
      "model_name": "OutputModel",
      "state": {
       "_dom_classes": [],
       "_model_module": "jupyter-js-widgets",
       "_model_module_version": "~2.1.4",
       "_view_module": "jupyter-js-widgets",
       "_view_module_version": "~2.1.4",
       "layout": "IPY_MODEL_fe53f678b32a4a5d950cfd40b4699a8f",
       "msg_throttle": 1
      }
     },
     "7bb019551bb648ba8758681428a723d6": {
      "model_module": "jupyter-js-widgets",
      "model_module_version": "~2.1.4",
      "model_name": "LayoutModel",
      "state": {
       "_model_module_version": "~2.1.4",
       "_view_module_version": "~2.1.4"
      }
     },
     "7c4185cac5f94a7ba5a0ee27436a83f2": {
      "model_module": "jupyter-js-widgets",
      "model_module_version": "~2.1.4",
      "model_name": "LayoutModel",
      "state": {
       "_model_module_version": "~2.1.4",
       "_view_module_version": "~2.1.4"
      }
     },
     "7c5e55fad4ac4b71827202ccfecd5970": {
      "model_module": "jupyter-js-widgets",
      "model_module_version": "~2.1.4",
      "model_name": "FloatSliderModel",
      "state": {
       "_model_module_version": "~2.1.4",
       "_view_module_version": "~2.1.4",
       "description": "nu",
       "layout": "IPY_MODEL_23c25e2c36ef4535a3ef9fe5b2ccfa50",
       "max": 0.99,
       "step": 0.001,
       "value": 0.488
      }
     },
     "7d32452413fc427b9b3f77e1cc637921": {
      "model_module": "jupyter-js-widgets",
      "model_module_version": "~2.1.4",
      "model_name": "LayoutModel",
      "state": {
       "_model_module_version": "~2.1.4",
       "_view_module_version": "~2.1.4"
      }
     },
     "7d89549065f84b8d931a850505ff3855": {
      "model_module": "jupyter-js-widgets",
      "model_module_version": "~2.1.4",
      "model_name": "VBoxModel",
      "state": {
       "_dom_classes": [
        "widget-interact"
       ],
       "_model_module_version": "~2.1.4",
       "_view_module_version": "~2.1.4",
       "children": [
        "IPY_MODEL_99858a82957544d9b239a024489471c1",
        "IPY_MODEL_82a961648b2446928c41b9d2bceeb550"
       ],
       "layout": "IPY_MODEL_6d5fe3e6f40d441e93e4107004d9cfa2"
      }
     },
     "7dec28ec97894e37922af794c052579d": {
      "model_module": "jupyter-js-widgets",
      "model_module_version": "~2.1.4",
      "model_name": "FloatSliderModel",
      "state": {
       "_model_module_version": "~2.1.4",
       "_view_module_version": "~2.1.4",
       "description": "beta",
       "layout": "IPY_MODEL_21a5637f46bb467ca120851a2edc9535",
       "max": 0.99,
       "step": 0.001,
       "value": 0.717
      }
     },
     "7e1898649e914f4dabfac2566e9c1330": {
      "model_module": "jupyter-js-widgets",
      "model_module_version": "~2.1.4",
      "model_name": "VBoxModel",
      "state": {
       "_dom_classes": [
        "widget-interact"
       ],
       "_model_module_version": "~2.1.4",
       "_view_module_version": "~2.1.4",
       "children": [
        "IPY_MODEL_64d918c4c46147098185e1d0c138892c",
        "IPY_MODEL_c2def20e649e418ebb1cee84a7339f7a"
       ],
       "layout": "IPY_MODEL_13e10819c61c4998989de6635058e538"
      }
     },
     "7ef6587cd7404fd2a4ed7c52f8d712cf": {
      "model_module": "jupyter-js-widgets",
      "model_module_version": "~2.1.4",
      "model_name": "LayoutModel",
      "state": {
       "_model_module_version": "~2.1.4",
       "_view_module_version": "~2.1.4"
      }
     },
     "7f7e2a7fa49348eca1cce0be7cb6cce9": {
      "model_module": "jupyter-js-widgets",
      "model_module_version": "~2.1.4",
      "model_name": "LayoutModel",
      "state": {
       "_model_module_version": "~2.1.4",
       "_view_module_version": "~2.1.4"
      }
     },
     "7fd48e102fe046b697b861bfb3dfd850": {
      "model_module": "jupyter-js-widgets",
      "model_module_version": "~2.1.4",
      "model_name": "LayoutModel",
      "state": {
       "_model_module_version": "~2.1.4",
       "_view_module_version": "~2.1.4"
      }
     },
     "8155552444764739a73521d96d089944": {
      "model_module": "jupyter-js-widgets",
      "model_module_version": "~2.1.4",
      "model_name": "LayoutModel",
      "state": {
       "_model_module_version": "~2.1.4",
       "_view_module_version": "~2.1.4"
      }
     },
     "820cbfef19864be38ffc98753e82f2dd": {
      "model_module": "jupyter-js-widgets",
      "model_module_version": "~2.1.4",
      "model_name": "FloatSliderModel",
      "state": {
       "_model_module_version": "~2.1.4",
       "_view_module_version": "~2.1.4",
       "description": "gamma",
       "layout": "IPY_MODEL_9d39f207bccb4b48ae1039f257b78ffe",
       "max": 0.99,
       "step": 0.01,
       "value": 0.9
      }
     },
     "82a515ac14d1492fa02bdc9368690621": {
      "model_module": "jupyter-js-widgets",
      "model_module_version": "~2.1.4",
      "model_name": "FloatSliderModel",
      "state": {
       "_model_module_version": "~2.1.4",
       "_view_module_version": "~2.1.4",
       "description": "lr",
       "layout": "IPY_MODEL_6c448b67f1ad44feab5209fbe7eb6660",
       "max": 0.99,
       "step": 0.01,
       "value": 0.49
      }
     },
     "82a961648b2446928c41b9d2bceeb550": {
      "model_module": "jupyter-js-widgets",
      "model_module_version": "~2.1.4",
      "model_name": "OutputModel",
      "state": {
       "_dom_classes": [],
       "_model_module": "jupyter-js-widgets",
       "_model_module_version": "~2.1.4",
       "_view_module": "jupyter-js-widgets",
       "_view_module_version": "~2.1.4",
       "layout": "IPY_MODEL_1c282d4a54b843638848838f88e8ea19",
       "msg_throttle": 1
      }
     },
     "839da5806fc448c5a8573bf6277640b0": {
      "model_module": "jupyter-js-widgets",
      "model_module_version": "~2.1.4",
      "model_name": "LayoutModel",
      "state": {
       "_model_module_version": "~2.1.4",
       "_view_module_version": "~2.1.4"
      }
     },
     "840b854467b7455fa2846ba852a19856": {
      "model_module": "jupyter-js-widgets",
      "model_module_version": "~2.1.4",
      "model_name": "FloatSliderModel",
      "state": {
       "_model_module_version": "~2.1.4",
       "_view_module_version": "~2.1.4",
       "description": "lr",
       "layout": "IPY_MODEL_665b56e32c184cbd82c23beef542749a",
       "max": 0.99,
       "step": 0.01,
       "value": 0.04
      }
     },
     "847c582c524142e0aa54a04cdd1649dc": {
      "model_module": "jupyter-js-widgets",
      "model_module_version": "~2.1.4",
      "model_name": "VBoxModel",
      "state": {
       "_dom_classes": [
        "widget-interact"
       ],
       "_model_module_version": "~2.1.4",
       "_view_module_version": "~2.1.4",
       "children": [
        "IPY_MODEL_c297cc7d41174f1d8ebc8db8727ddb53",
        "IPY_MODEL_51dfa8182286475db37b66c4332aa026",
        "IPY_MODEL_41729054ca0943f2b120d47c5d256172"
       ],
       "layout": "IPY_MODEL_61942e256da94fd988915a17dda29b8d"
      }
     },
     "86774512676949e088c69f7551b924b5": {
      "model_module": "jupyter-js-widgets",
      "model_module_version": "~2.1.4",
      "model_name": "FloatSliderModel",
      "state": {
       "_model_module_version": "~2.1.4",
       "_view_module_version": "~2.1.4",
       "description": "lr",
       "layout": "IPY_MODEL_c2848bb34c1e47db94d770bd12ca3d50",
       "max": 4,
       "step": 0.01,
       "value": 2.2
      }
     },
     "86b1619161c146db9e05cf9386dfc90e": {
      "model_module": "jupyter-js-widgets",
      "model_module_version": "~2.1.4",
      "model_name": "LayoutModel",
      "state": {
       "_model_module_version": "~2.1.4",
       "_view_module_version": "~2.1.4"
      }
     },
     "86f1343fad3b4cdf88ffa66b74801aef": {
      "model_module": "jupyter-js-widgets",
      "model_module_version": "~2.1.4",
      "model_name": "LayoutModel",
      "state": {
       "_model_module_version": "~2.1.4",
       "_view_module_version": "~2.1.4"
      }
     },
     "8867a38edbf3495d8f424b4e6d382537": {
      "model_module": "jupyter-js-widgets",
      "model_module_version": "~2.1.4",
      "model_name": "FloatSliderModel",
      "state": {
       "_model_module_version": "~2.1.4",
       "_view_module_version": "~2.1.4",
       "description": "beta",
       "layout": "IPY_MODEL_4c2dd2b723fc42dca1462d9a3263045c",
       "max": 0.99,
       "step": 0.01,
       "value": 0.42
      }
     },
     "88bf6f0970884595998de4e354630720": {
      "model_module": "jupyter-js-widgets",
      "model_module_version": "~2.1.4",
      "model_name": "LayoutModel",
      "state": {
       "_model_module_version": "~2.1.4",
       "_view_module_version": "~2.1.4"
      }
     },
     "88c9c3f620a7489fa97ad5b4ad46cb75": {
      "model_module": "jupyter-js-widgets",
      "model_module_version": "~2.1.4",
      "model_name": "FloatSliderModel",
      "state": {
       "_model_module_version": "~2.1.4",
       "_view_module_version": "~2.1.4",
       "description": "lr",
       "layout": "IPY_MODEL_6646af781e1a449190f0c3d37e96f848",
       "max": 1,
       "step": 0.001,
       "value": 0.001
      }
     },
     "89e9c4ec4c8e418e95d36e8cdf04bc68": {
      "model_module": "jupyter-js-widgets",
      "model_module_version": "~2.1.4",
      "model_name": "LayoutModel",
      "state": {
       "_model_module_version": "~2.1.4",
       "_view_module_version": "~2.1.4"
      }
     },
     "8a6944448e5f41898e86f3db435eab2b": {
      "model_module": "jupyter-js-widgets",
      "model_module_version": "~2.1.4",
      "model_name": "FloatSliderModel",
      "state": {
       "_model_module_version": "~2.1.4",
       "_view_module_version": "~2.1.4",
       "description": "lr",
       "layout": "IPY_MODEL_7f7e2a7fa49348eca1cce0be7cb6cce9",
       "max": 1,
       "step": 0.001,
       "value": 0.001
      }
     },
     "8ab55f32d6c543bebbace448da39c357": {
      "model_module": "jupyter-js-widgets",
      "model_module_version": "~2.1.4",
      "model_name": "VBoxModel",
      "state": {
       "_dom_classes": [
        "widget-interact"
       ],
       "_model_module_version": "~2.1.4",
       "_view_module_version": "~2.1.4",
       "children": [
        "IPY_MODEL_a9104ef098aa4c01b6fb145502d192bd",
        "IPY_MODEL_cd083c75daff47a0b6434fbf2fcd5960"
       ],
       "layout": "IPY_MODEL_9e19b1d1009c49b484a61fa18e794c2f"
      }
     },
     "8afaf0eecbc04f6993305808cbf60a24": {
      "model_module": "jupyter-js-widgets",
      "model_module_version": "~2.1.4",
      "model_name": "LayoutModel",
      "state": {
       "_model_module_version": "~2.1.4",
       "_view_module_version": "~2.1.4"
      }
     },
     "8b8123f208fa4430843daee9c8464421": {
      "model_module": "jupyter-js-widgets",
      "model_module_version": "~2.1.4",
      "model_name": "LayoutModel",
      "state": {
       "_model_module_version": "~2.1.4",
       "_view_module_version": "~2.1.4"
      }
     },
     "8b902ce3b7184dcf8b5327c409bfca0d": {
      "model_module": "jupyter-js-widgets",
      "model_module_version": "~2.1.4",
      "model_name": "LayoutModel",
      "state": {
       "_model_module_version": "~2.1.4",
       "_view_module_version": "~2.1.4"
      }
     },
     "8c4a9a83d1d04d07ab60fb697d4bf76b": {
      "model_module": "jupyter-js-widgets",
      "model_module_version": "~2.1.4",
      "model_name": "LayoutModel",
      "state": {
       "_model_module_version": "~2.1.4",
       "_view_module_version": "~2.1.4"
      }
     },
     "8d0a1a3d8b1045ac828107cb3615e9c0": {
      "model_module": "jupyter-js-widgets",
      "model_module_version": "~2.1.4",
      "model_name": "LayoutModel",
      "state": {
       "_model_module_version": "~2.1.4",
       "_view_module_version": "~2.1.4"
      }
     },
     "8d6fcfa982fb4772a79119c13def0afb": {
      "model_module": "jupyter-js-widgets",
      "model_module_version": "~2.1.4",
      "model_name": "LayoutModel",
      "state": {
       "_model_module_version": "~2.1.4",
       "_view_module_version": "~2.1.4"
      }
     },
     "8eb79c7673a04a06acece8c8d66e3e61": {
      "model_module": "jupyter-js-widgets",
      "model_module_version": "~2.1.4",
      "model_name": "VBoxModel",
      "state": {
       "_dom_classes": [
        "widget-interact"
       ],
       "_model_module_version": "~2.1.4",
       "_view_module_version": "~2.1.4",
       "children": [
        "IPY_MODEL_bdae8169571f43df8028d5cf4ed255eb",
        "IPY_MODEL_9bd6e7dc1c7d4d378b0c690091b29d4e",
        "IPY_MODEL_149269631fc54b0aa1f193ed770dbad3"
       ],
       "layout": "IPY_MODEL_53c678ff983f4f1c81ce8bd3ddee24c0"
      }
     },
     "8ee0a98ee27748068fefb469c2ce6986": {
      "model_module": "jupyter-js-widgets",
      "model_module_version": "~2.1.4",
      "model_name": "FloatSliderModel",
      "state": {
       "_model_module_version": "~2.1.4",
       "_view_module_version": "~2.1.4",
       "description": "gamma",
       "layout": "IPY_MODEL_8d0a1a3d8b1045ac828107cb3615e9c0",
       "max": 0.99,
       "step": 0.01,
       "value": 0.37
      }
     },
     "8f6a0f38cf6f421597c586b16ba3c232": {
      "model_module": "jupyter-js-widgets",
      "model_module_version": "~2.1.4",
      "model_name": "FloatSliderModel",
      "state": {
       "_model_module_version": "~2.1.4",
       "_view_module_version": "~2.1.4",
       "description": "lr",
       "layout": "IPY_MODEL_12ab9c7f4bab4e368faf12229c400b6b",
       "max": 1,
       "step": 0.001,
       "value": 1
      }
     },
     "8f963124727341c28fd47719b4579b72": {
      "model_module": "jupyter-js-widgets",
      "model_module_version": "~2.1.4",
      "model_name": "VBoxModel",
      "state": {
       "_dom_classes": [
        "widget-interact"
       ],
       "_model_module_version": "~2.1.4",
       "_view_module_version": "~2.1.4",
       "children": [
        "IPY_MODEL_519db0a7eabf473a8fe4ca77b572fd67",
        "IPY_MODEL_5f3dc45bc1524fc58d105c5efc0e45cd",
        "IPY_MODEL_a95516bbe24f40f29db6510c64f550f4"
       ],
       "layout": "IPY_MODEL_42c2860760c64e75881f623fd1d1ab1a"
      }
     },
     "8f98a6a09462472683aafa6e4af2cef0": {
      "model_module": "jupyter-js-widgets",
      "model_module_version": "~2.1.4",
      "model_name": "VBoxModel",
      "state": {
       "_dom_classes": [
        "widget-interact"
       ],
       "_model_module_version": "~2.1.4",
       "_view_module_version": "~2.1.4",
       "children": [
        "IPY_MODEL_0cc4547416a94c75b72e000702f65d49",
        "IPY_MODEL_d1e480332b454e48a9b3840f2001e8c5"
       ],
       "layout": "IPY_MODEL_72c703f8c3bd464ca83a5901b741781c"
      }
     },
     "8fc3cd0505f44f009c14b056c19feef7": {
      "model_module": "jupyter-js-widgets",
      "model_module_version": "~2.1.4",
      "model_name": "LayoutModel",
      "state": {
       "_model_module_version": "~2.1.4",
       "_view_module_version": "~2.1.4"
      }
     },
     "918fc4e5dcc646ea9ff895c756b1cf9c": {
      "model_module": "jupyter-js-widgets",
      "model_module_version": "~2.1.4",
      "model_name": "LayoutModel",
      "state": {
       "_model_module_version": "~2.1.4",
       "_view_module_version": "~2.1.4"
      }
     },
     "9195afa0245a48c79b0340cdcad3dc15": {
      "model_module": "jupyter-js-widgets",
      "model_module_version": "~2.1.4",
      "model_name": "LayoutModel",
      "state": {
       "_model_module_version": "~2.1.4",
       "_view_module_version": "~2.1.4"
      }
     },
     "920c0373b0a34400af48b9ef0338f92e": {
      "model_module": "jupyter-js-widgets",
      "model_module_version": "~2.1.4",
      "model_name": "OutputModel",
      "state": {
       "_dom_classes": [],
       "_model_module": "jupyter-js-widgets",
       "_model_module_version": "~2.1.4",
       "_view_module": "jupyter-js-widgets",
       "_view_module_version": "~2.1.4",
       "layout": "IPY_MODEL_20c830ef34bb41859b4b9b7d1bdcc096",
       "msg_throttle": 1
      }
     },
     "93571af40997406a864a69edb03964e7": {
      "model_module": "jupyter-js-widgets",
      "model_module_version": "~2.1.4",
      "model_name": "LayoutModel",
      "state": {
       "_model_module_version": "~2.1.4",
       "_view_module_version": "~2.1.4"
      }
     },
     "94721c99231343b6841195320408e460": {
      "model_module": "jupyter-js-widgets",
      "model_module_version": "~2.1.4",
      "model_name": "OutputModel",
      "state": {
       "_dom_classes": [],
       "_model_module": "jupyter-js-widgets",
       "_model_module_version": "~2.1.4",
       "_view_module": "jupyter-js-widgets",
       "_view_module_version": "~2.1.4",
       "layout": "IPY_MODEL_bd0c03dae81c469293f2ff927bf58c09",
       "msg_throttle": 1
      }
     },
     "94cbd5b347964917b2ab547cbffd5796": {
      "model_module": "jupyter-js-widgets",
      "model_module_version": "~2.1.4",
      "model_name": "LayoutModel",
      "state": {
       "_model_module_version": "~2.1.4",
       "_view_module_version": "~2.1.4"
      }
     },
     "9567ac15f3954f84bc087323a76992bb": {
      "model_module": "jupyter-js-widgets",
      "model_module_version": "~2.1.4",
      "model_name": "FloatSliderModel",
      "state": {
       "_model_module_version": "~2.1.4",
       "_view_module_version": "~2.1.4",
       "description": "lr",
       "layout": "IPY_MODEL_e1c038b89e8746e48ea2a4f5df135028",
       "max": 0.99,
       "step": 0.01
      }
     },
     "95aedc9fc5d14c08ac30864e1d7e2a81": {
      "model_module": "jupyter-js-widgets",
      "model_module_version": "~2.1.4",
      "model_name": "LayoutModel",
      "state": {
       "_model_module_version": "~2.1.4",
       "_view_module_version": "~2.1.4"
      }
     },
     "95b0bd75ce0146f9985ec6a9b226d5f1": {
      "model_module": "jupyter-js-widgets",
      "model_module_version": "~2.1.4",
      "model_name": "LayoutModel",
      "state": {
       "_model_module_version": "~2.1.4",
       "_view_module_version": "~2.1.4"
      }
     },
     "96964010e6a047e5ba07d0b6fcd43efb": {
      "model_module": "jupyter-js-widgets",
      "model_module_version": "~2.1.4",
      "model_name": "FloatSliderModel",
      "state": {
       "_model_module_version": "~2.1.4",
       "_view_module_version": "~2.1.4",
       "description": "lr",
       "layout": "IPY_MODEL_5cd9705187dd428a98ec744ed07f50a1",
       "max": 0.99,
       "step": 0.01,
       "value": 0.31
      }
     },
     "96e49ab33c464a1f8a374d1393b9969b": {
      "model_module": "jupyter-js-widgets",
      "model_module_version": "~2.1.4",
      "model_name": "LayoutModel",
      "state": {
       "_model_module_version": "~2.1.4",
       "_view_module_version": "~2.1.4"
      }
     },
     "9735b4c5cdc64f41bbede5e9845f6b09": {
      "model_module": "jupyter-js-widgets",
      "model_module_version": "~2.1.4",
      "model_name": "LayoutModel",
      "state": {
       "_model_module_version": "~2.1.4",
       "_view_module_version": "~2.1.4"
      }
     },
     "97d33d4a984940acadd322d1e1e5f49c": {
      "model_module": "jupyter-js-widgets",
      "model_module_version": "~2.1.4",
      "model_name": "FloatSliderModel",
      "state": {
       "_model_module_version": "~2.1.4",
       "_view_module_version": "~2.1.4",
       "description": "lr",
       "layout": "IPY_MODEL_93571af40997406a864a69edb03964e7",
       "max": 0.99,
       "step": 0.01,
       "value": 0.39
      }
     },
     "980ab26340854031bc319fd53456eaf9": {
      "model_module": "jupyter-js-widgets",
      "model_module_version": "~2.1.4",
      "model_name": "VBoxModel",
      "state": {
       "_dom_classes": [
        "widget-interact"
       ],
       "_model_module_version": "~2.1.4",
       "_view_module_version": "~2.1.4",
       "children": [
        "IPY_MODEL_f2e0a5a5a5074527943989f802b30dab",
        "IPY_MODEL_48b6f20e0b334720b451fc34f03fccaa",
        "IPY_MODEL_357bafdba9e240ea9ce187a3669f0a6f",
        "IPY_MODEL_691e4fa491a34c3b90234026c4017810"
       ],
       "layout": "IPY_MODEL_e6beb192ea28449997e9a5ed755819f0"
      }
     },
     "981ba1d1c5a44d21b26929a2132ceeca": {
      "model_module": "jupyter-js-widgets",
      "model_module_version": "~2.1.4",
      "model_name": "FloatSliderModel",
      "state": {
       "_model_module_version": "~2.1.4",
       "_view_module_version": "~2.1.4",
       "description": "lr",
       "layout": "IPY_MODEL_e4aa11ad9b89422ba8bcd4012989a12b",
       "max": 1,
       "step": 0.001,
       "value": 0.139
      }
     },
     "98f4da77f37a4ee2ac18ffe701e5a05e": {
      "model_module": "jupyter-js-widgets",
      "model_module_version": "~2.1.4",
      "model_name": "LayoutModel",
      "state": {
       "_model_module_version": "~2.1.4",
       "_view_module_version": "~2.1.4"
      }
     },
     "99224d04f7de4551b0f19d7c7d0fc58d": {
      "model_module": "jupyter-js-widgets",
      "model_module_version": "~2.1.4",
      "model_name": "LayoutModel",
      "state": {
       "_model_module_version": "~2.1.4",
       "_view_module_version": "~2.1.4"
      }
     },
     "9968d97b74044d03bd2a2038a3e59846": {
      "model_module": "jupyter-js-widgets",
      "model_module_version": "~2.1.4",
      "model_name": "LayoutModel",
      "state": {
       "_model_module_version": "~2.1.4",
       "_view_module_version": "~2.1.4"
      }
     },
     "99858a82957544d9b239a024489471c1": {
      "model_module": "jupyter-js-widgets",
      "model_module_version": "~2.1.4",
      "model_name": "FloatSliderModel",
      "state": {
       "_model_module_version": "~2.1.4",
       "_view_module_version": "~2.1.4",
       "description": "lr",
       "layout": "IPY_MODEL_75610a90b59f4f78a4c6a2b11692d9c8",
       "max": 0.99,
       "step": 0.01,
       "value": 0.04
      }
     },
     "9a6e9c316b3548338c2f8dbb7fd1fd05": {
      "model_module": "jupyter-js-widgets",
      "model_module_version": "~2.1.4",
      "model_name": "LayoutModel",
      "state": {
       "_model_module_version": "~2.1.4",
       "_view_module_version": "~2.1.4"
      }
     },
     "9a7d72a74dad4d51b633044fb844bdbe": {
      "model_module": "jupyter-js-widgets",
      "model_module_version": "~2.1.4",
      "model_name": "FloatSliderModel",
      "state": {
       "_model_module_version": "~2.1.4",
       "_view_module_version": "~2.1.4",
       "description": "lr",
       "layout": "IPY_MODEL_2f2dca642c874cab87df499a01b946d8",
       "max": 0.001,
       "step": 0.0001
      }
     },
     "9a9c82b927d24161a32ba3eccf924076": {
      "model_module": "jupyter-js-widgets",
      "model_module_version": "~2.1.4",
      "model_name": "OutputModel",
      "state": {
       "_dom_classes": [],
       "_model_module": "jupyter-js-widgets",
       "_model_module_version": "~2.1.4",
       "_view_module": "jupyter-js-widgets",
       "_view_module_version": "~2.1.4",
       "layout": "IPY_MODEL_ea38d36d71d94356850c875355e3b6b1",
       "msg_throttle": 1
      }
     },
     "9bd6e7dc1c7d4d378b0c690091b29d4e": {
      "model_module": "jupyter-js-widgets",
      "model_module_version": "~2.1.4",
      "model_name": "FloatSliderModel",
      "state": {
       "_model_module_version": "~2.1.4",
       "_view_module_version": "~2.1.4",
       "description": "gamma",
       "layout": "IPY_MODEL_b55549bb87db4025a947a8637f734c77",
       "max": 0.99,
       "step": 0.01,
       "value": 0.94
      }
     },
     "9cbeb4a0d8394a458dc6286119df4e90": {
      "model_module": "jupyter-js-widgets",
      "model_module_version": "~2.1.4",
      "model_name": "LayoutModel",
      "state": {
       "_model_module_version": "~2.1.4",
       "_view_module_version": "~2.1.4"
      }
     },
     "9d33040a53c54a049d7e863430635c65": {
      "model_module": "jupyter-js-widgets",
      "model_module_version": "~2.1.4",
      "model_name": "LayoutModel",
      "state": {
       "_model_module_version": "~2.1.4",
       "_view_module_version": "~2.1.4"
      }
     },
     "9d39f207bccb4b48ae1039f257b78ffe": {
      "model_module": "jupyter-js-widgets",
      "model_module_version": "~2.1.4",
      "model_name": "LayoutModel",
      "state": {
       "_model_module_version": "~2.1.4",
       "_view_module_version": "~2.1.4"
      }
     },
     "9e19b1d1009c49b484a61fa18e794c2f": {
      "model_module": "jupyter-js-widgets",
      "model_module_version": "~2.1.4",
      "model_name": "LayoutModel",
      "state": {
       "_model_module_version": "~2.1.4",
       "_view_module_version": "~2.1.4"
      }
     },
     "9f21fff2bf754367a6f47809e522545b": {
      "model_module": "jupyter-js-widgets",
      "model_module_version": "~2.1.4",
      "model_name": "VBoxModel",
      "state": {
       "_dom_classes": [
        "widget-interact"
       ],
       "_model_module_version": "~2.1.4",
       "_view_module_version": "~2.1.4",
       "children": [
        "IPY_MODEL_9a7d72a74dad4d51b633044fb844bdbe",
        "IPY_MODEL_2f79f96173d34fd697106e74b74f0af3",
        "IPY_MODEL_920c0373b0a34400af48b9ef0338f92e"
       ],
       "layout": "IPY_MODEL_7d32452413fc427b9b3f77e1cc637921"
      }
     },
     "9fd58012d66d477eb121ea945f7c1e4f": {
      "model_module": "jupyter-js-widgets",
      "model_module_version": "~2.1.4",
      "model_name": "OutputModel",
      "state": {
       "_dom_classes": [],
       "_model_module": "jupyter-js-widgets",
       "_model_module_version": "~2.1.4",
       "_view_module": "jupyter-js-widgets",
       "_view_module_version": "~2.1.4",
       "layout": "IPY_MODEL_7bb019551bb648ba8758681428a723d6",
       "msg_throttle": 1
      }
     },
     "a0dc61f611364c35a6cc1fb4d9eddc22": {
      "model_module": "jupyter-js-widgets",
      "model_module_version": "~2.1.4",
      "model_name": "FloatSliderModel",
      "state": {
       "_model_module_version": "~2.1.4",
       "_view_module_version": "~2.1.4",
       "description": "lr",
       "layout": "IPY_MODEL_291bb984a89c49038e02854ec0491f72",
       "max": 4,
       "step": 0.01,
       "value": 0.25
      }
     },
     "a22984d76f34482ebbe3fa57dc4881c6": {
      "model_module": "jupyter-js-widgets",
      "model_module_version": "~2.1.4",
      "model_name": "OutputModel",
      "state": {
       "_dom_classes": [],
       "_model_module": "jupyter-js-widgets",
       "_model_module_version": "~2.1.4",
       "_view_module": "jupyter-js-widgets",
       "_view_module_version": "~2.1.4",
       "layout": "IPY_MODEL_ebfd2d00aa4d42e19adc27afc4f681ed",
       "msg_throttle": 1
      }
     },
     "a25dbe74f0fa4679894b6f72d290a234": {
      "model_module": "jupyter-js-widgets",
      "model_module_version": "~2.1.4",
      "model_name": "FloatSliderModel",
      "state": {
       "_model_module_version": "~2.1.4",
       "_view_module_version": "~2.1.4",
       "description": "lr",
       "layout": "IPY_MODEL_b58e1a0ec5dc462f9b08984be2d24bec",
       "max": 1,
       "step": 0.02,
       "value": 0.34
      }
     },
     "a2d86c31534a4bceabae9e581bf94803": {
      "model_module": "jupyter-js-widgets",
      "model_module_version": "~2.1.4",
      "model_name": "FloatSliderModel",
      "state": {
       "_model_module_version": "~2.1.4",
       "_view_module_version": "~2.1.4",
       "description": "lr",
       "layout": "IPY_MODEL_9cbeb4a0d8394a458dc6286119df4e90",
       "max": 0.99,
       "step": 0.01
      }
     },
     "a2ec3a0c194e4ca9b160182e303ea7f7": {
      "model_module": "jupyter-js-widgets",
      "model_module_version": "~2.1.4",
      "model_name": "LayoutModel",
      "state": {
       "_model_module_version": "~2.1.4",
       "_view_module_version": "~2.1.4"
      }
     },
     "a47469f3288d4cfe815103f17c470f41": {
      "model_module": "jupyter-js-widgets",
      "model_module_version": "~2.1.4",
      "model_name": "VBoxModel",
      "state": {
       "_dom_classes": [
        "widget-interact"
       ],
       "_model_module_version": "~2.1.4",
       "_view_module_version": "~2.1.4",
       "children": [
        "IPY_MODEL_62f157546b2443f183c0d3d3ffa58b29",
        "IPY_MODEL_2313d9e34fb345d6a35b7480390eaea9",
        "IPY_MODEL_94721c99231343b6841195320408e460"
       ],
       "layout": "IPY_MODEL_8155552444764739a73521d96d089944"
      }
     },
     "a4bbc5a9100e44f9b729c183197f117d": {
      "model_module": "jupyter-js-widgets",
      "model_module_version": "~2.1.4",
      "model_name": "OutputModel",
      "state": {
       "_dom_classes": [],
       "_model_module": "jupyter-js-widgets",
       "_model_module_version": "~2.1.4",
       "_view_module": "jupyter-js-widgets",
       "_view_module_version": "~2.1.4",
       "layout": "IPY_MODEL_86b1619161c146db9e05cf9386dfc90e",
       "msg_throttle": 1
      }
     },
     "a4cd34e4d2ab41b2b4e3c92232aeb055": {
      "model_module": "jupyter-js-widgets",
      "model_module_version": "~2.1.4",
      "model_name": "VBoxModel",
      "state": {
       "_dom_classes": [
        "widget-interact"
       ],
       "_model_module_version": "~2.1.4",
       "_view_module_version": "~2.1.4",
       "children": [
        "IPY_MODEL_8f6a0f38cf6f421597c586b16ba3c232",
        "IPY_MODEL_b9f8f6ec630b4c40b4a66eacf670bab8",
        "IPY_MODEL_46ad836c537b453a9526ca0954788b02",
        "IPY_MODEL_050d1bedb7c646b98e539de57685395d"
       ],
       "layout": "IPY_MODEL_03a0f7d8452d4fc19fbda7ae48517880"
      }
     },
     "a686e4fcd3994ba6ab48ff05961dbb2d": {
      "model_module": "jupyter-js-widgets",
      "model_module_version": "~2.1.4",
      "model_name": "OutputModel",
      "state": {
       "_dom_classes": [],
       "_model_module": "jupyter-js-widgets",
       "_model_module_version": "~2.1.4",
       "_view_module": "jupyter-js-widgets",
       "_view_module_version": "~2.1.4",
       "layout": "IPY_MODEL_49a9475d0b0945ffbc757c2316dfc564",
       "msg_throttle": 1
      }
     },
     "a6d5b6e53b6b4d67b08cbb03c17ac9bd": {
      "model_module": "jupyter-js-widgets",
      "model_module_version": "~2.1.4",
      "model_name": "FloatSliderModel",
      "state": {
       "_model_module_version": "~2.1.4",
       "_view_module_version": "~2.1.4",
       "description": "lr",
       "layout": "IPY_MODEL_1ba61c5ef0c84182b9557b2a819d5e2c",
       "max": 1,
       "step": 0.001,
       "value": 0.001
      }
     },
     "a7ae64cafdec4cde933195d794bc9a33": {
      "model_module": "jupyter-js-widgets",
      "model_module_version": "~2.1.4",
      "model_name": "LayoutModel",
      "state": {
       "_model_module_version": "~2.1.4",
       "_view_module_version": "~2.1.4"
      }
     },
     "a828562381d54ae094d99a89c40b1826": {
      "model_module": "jupyter-js-widgets",
      "model_module_version": "~2.1.4",
      "model_name": "LayoutModel",
      "state": {
       "_model_module_version": "~2.1.4",
       "_view_module_version": "~2.1.4"
      }
     },
     "a8dc0568476d4b98a788de1ab45b5c43": {
      "model_module": "jupyter-js-widgets",
      "model_module_version": "~2.1.4",
      "model_name": "OutputModel",
      "state": {
       "_dom_classes": [],
       "_model_module": "jupyter-js-widgets",
       "_model_module_version": "~2.1.4",
       "_view_module": "jupyter-js-widgets",
       "_view_module_version": "~2.1.4",
       "layout": "IPY_MODEL_77418f4a4f794ee78a593add668935be",
       "msg_throttle": 1
      }
     },
     "a9104ef098aa4c01b6fb145502d192bd": {
      "model_module": "jupyter-js-widgets",
      "model_module_version": "~2.1.4",
      "model_name": "FloatSliderModel",
      "state": {
       "_model_module_version": "~2.1.4",
       "_view_module_version": "~2.1.4",
       "description": "lr",
       "layout": "IPY_MODEL_8fc3cd0505f44f009c14b056c19feef7",
       "max": 0.99,
       "step": 0.01,
       "value": 0.04
      }
     },
     "a95516bbe24f40f29db6510c64f550f4": {
      "model_module": "jupyter-js-widgets",
      "model_module_version": "~2.1.4",
      "model_name": "OutputModel",
      "state": {
       "_dom_classes": [],
       "_model_module": "jupyter-js-widgets",
       "_model_module_version": "~2.1.4",
       "_view_module": "jupyter-js-widgets",
       "_view_module_version": "~2.1.4",
       "layout": "IPY_MODEL_75c1de1a56714fbf877d3ebeb0724777",
       "msg_throttle": 1
      }
     },
     "a9bf3ff9c31e429ea52598e2a56714e6": {
      "model_module": "jupyter-js-widgets",
      "model_module_version": "~2.1.4",
      "model_name": "LayoutModel",
      "state": {
       "_model_module_version": "~2.1.4",
       "_view_module_version": "~2.1.4"
      }
     },
     "a9c9c152d8fc4d72a9cdb42b1361a1d0": {
      "model_module": "jupyter-js-widgets",
      "model_module_version": "~2.1.4",
      "model_name": "LayoutModel",
      "state": {
       "_model_module_version": "~2.1.4",
       "_view_module_version": "~2.1.4"
      }
     },
     "aa5b9236a4a942e4a7e13d6cf773990e": {
      "model_module": "jupyter-js-widgets",
      "model_module_version": "~2.1.4",
      "model_name": "LayoutModel",
      "state": {
       "_model_module_version": "~2.1.4",
       "_view_module_version": "~2.1.4"
      }
     },
     "ab2fc1395f0246e6a83fba4b98e599a6": {
      "model_module": "jupyter-js-widgets",
      "model_module_version": "~2.1.4",
      "model_name": "FloatSliderModel",
      "state": {
       "_model_module_version": "~2.1.4",
       "_view_module_version": "~2.1.4",
       "description": "lr",
       "layout": "IPY_MODEL_edb58a1300ee4c2aa0cc37904bb69666",
       "max": 0.99,
       "step": 0.01,
       "value": 0.04
      }
     },
     "ab7bb03b8d6840409e8e7d6151409b9b": {
      "model_module": "jupyter-js-widgets",
      "model_module_version": "~2.1.4",
      "model_name": "OutputModel",
      "state": {
       "_dom_classes": [],
       "_model_module": "jupyter-js-widgets",
       "_model_module_version": "~2.1.4",
       "_view_module": "jupyter-js-widgets",
       "_view_module_version": "~2.1.4",
       "layout": "IPY_MODEL_b8126cd67d6742fdadb03245bfcd5511",
       "msg_throttle": 1
      }
     },
     "abc66de1823b4576999e3ac2a776fa33": {
      "model_module": "jupyter-js-widgets",
      "model_module_version": "~2.1.4",
      "model_name": "LayoutModel",
      "state": {
       "_model_module_version": "~2.1.4",
       "_view_module_version": "~2.1.4"
      }
     },
     "ac4b45aec0a14f3cb85ec13766f2cebf": {
      "model_module": "jupyter-js-widgets",
      "model_module_version": "~2.1.4",
      "model_name": "LayoutModel",
      "state": {
       "_model_module_version": "~2.1.4",
       "_view_module_version": "~2.1.4"
      }
     },
     "ad3e2108386e476a89a812ae57ef014d": {
      "model_module": "jupyter-js-widgets",
      "model_module_version": "~2.1.4",
      "model_name": "VBoxModel",
      "state": {
       "_dom_classes": [
        "widget-interact"
       ],
       "_model_module_version": "~2.1.4",
       "_view_module_version": "~2.1.4",
       "children": [
        "IPY_MODEL_dfa85b30169c44da8cb1fab2e683952c",
        "IPY_MODEL_5bac8acbc6f6493b9af4a329a905b302",
        "IPY_MODEL_d5485fd7b42b42d5b4db72df24ad8693"
       ],
       "layout": "IPY_MODEL_193e32b88ba348689cc36b0f5f9fb7fe"
      }
     },
     "adca824c8e664ec99a1ee56620e94b8c": {
      "model_module": "jupyter-js-widgets",
      "model_module_version": "~2.1.4",
      "model_name": "LayoutModel",
      "state": {
       "_model_module_version": "~2.1.4",
       "_view_module_version": "~2.1.4"
      }
     },
     "ae2b55aa20a14bbe9fafb8142ee88d8e": {
      "model_module": "jupyter-js-widgets",
      "model_module_version": "~2.1.4",
      "model_name": "LayoutModel",
      "state": {
       "_model_module_version": "~2.1.4",
       "_view_module_version": "~2.1.4"
      }
     },
     "ae8a0f84caec42c6a25614e7bdba3f5a": {
      "model_module": "jupyter-js-widgets",
      "model_module_version": "~2.1.4",
      "model_name": "LayoutModel",
      "state": {
       "_model_module_version": "~2.1.4",
       "_view_module_version": "~2.1.4"
      }
     },
     "aff5baddf6e34325b0b2be0f3748808e": {
      "model_module": "jupyter-js-widgets",
      "model_module_version": "~2.1.4",
      "model_name": "LayoutModel",
      "state": {
       "_model_module_version": "~2.1.4",
       "_view_module_version": "~2.1.4"
      }
     },
     "b082087ff5c040c995e88349be4a7377": {
      "model_module": "jupyter-js-widgets",
      "model_module_version": "~2.1.4",
      "model_name": "OutputModel",
      "state": {
       "_dom_classes": [],
       "_model_module": "jupyter-js-widgets",
       "_model_module_version": "~2.1.4",
       "_view_module": "jupyter-js-widgets",
       "_view_module_version": "~2.1.4",
       "layout": "IPY_MODEL_4db9b04610e44e1f9416ef500c1bbd6e",
       "msg_throttle": 1
      }
     },
     "b097c4b197004a919ebe98ff676d4c8b": {
      "model_module": "jupyter-js-widgets",
      "model_module_version": "~2.1.4",
      "model_name": "FloatSliderModel",
      "state": {
       "_model_module_version": "~2.1.4",
       "_view_module_version": "~2.1.4",
       "description": "mu",
       "layout": "IPY_MODEL_b384a12a0407476483278a41cfcd2b72",
       "max": 0.99,
       "step": 0.001,
       "value": 0.9
      }
     },
     "b189820aac83410f88600e8880ea1619": {
      "model_module": "jupyter-js-widgets",
      "model_module_version": "~2.1.4",
      "model_name": "LayoutModel",
      "state": {
       "_model_module_version": "~2.1.4",
       "_view_module_version": "~2.1.4"
      }
     },
     "b228ab78062641639ea7948d7d0a007c": {
      "model_module": "jupyter-js-widgets",
      "model_module_version": "~2.1.4",
      "model_name": "LayoutModel",
      "state": {
       "_model_module_version": "~2.1.4",
       "_view_module_version": "~2.1.4"
      }
     },
     "b2622db9666f4ed08a11b22650f279dd": {
      "model_module": "jupyter-js-widgets",
      "model_module_version": "~2.1.4",
      "model_name": "FloatSliderModel",
      "state": {
       "_model_module_version": "~2.1.4",
       "_view_module_version": "~2.1.4",
       "description": "lr",
       "layout": "IPY_MODEL_7ef6587cd7404fd2a4ed7c52f8d712cf",
       "max": 1,
       "step": 0.001,
       "value": 0.319
      }
     },
     "b384a12a0407476483278a41cfcd2b72": {
      "model_module": "jupyter-js-widgets",
      "model_module_version": "~2.1.4",
      "model_name": "LayoutModel",
      "state": {
       "_model_module_version": "~2.1.4",
       "_view_module_version": "~2.1.4"
      }
     },
     "b51b4b9faf6f40d094ffba3c45f8a96d": {
      "model_module": "jupyter-js-widgets",
      "model_module_version": "~2.1.4",
      "model_name": "VBoxModel",
      "state": {
       "_dom_classes": [
        "widget-interact"
       ],
       "_model_module_version": "~2.1.4",
       "_view_module_version": "~2.1.4",
       "children": [
        "IPY_MODEL_426013bf52e542abb7ca7fc9fca80449",
        "IPY_MODEL_8ee0a98ee27748068fefb469c2ce6986",
        "IPY_MODEL_5bc0a7f7ae7b4f0b8f45f35b4f9043f4"
       ],
       "layout": "IPY_MODEL_6722586b01584cdfbbb1c189675c0c46"
      }
     },
     "b55549bb87db4025a947a8637f734c77": {
      "model_module": "jupyter-js-widgets",
      "model_module_version": "~2.1.4",
      "model_name": "LayoutModel",
      "state": {
       "_model_module_version": "~2.1.4",
       "_view_module_version": "~2.1.4"
      }
     },
     "b58e1a0ec5dc462f9b08984be2d24bec": {
      "model_module": "jupyter-js-widgets",
      "model_module_version": "~2.1.4",
      "model_name": "LayoutModel",
      "state": {
       "_model_module_version": "~2.1.4",
       "_view_module_version": "~2.1.4"
      }
     },
     "b724cf12d6de4b099fdaec350499e5eb": {
      "model_module": "jupyter-js-widgets",
      "model_module_version": "~2.1.4",
      "model_name": "LayoutModel",
      "state": {
       "_model_module_version": "~2.1.4",
       "_view_module_version": "~2.1.4"
      }
     },
     "b8126cd67d6742fdadb03245bfcd5511": {
      "model_module": "jupyter-js-widgets",
      "model_module_version": "~2.1.4",
      "model_name": "LayoutModel",
      "state": {
       "_model_module_version": "~2.1.4",
       "_view_module_version": "~2.1.4"
      }
     },
     "b9f8f6ec630b4c40b4a66eacf670bab8": {
      "model_module": "jupyter-js-widgets",
      "model_module_version": "~2.1.4",
      "model_name": "FloatSliderModel",
      "state": {
       "_model_module_version": "~2.1.4",
       "_view_module_version": "~2.1.4",
       "description": "mu",
       "layout": "IPY_MODEL_e541b73c7da345279aa9606d15556f34",
       "max": 0.99,
       "step": 0.001,
       "value": 0.9
      }
     },
     "b9fc2a4a439e4fe6acb02ee523bfd69d": {
      "model_module": "jupyter-js-widgets",
      "model_module_version": "~2.1.4",
      "model_name": "VBoxModel",
      "state": {
       "_dom_classes": [
        "widget-interact"
       ],
       "_model_module_version": "~2.1.4",
       "_view_module_version": "~2.1.4",
       "children": [
        "IPY_MODEL_341bb0745ef441c286e0d3a382da3372",
        "IPY_MODEL_e4f4b40981654a079501b1415048926d",
        "IPY_MODEL_3250a20acebb4068a88612f94d7fb4c9"
       ],
       "layout": "IPY_MODEL_643f39de67ca40eeadaad2c1d0e29599"
      }
     },
     "ba34fec0d83c4e08931505f75de534e7": {
      "model_module": "jupyter-js-widgets",
      "model_module_version": "~2.1.4",
      "model_name": "FloatSliderModel",
      "state": {
       "_model_module_version": "~2.1.4",
       "_view_module_version": "~2.1.4",
       "description": "gamma",
       "layout": "IPY_MODEL_fe873bc935c646d0a75ee69508852e00",
       "max": 0.99,
       "step": 0.001,
       "value": 0.819
      }
     },
     "ba7766e2370d4db6aaec622b65aebd18": {
      "model_module": "jupyter-js-widgets",
      "model_module_version": "~2.1.4",
      "model_name": "LayoutModel",
      "state": {
       "_model_module_version": "~2.1.4",
       "_view_module_version": "~2.1.4"
      }
     },
     "ba95b8c1206d49fbb5ba6cae7e5f8c3d": {
      "model_module": "jupyter-js-widgets",
      "model_module_version": "~2.1.4",
      "model_name": "FloatSliderModel",
      "state": {
       "_model_module_version": "~2.1.4",
       "_view_module_version": "~2.1.4",
       "description": "gamma",
       "layout": "IPY_MODEL_a828562381d54ae094d99a89c40b1826",
       "max": 0.99,
       "step": 0.1
      }
     },
     "bc1643c0b0af4b98b67111474166c796": {
      "model_module": "jupyter-js-widgets",
      "model_module_version": "~2.1.4",
      "model_name": "LayoutModel",
      "state": {
       "_model_module_version": "~2.1.4",
       "_view_module_version": "~2.1.4"
      }
     },
     "bc17ee6a9b9e4bf19fe714ec584af40c": {
      "model_module": "jupyter-js-widgets",
      "model_module_version": "~2.1.4",
      "model_name": "OutputModel",
      "state": {
       "_dom_classes": [],
       "_model_module": "jupyter-js-widgets",
       "_model_module_version": "~2.1.4",
       "_view_module": "jupyter-js-widgets",
       "_view_module_version": "~2.1.4",
       "layout": "IPY_MODEL_49cb0538a70643c79ee67effb335df02",
       "msg_throttle": 1
      }
     },
     "bd0c03dae81c469293f2ff927bf58c09": {
      "model_module": "jupyter-js-widgets",
      "model_module_version": "~2.1.4",
      "model_name": "LayoutModel",
      "state": {
       "_model_module_version": "~2.1.4",
       "_view_module_version": "~2.1.4"
      }
     },
     "bdae8169571f43df8028d5cf4ed255eb": {
      "model_module": "jupyter-js-widgets",
      "model_module_version": "~2.1.4",
      "model_name": "FloatSliderModel",
      "state": {
       "_model_module_version": "~2.1.4",
       "_view_module_version": "~2.1.4",
       "description": "lr",
       "layout": "IPY_MODEL_fcca4a2eb3a94ec7b3de080c6bde8038",
       "max": 0.0001,
       "step": 1e-05,
       "value": 0.0001
      }
     },
     "bee4838ab701436f9ef4f0beab0b0dcc": {
      "model_module": "jupyter-js-widgets",
      "model_module_version": "~2.1.4",
      "model_name": "VBoxModel",
      "state": {
       "_dom_classes": [
        "widget-interact"
       ],
       "_model_module_version": "~2.1.4",
       "_view_module_version": "~2.1.4",
       "children": [
        "IPY_MODEL_5745f98d4d0745dc9037579dcb93eef4",
        "IPY_MODEL_e77f885dfee94922bad7edb0f4d6cd48"
       ],
       "layout": "IPY_MODEL_31523f0b50854147b62a0f970143f638"
      }
     },
     "beeefcd4a9454eca81599aee0934da2a": {
      "model_module": "jupyter-js-widgets",
      "model_module_version": "~2.1.4",
      "model_name": "OutputModel",
      "state": {
       "_dom_classes": [],
       "_model_module": "jupyter-js-widgets",
       "_model_module_version": "~2.1.4",
       "_view_module": "jupyter-js-widgets",
       "_view_module_version": "~2.1.4",
       "layout": "IPY_MODEL_4465da5690a7468c862a038af50a6f57",
       "msg_throttle": 1
      }
     },
     "bf378d21f25343be9ab50c687e3d052b": {
      "model_module": "jupyter-js-widgets",
      "model_module_version": "~2.1.4",
      "model_name": "LayoutModel",
      "state": {
       "_model_module_version": "~2.1.4",
       "_view_module_version": "~2.1.4"
      }
     },
     "c02f80dbfc444b4fbe8c6c2a4bb6ff17": {
      "model_module": "jupyter-js-widgets",
      "model_module_version": "~2.1.4",
      "model_name": "OutputModel",
      "state": {
       "_dom_classes": [],
       "_model_module": "jupyter-js-widgets",
       "_model_module_version": "~2.1.4",
       "_view_module": "jupyter-js-widgets",
       "_view_module_version": "~2.1.4",
       "layout": "IPY_MODEL_cdc120806d7144068704100c68a2c354",
       "msg_throttle": 1
      }
     },
     "c05007e302c74b2297f7d01bd87111df": {
      "model_module": "jupyter-js-widgets",
      "model_module_version": "~2.1.4",
      "model_name": "LayoutModel",
      "state": {
       "_model_module_version": "~2.1.4",
       "_view_module_version": "~2.1.4"
      }
     },
     "c0b287a837a443d5b37006c0e742ee3f": {
      "model_module": "jupyter-js-widgets",
      "model_module_version": "~2.1.4",
      "model_name": "OutputModel",
      "state": {
       "_dom_classes": [],
       "_model_module": "jupyter-js-widgets",
       "_model_module_version": "~2.1.4",
       "_view_module": "jupyter-js-widgets",
       "_view_module_version": "~2.1.4",
       "layout": "IPY_MODEL_8b902ce3b7184dcf8b5327c409bfca0d",
       "msg_throttle": 1
      }
     },
     "c0e07d132e374ff69602c62db55567ea": {
      "model_module": "jupyter-js-widgets",
      "model_module_version": "~2.1.4",
      "model_name": "VBoxModel",
      "state": {
       "_dom_classes": [
        "widget-interact"
       ],
       "_model_module_version": "~2.1.4",
       "_view_module_version": "~2.1.4",
       "children": [
        "IPY_MODEL_b2622db9666f4ed08a11b22650f279dd",
        "IPY_MODEL_fd6ff6f0d2b44ec1833d79ea6df25828",
        "IPY_MODEL_a22984d76f34482ebbe3fa57dc4881c6"
       ],
       "layout": "IPY_MODEL_cea7580fcc9f42fd980e5a8086a794e0"
      }
     },
     "c1741dd5f0e04e46b6b00d0c4a92219a": {
      "model_module": "jupyter-js-widgets",
      "model_module_version": "~2.1.4",
      "model_name": "FloatSliderModel",
      "state": {
       "_model_module_version": "~2.1.4",
       "_view_module_version": "~2.1.4",
       "description": "mu",
       "layout": "IPY_MODEL_1b6f0f0241114a4698b1982f5e43061c",
       "max": 0.99,
       "step": 0.001,
       "value": 0.859
      }
     },
     "c2848bb34c1e47db94d770bd12ca3d50": {
      "model_module": "jupyter-js-widgets",
      "model_module_version": "~2.1.4",
      "model_name": "LayoutModel",
      "state": {
       "_model_module_version": "~2.1.4",
       "_view_module_version": "~2.1.4"
      }
     },
     "c297cc7d41174f1d8ebc8db8727ddb53": {
      "model_module": "jupyter-js-widgets",
      "model_module_version": "~2.1.4",
      "model_name": "FloatSliderModel",
      "state": {
       "_model_module_version": "~2.1.4",
       "_view_module_version": "~2.1.4",
       "description": "lr",
       "layout": "IPY_MODEL_51068908c3bf45728a3a9fea99d76771",
       "max": 0.001,
       "step": 0.0001,
       "value": 0.0006
      }
     },
     "c2deb92fb4714db5828fa66489c1bee4": {
      "model_module": "jupyter-js-widgets",
      "model_module_version": "~2.1.4",
      "model_name": "FloatSliderModel",
      "state": {
       "_model_module_version": "~2.1.4",
       "_view_module_version": "~2.1.4",
       "description": "nu",
       "layout": "IPY_MODEL_6d71dc29ab7c4d578c12fa8864cb6203",
       "max": 0.99,
       "step": 0.001,
       "value": 0.1
      }
     },
     "c2def20e649e418ebb1cee84a7339f7a": {
      "model_module": "jupyter-js-widgets",
      "model_module_version": "~2.1.4",
      "model_name": "OutputModel",
      "state": {
       "_dom_classes": [],
       "_model_module": "jupyter-js-widgets",
       "_model_module_version": "~2.1.4",
       "_view_module": "jupyter-js-widgets",
       "_view_module_version": "~2.1.4",
       "layout": "IPY_MODEL_ff05c09321e84d6e8e3972d5d4b0a87c",
       "msg_throttle": 1
      }
     },
     "c2fae6cd4d534b53a82d59ba4c1ddf69": {
      "model_module": "jupyter-js-widgets",
      "model_module_version": "~2.1.4",
      "model_name": "VBoxModel",
      "state": {
       "_dom_classes": [
        "widget-interact"
       ],
       "_model_module_version": "~2.1.4",
       "_view_module_version": "~2.1.4",
       "children": [
        "IPY_MODEL_cf8353c555664b26a2c5cc77f0dc7630",
        "IPY_MODEL_296ee5fdd8d045bc9223e7d49715982d",
        "IPY_MODEL_43f4ce5440974fdbb0329ac662540613"
       ],
       "layout": "IPY_MODEL_ba7766e2370d4db6aaec622b65aebd18"
      }
     },
     "c3c7843655654b2cba897cc4fcec9d6e": {
      "model_module": "jupyter-js-widgets",
      "model_module_version": "~2.1.4",
      "model_name": "LayoutModel",
      "state": {
       "_model_module_version": "~2.1.4",
       "_view_module_version": "~2.1.4"
      }
     },
     "c42c0e52221141318654e9baf0ba142d": {
      "model_module": "jupyter-js-widgets",
      "model_module_version": "~2.1.4",
      "model_name": "LayoutModel",
      "state": {
       "_model_module_version": "~2.1.4",
       "_view_module_version": "~2.1.4"
      }
     },
     "c52159d7987241488d00f3a84cc10206": {
      "model_module": "jupyter-js-widgets",
      "model_module_version": "~2.1.4",
      "model_name": "LayoutModel",
      "state": {
       "_model_module_version": "~2.1.4",
       "_view_module_version": "~2.1.4"
      }
     },
     "c667e04731f8447bb934a2fb7d864a0d": {
      "model_module": "jupyter-js-widgets",
      "model_module_version": "~2.1.4",
      "model_name": "LayoutModel",
      "state": {
       "_model_module_version": "~2.1.4",
       "_view_module_version": "~2.1.4"
      }
     },
     "c6eca4ee542e49448a8d5e291909f22c": {
      "model_module": "jupyter-js-widgets",
      "model_module_version": "~2.1.4",
      "model_name": "LayoutModel",
      "state": {
       "_model_module_version": "~2.1.4",
       "_view_module_version": "~2.1.4"
      }
     },
     "c9b404c3b07e4095b483718ddca1a7cf": {
      "model_module": "jupyter-js-widgets",
      "model_module_version": "~2.1.4",
      "model_name": "OutputModel",
      "state": {
       "_dom_classes": [],
       "_model_module": "jupyter-js-widgets",
       "_model_module_version": "~2.1.4",
       "_view_module": "jupyter-js-widgets",
       "_view_module_version": "~2.1.4",
       "layout": "IPY_MODEL_d49f4f134f674831b3090db531172d5c",
       "msg_throttle": 1
      }
     },
     "ca8e105d1e1a4b64993b120c2f5ec9b0": {
      "model_module": "jupyter-js-widgets",
      "model_module_version": "~2.1.4",
      "model_name": "VBoxModel",
      "state": {
       "_dom_classes": [
        "widget-interact"
       ],
       "_model_module_version": "~2.1.4",
       "_view_module_version": "~2.1.4",
       "children": [
        "IPY_MODEL_f1be5d37bbee4085976423df20390d2c",
        "IPY_MODEL_e307e232d101474cb662d6225d6a658f",
        "IPY_MODEL_2b0b7d149d00444fbf889bcbc0fae8d8"
       ],
       "layout": "IPY_MODEL_8c4a9a83d1d04d07ab60fb697d4bf76b"
      }
     },
     "caa84b47667b4004a4efa4dd8ec4059b": {
      "model_module": "jupyter-js-widgets",
      "model_module_version": "~2.1.4",
      "model_name": "VBoxModel",
      "state": {
       "_dom_classes": [
        "widget-interact"
       ],
       "_model_module_version": "~2.1.4",
       "_view_module_version": "~2.1.4",
       "children": [
        "IPY_MODEL_2cd6aefbde8b460d90d7525ddc3d11fe",
        "IPY_MODEL_2dd60a142d164bae98e7b06595c2b763"
       ],
       "layout": "IPY_MODEL_c52159d7987241488d00f3a84cc10206"
      }
     },
     "cbc19c4e4ced4c17a9e3ce07d90d6ff9": {
      "model_module": "jupyter-js-widgets",
      "model_module_version": "~2.1.4",
      "model_name": "VBoxModel",
      "state": {
       "_dom_classes": [
        "widget-interact"
       ],
       "_model_module_version": "~2.1.4",
       "_view_module_version": "~2.1.4",
       "children": [
        "IPY_MODEL_88c9c3f620a7489fa97ad5b4ad46cb75",
        "IPY_MODEL_fd10ee6d0d7b4068aed3d389cffab199",
        "IPY_MODEL_39f29b65fb794ee7bc2f9e7c33170752"
       ],
       "layout": "IPY_MODEL_36a101eb5c6341e3b53aa4461eff5fd7"
      }
     },
     "cc19cda079bf41629cc167fd5219bd27": {
      "model_module": "jupyter-js-widgets",
      "model_module_version": "~2.1.4",
      "model_name": "FloatSliderModel",
      "state": {
       "_model_module_version": "~2.1.4",
       "_view_module_version": "~2.1.4",
       "description": "lr",
       "layout": "IPY_MODEL_2de522b4ae584862be52fe68a1e8722a",
       "max": 0.99,
       "step": 0.001,
       "value": 0.369
      }
     },
     "cc3f8c9f4e7a4b14b1c390e1ae7e2dc4": {
      "model_module": "jupyter-js-widgets",
      "model_module_version": "~2.1.4",
      "model_name": "VBoxModel",
      "state": {
       "_dom_classes": [
        "widget-interact"
       ],
       "_model_module_version": "~2.1.4",
       "_view_module_version": "~2.1.4",
       "children": [
        "IPY_MODEL_dd09b79b4b8d4e20b2f18eaf132d65d2",
        "IPY_MODEL_820cbfef19864be38ffc98753e82f2dd",
        "IPY_MODEL_cd04e5b9524c440690ef671c8ea76f66"
       ],
       "layout": "IPY_MODEL_ce7d41259e9241508ce445b227269613"
      }
     },
     "cc705158232c444185814ad1997c51a6": {
      "model_module": "jupyter-js-widgets",
      "model_module_version": "~2.1.4",
      "model_name": "LayoutModel",
      "state": {
       "_model_module_version": "~2.1.4",
       "_view_module_version": "~2.1.4"
      }
     },
     "ccb4f6ddc747477395d523d3c49f9d43": {
      "model_module": "jupyter-js-widgets",
      "model_module_version": "~2.1.4",
      "model_name": "VBoxModel",
      "state": {
       "_dom_classes": [
        "widget-interact"
       ],
       "_model_module_version": "~2.1.4",
       "_view_module_version": "~2.1.4",
       "children": [
        "IPY_MODEL_ab2fc1395f0246e6a83fba4b98e599a6",
        "IPY_MODEL_1224b4c5ffc745ddb50088cd1d5c6dbb"
       ],
       "layout": "IPY_MODEL_da965a54cc04465e8d6b0d3577592ffe"
      }
     },
     "ccce9db801af4d51b5f1dbe07e147947": {
      "model_module": "jupyter-js-widgets",
      "model_module_version": "~2.1.4",
      "model_name": "FloatSliderModel",
      "state": {
       "_model_module_version": "~2.1.4",
       "_view_module_version": "~2.1.4",
       "description": "gamma",
       "layout": "IPY_MODEL_7a179c2c632c4dc3b942239ce1e0b391",
       "max": 0.99,
       "step": 0.001,
       "value": 0.247
      }
     },
     "cd04e5b9524c440690ef671c8ea76f66": {
      "model_module": "jupyter-js-widgets",
      "model_module_version": "~2.1.4",
      "model_name": "OutputModel",
      "state": {
       "_dom_classes": [],
       "_model_module": "jupyter-js-widgets",
       "_model_module_version": "~2.1.4",
       "_view_module": "jupyter-js-widgets",
       "_view_module_version": "~2.1.4",
       "layout": "IPY_MODEL_0ac30b5e3b5546aca3803e35ab5aece5",
       "msg_throttle": 1
      }
     },
     "cd083c75daff47a0b6434fbf2fcd5960": {
      "model_module": "jupyter-js-widgets",
      "model_module_version": "~2.1.4",
      "model_name": "OutputModel",
      "state": {
       "_dom_classes": [],
       "_model_module": "jupyter-js-widgets",
       "_model_module_version": "~2.1.4",
       "_view_module": "jupyter-js-widgets",
       "_view_module_version": "~2.1.4",
       "layout": "IPY_MODEL_431d6591641d4040868efffe2a72a914",
       "msg_throttle": 1
      }
     },
     "cdc120806d7144068704100c68a2c354": {
      "model_module": "jupyter-js-widgets",
      "model_module_version": "~2.1.4",
      "model_name": "LayoutModel",
      "state": {
       "_model_module_version": "~2.1.4",
       "_view_module_version": "~2.1.4"
      }
     },
     "ce7d41259e9241508ce445b227269613": {
      "model_module": "jupyter-js-widgets",
      "model_module_version": "~2.1.4",
      "model_name": "LayoutModel",
      "state": {
       "_model_module_version": "~2.1.4",
       "_view_module_version": "~2.1.4"
      }
     },
     "cea7580fcc9f42fd980e5a8086a794e0": {
      "model_module": "jupyter-js-widgets",
      "model_module_version": "~2.1.4",
      "model_name": "LayoutModel",
      "state": {
       "_model_module_version": "~2.1.4",
       "_view_module_version": "~2.1.4"
      }
     },
     "cf8353c555664b26a2c5cc77f0dc7630": {
      "model_module": "jupyter-js-widgets",
      "model_module_version": "~2.1.4",
      "model_name": "FloatSliderModel",
      "state": {
       "_model_module_version": "~2.1.4",
       "_view_module_version": "~2.1.4",
       "description": "lr",
       "layout": "IPY_MODEL_c05007e302c74b2297f7d01bd87111df",
       "max": 0.0001,
       "step": 1e-05,
       "value": 0.0001
      }
     },
     "d1e480332b454e48a9b3840f2001e8c5": {
      "model_module": "jupyter-js-widgets",
      "model_module_version": "~2.1.4",
      "model_name": "OutputModel",
      "state": {
       "_dom_classes": [],
       "_model_module": "jupyter-js-widgets",
       "_model_module_version": "~2.1.4",
       "_view_module": "jupyter-js-widgets",
       "_view_module_version": "~2.1.4",
       "layout": "IPY_MODEL_9735b4c5cdc64f41bbede5e9845f6b09",
       "msg_throttle": 1
      }
     },
     "d44f0fdb6e0e4fa4a746e237a2d498aa": {
      "model_module": "jupyter-js-widgets",
      "model_module_version": "~2.1.4",
      "model_name": "OutputModel",
      "state": {
       "_dom_classes": [],
       "_model_module": "jupyter-js-widgets",
       "_model_module_version": "~2.1.4",
       "_view_module": "jupyter-js-widgets",
       "_view_module_version": "~2.1.4",
       "layout": "IPY_MODEL_50aa0c653d134f65b1c3ee9f1d6253b3",
       "msg_throttle": 1
      }
     },
     "d49f4f134f674831b3090db531172d5c": {
      "model_module": "jupyter-js-widgets",
      "model_module_version": "~2.1.4",
      "model_name": "LayoutModel",
      "state": {
       "_model_module_version": "~2.1.4",
       "_view_module_version": "~2.1.4"
      }
     },
     "d5485fd7b42b42d5b4db72df24ad8693": {
      "model_module": "jupyter-js-widgets",
      "model_module_version": "~2.1.4",
      "model_name": "OutputModel",
      "state": {
       "_dom_classes": [],
       "_model_module": "jupyter-js-widgets",
       "_model_module_version": "~2.1.4",
       "_view_module": "jupyter-js-widgets",
       "_view_module_version": "~2.1.4",
       "layout": "IPY_MODEL_a7ae64cafdec4cde933195d794bc9a33",
       "msg_throttle": 1
      }
     },
     "d5cc8a730cb04513bd616413b3b513cc": {
      "model_module": "jupyter-js-widgets",
      "model_module_version": "~2.1.4",
      "model_name": "LayoutModel",
      "state": {
       "_model_module_version": "~2.1.4",
       "_view_module_version": "~2.1.4"
      }
     },
     "d70a2ed2912748c3af3a18a3ff9dd70f": {
      "model_module": "jupyter-js-widgets",
      "model_module_version": "~2.1.4",
      "model_name": "OutputModel",
      "state": {
       "_dom_classes": [],
       "_model_module": "jupyter-js-widgets",
       "_model_module_version": "~2.1.4",
       "_view_module": "jupyter-js-widgets",
       "_view_module_version": "~2.1.4",
       "layout": "IPY_MODEL_20aa293d48f5472886bbb77f3f14358a",
       "msg_throttle": 1
      }
     },
     "d9015ecb14064f3c996ca45e47f88eec": {
      "model_module": "jupyter-js-widgets",
      "model_module_version": "~2.1.4",
      "model_name": "LayoutModel",
      "state": {
       "_model_module_version": "~2.1.4",
       "_view_module_version": "~2.1.4"
      }
     },
     "d9285b08842842308f6a613f700726ed": {
      "model_module": "jupyter-js-widgets",
      "model_module_version": "~2.1.4",
      "model_name": "VBoxModel",
      "state": {
       "_dom_classes": [
        "widget-interact"
       ],
       "_model_module_version": "~2.1.4",
       "_view_module_version": "~2.1.4",
       "children": [
        "IPY_MODEL_9567ac15f3954f84bc087323a76992bb",
        "IPY_MODEL_7ac7464e72864bba85e1dbeae062089e"
       ],
       "layout": "IPY_MODEL_655a0285a9a44254816f58c465a4dc7c"
      }
     },
     "d9435b59a7384df095a2e2ec092d7d9e": {
      "model_module": "jupyter-js-widgets",
      "model_module_version": "~2.1.4",
      "model_name": "LayoutModel",
      "state": {
       "_model_module_version": "~2.1.4",
       "_view_module_version": "~2.1.4"
      }
     },
     "da965a54cc04465e8d6b0d3577592ffe": {
      "model_module": "jupyter-js-widgets",
      "model_module_version": "~2.1.4",
      "model_name": "LayoutModel",
      "state": {
       "_model_module_version": "~2.1.4",
       "_view_module_version": "~2.1.4"
      }
     },
     "db1be36cf4994ae0adc089f3a69fe173": {
      "model_module": "jupyter-js-widgets",
      "model_module_version": "~2.1.4",
      "model_name": "VBoxModel",
      "state": {
       "_dom_classes": [
        "widget-interact"
       ],
       "_model_module_version": "~2.1.4",
       "_view_module_version": "~2.1.4",
       "children": [
        "IPY_MODEL_0bbbf29177cf45db98f54f2520c68a3a",
        "IPY_MODEL_ba34fec0d83c4e08931505f75de534e7",
        "IPY_MODEL_66e474b41c294c59a2a6374e15df9134"
       ],
       "layout": "IPY_MODEL_a9bf3ff9c31e429ea52598e2a56714e6"
      }
     },
     "db4e0458ac0d4c93a85b0f52ee8f891e": {
      "model_module": "jupyter-js-widgets",
      "model_module_version": "~2.1.4",
      "model_name": "LayoutModel",
      "state": {
       "_model_module_version": "~2.1.4",
       "_view_module_version": "~2.1.4"
      }
     },
     "dcb0e97609f94ee082f32a9475d86bf4": {
      "model_module": "jupyter-js-widgets",
      "model_module_version": "~2.1.4",
      "model_name": "LayoutModel",
      "state": {
       "_model_module_version": "~2.1.4",
       "_view_module_version": "~2.1.4"
      }
     },
     "dd0715880bce4bfd8cc01c6d08bf5600": {
      "model_module": "jupyter-js-widgets",
      "model_module_version": "~2.1.4",
      "model_name": "OutputModel",
      "state": {
       "_dom_classes": [],
       "_model_module": "jupyter-js-widgets",
       "_model_module_version": "~2.1.4",
       "_view_module": "jupyter-js-widgets",
       "_view_module_version": "~2.1.4",
       "layout": "IPY_MODEL_f667b3b085d34a4dbd92265ae592fb79",
       "msg_throttle": 1
      }
     },
     "dd09b79b4b8d4e20b2f18eaf132d65d2": {
      "model_module": "jupyter-js-widgets",
      "model_module_version": "~2.1.4",
      "model_name": "FloatSliderModel",
      "state": {
       "_model_module_version": "~2.1.4",
       "_view_module_version": "~2.1.4",
       "description": "lr",
       "layout": "IPY_MODEL_1004a188c64247f8b2ab5061f53dc943",
       "max": 0.001,
       "step": 0.0001,
       "value": 1e-05
      }
     },
     "dd5a9e6fee334b6ea583cb97fe510399": {
      "model_module": "jupyter-js-widgets",
      "model_module_version": "~2.1.4",
      "model_name": "LayoutModel",
      "state": {
       "_model_module_version": "~2.1.4",
       "_view_module_version": "~2.1.4"
      }
     },
     "ddcffd2d9c1a485798541ea43f83cfd2": {
      "model_module": "jupyter-js-widgets",
      "model_module_version": "~2.1.4",
      "model_name": "LayoutModel",
      "state": {
       "_model_module_version": "~2.1.4",
       "_view_module_version": "~2.1.4"
      }
     },
     "dfa85b30169c44da8cb1fab2e683952c": {
      "model_module": "jupyter-js-widgets",
      "model_module_version": "~2.1.4",
      "model_name": "FloatSliderModel",
      "state": {
       "_model_module_version": "~2.1.4",
       "_view_module_version": "~2.1.4",
       "description": "lr",
       "layout": "IPY_MODEL_6dd3a5323c1c4daa9af6ce7e7d60af0c",
       "max": 0.99,
       "step": 0.01,
       "value": 0.6
      }
     },
     "dfcbda9c801743e38ff361350b848388": {
      "model_module": "jupyter-js-widgets",
      "model_module_version": "~2.1.4",
      "model_name": "VBoxModel",
      "state": {
       "_dom_classes": [
        "widget-interact"
       ],
       "_model_module_version": "~2.1.4",
       "_view_module_version": "~2.1.4",
       "children": [
        "IPY_MODEL_317c6b9c584548c2a15f116a07b1b8bb",
        "IPY_MODEL_3609ff98f13e4bb8904d831da27aa97e",
        "IPY_MODEL_d70a2ed2912748c3af3a18a3ff9dd70f"
       ],
       "layout": "IPY_MODEL_6b575e4998654722987c87a351990346"
      }
     },
     "e0917fcdb8ac4c9e8d925dd52bcdde3b": {
      "model_module": "jupyter-js-widgets",
      "model_module_version": "~2.1.4",
      "model_name": "VBoxModel",
      "state": {
       "_dom_classes": [
        "widget-interact"
       ],
       "_model_module_version": "~2.1.4",
       "_view_module_version": "~2.1.4",
       "children": [
        "IPY_MODEL_96964010e6a047e5ba07d0b6fcd43efb",
        "IPY_MODEL_693c1f204bb4489d9cfe8be3366497fe"
       ],
       "layout": "IPY_MODEL_2e2f4a43edf14bc3addd559efffe4ca6"
      }
     },
     "e187349d7a5e4bb196b136954f377a76": {
      "model_module": "jupyter-js-widgets",
      "model_module_version": "~2.1.4",
      "model_name": "FloatSliderModel",
      "state": {
       "_model_module_version": "~2.1.4",
       "_view_module_version": "~2.1.4",
       "description": "lr",
       "layout": "IPY_MODEL_c42c0e52221141318654e9baf0ba142d",
       "max": 1,
       "step": 0.001,
       "value": 1
      }
     },
     "e1c038b89e8746e48ea2a4f5df135028": {
      "model_module": "jupyter-js-widgets",
      "model_module_version": "~2.1.4",
      "model_name": "LayoutModel",
      "state": {
       "_model_module_version": "~2.1.4",
       "_view_module_version": "~2.1.4"
      }
     },
     "e307e232d101474cb662d6225d6a658f": {
      "model_module": "jupyter-js-widgets",
      "model_module_version": "~2.1.4",
      "model_name": "FloatSliderModel",
      "state": {
       "_model_module_version": "~2.1.4",
       "_view_module_version": "~2.1.4",
       "description": "gamma",
       "layout": "IPY_MODEL_a2ec3a0c194e4ca9b160182e303ea7f7",
       "max": 0.99,
       "step": 0.01,
       "value": 0.19
      }
     },
     "e308291cdf3f4d6294db71ecbbd855f2": {
      "model_module": "jupyter-js-widgets",
      "model_module_version": "~2.1.4",
      "model_name": "LayoutModel",
      "state": {
       "_model_module_version": "~2.1.4",
       "_view_module_version": "~2.1.4"
      }
     },
     "e480e06b9c8c42af9469a15e5ac9d6c3": {
      "model_module": "jupyter-js-widgets",
      "model_module_version": "~2.1.4",
      "model_name": "FloatSliderModel",
      "state": {
       "_model_module_version": "~2.1.4",
       "_view_module_version": "~2.1.4",
       "description": "lr",
       "layout": "IPY_MODEL_aff5baddf6e34325b0b2be0f3748808e",
       "max": 1,
       "step": 0.001,
       "value": 0.001
      }
     },
     "e4aa11ad9b89422ba8bcd4012989a12b": {
      "model_module": "jupyter-js-widgets",
      "model_module_version": "~2.1.4",
      "model_name": "LayoutModel",
      "state": {
       "_model_module_version": "~2.1.4",
       "_view_module_version": "~2.1.4"
      }
     },
     "e4f4b40981654a079501b1415048926d": {
      "model_module": "jupyter-js-widgets",
      "model_module_version": "~2.1.4",
      "model_name": "FloatSliderModel",
      "state": {
       "_model_module_version": "~2.1.4",
       "_view_module_version": "~2.1.4",
       "description": "gamma",
       "layout": "IPY_MODEL_36b98f1e6fc442b18535485a6a95ba37",
       "max": 0.99,
       "step": 0.1
      }
     },
     "e4ffe680130849d5a035e2d66e203320": {
      "model_module": "jupyter-js-widgets",
      "model_module_version": "~2.1.4",
      "model_name": "FloatSliderModel",
      "state": {
       "_model_module_version": "~2.1.4",
       "_view_module_version": "~2.1.4",
       "description": "gamma",
       "layout": "IPY_MODEL_f3c0e49c1e1a498595588f27e7153930",
       "max": 0.99,
       "step": 0.01,
       "value": 0.9
      }
     },
     "e541b73c7da345279aa9606d15556f34": {
      "model_module": "jupyter-js-widgets",
      "model_module_version": "~2.1.4",
      "model_name": "LayoutModel",
      "state": {
       "_model_module_version": "~2.1.4",
       "_view_module_version": "~2.1.4"
      }
     },
     "e6beb192ea28449997e9a5ed755819f0": {
      "model_module": "jupyter-js-widgets",
      "model_module_version": "~2.1.4",
      "model_name": "LayoutModel",
      "state": {
       "_model_module_version": "~2.1.4",
       "_view_module_version": "~2.1.4"
      }
     },
     "e77f885dfee94922bad7edb0f4d6cd48": {
      "model_module": "jupyter-js-widgets",
      "model_module_version": "~2.1.4",
      "model_name": "OutputModel",
      "state": {
       "_dom_classes": [],
       "_model_module": "jupyter-js-widgets",
       "_model_module_version": "~2.1.4",
       "_view_module": "jupyter-js-widgets",
       "_view_module_version": "~2.1.4",
       "layout": "IPY_MODEL_292697e510d6400cb0f09fd00cd635e6",
       "msg_throttle": 1
      }
     },
     "e88559f461fa4b778b4d8a92bddf62db": {
      "model_module": "jupyter-js-widgets",
      "model_module_version": "~2.1.4",
      "model_name": "VBoxModel",
      "state": {
       "_dom_classes": [
        "widget-interact"
       ],
       "_model_module_version": "~2.1.4",
       "_view_module_version": "~2.1.4",
       "children": [
        "IPY_MODEL_4a30ef46642c49e4890b9ebaa0a8ea78",
        "IPY_MODEL_2c74eedfaf3f4a6782ffac6629b38501",
        "IPY_MODEL_1c408bbd6087490c9bcee5b1020211ed"
       ],
       "layout": "IPY_MODEL_99224d04f7de4551b0f19d7c7d0fc58d"
      }
     },
     "e917d4ad7a884d1d877edb280fc8db21": {
      "model_module": "jupyter-js-widgets",
      "model_module_version": "~2.1.4",
      "model_name": "FloatSliderModel",
      "state": {
       "_model_module_version": "~2.1.4",
       "_view_module_version": "~2.1.4",
       "description": "lr",
       "layout": "IPY_MODEL_51dba0ff5d8f48cca7d8d39a3066582c",
       "max": 0.99,
       "step": 0.001,
       "value": 0.516
      }
     },
     "e97a21fa5d2f4a8993d8b0f4122518b7": {
      "model_module": "jupyter-js-widgets",
      "model_module_version": "~2.1.4",
      "model_name": "VBoxModel",
      "state": {
       "_dom_classes": [
        "widget-interact"
       ],
       "_model_module_version": "~2.1.4",
       "_view_module_version": "~2.1.4",
       "children": [
        "IPY_MODEL_6a7d7f2bd0f84081a4f1da156c561e7e",
        "IPY_MODEL_20bd08ecfaa844f289f407d87d8f226d",
        "IPY_MODEL_7c5e55fad4ac4b71827202ccfecd5970",
        "IPY_MODEL_d44f0fdb6e0e4fa4a746e237a2d498aa"
       ],
       "layout": "IPY_MODEL_fab17bce03d34db18c0bf96529aa5b42"
      }
     },
     "e990bb5a88c04ff3bf397504653b0513": {
      "model_module": "jupyter-js-widgets",
      "model_module_version": "~2.1.4",
      "model_name": "LayoutModel",
      "state": {
       "_model_module_version": "~2.1.4",
       "_view_module_version": "~2.1.4"
      }
     },
     "ea1310ce9c5b4d6abffef6565729ee90": {
      "model_module": "jupyter-js-widgets",
      "model_module_version": "~2.1.4",
      "model_name": "LayoutModel",
      "state": {
       "_model_module_version": "~2.1.4",
       "_view_module_version": "~2.1.4"
      }
     },
     "ea38d36d71d94356850c875355e3b6b1": {
      "model_module": "jupyter-js-widgets",
      "model_module_version": "~2.1.4",
      "model_name": "LayoutModel",
      "state": {
       "_model_module_version": "~2.1.4",
       "_view_module_version": "~2.1.4"
      }
     },
     "ebfd2d00aa4d42e19adc27afc4f681ed": {
      "model_module": "jupyter-js-widgets",
      "model_module_version": "~2.1.4",
      "model_name": "LayoutModel",
      "state": {
       "_model_module_version": "~2.1.4",
       "_view_module_version": "~2.1.4"
      }
     },
     "ec3b5b7240114535b6e9ab6baf8d107c": {
      "model_module": "jupyter-js-widgets",
      "model_module_version": "~2.1.4",
      "model_name": "LayoutModel",
      "state": {
       "_model_module_version": "~2.1.4",
       "_view_module_version": "~2.1.4"
      }
     },
     "ece0a09902fd487e83451a112e3adc4a": {
      "model_module": "jupyter-js-widgets",
      "model_module_version": "~2.1.4",
      "model_name": "FloatSliderModel",
      "state": {
       "_model_module_version": "~2.1.4",
       "_view_module_version": "~2.1.4",
       "description": "gamma",
       "layout": "IPY_MODEL_d5cc8a730cb04513bd616413b3b513cc",
       "max": 0.99,
       "step": 0.1
      }
     },
     "ed0733f7cbd4474bab6545d7ccc94a77": {
      "model_module": "jupyter-js-widgets",
      "model_module_version": "~2.1.4",
      "model_name": "VBoxModel",
      "state": {
       "_dom_classes": [
        "widget-interact"
       ],
       "_model_module_version": "~2.1.4",
       "_view_module_version": "~2.1.4",
       "children": [
        "IPY_MODEL_055f73669d394b558be01b9b4ffa3c86",
        "IPY_MODEL_9fd58012d66d477eb121ea945f7c1e4f"
       ],
       "layout": "IPY_MODEL_79c863d828914648b827a0563fe595d0"
      }
     },
     "edb58a1300ee4c2aa0cc37904bb69666": {
      "model_module": "jupyter-js-widgets",
      "model_module_version": "~2.1.4",
      "model_name": "LayoutModel",
      "state": {
       "_model_module_version": "~2.1.4",
       "_view_module_version": "~2.1.4"
      }
     },
     "ee9b015b7e4e45cb8793c36859a48a7b": {
      "model_module": "jupyter-js-widgets",
      "model_module_version": "~2.1.4",
      "model_name": "LayoutModel",
      "state": {
       "_model_module_version": "~2.1.4",
       "_view_module_version": "~2.1.4"
      }
     },
     "eec9c810ecdf4962b6b274192f43bc2b": {
      "model_module": "jupyter-js-widgets",
      "model_module_version": "~2.1.4",
      "model_name": "LayoutModel",
      "state": {
       "_model_module_version": "~2.1.4",
       "_view_module_version": "~2.1.4"
      }
     },
     "f14f841991654cb9a8195d9c6622f375": {
      "model_module": "jupyter-js-widgets",
      "model_module_version": "~2.1.4",
      "model_name": "VBoxModel",
      "state": {
       "_dom_classes": [
        "widget-interact"
       ],
       "_model_module_version": "~2.1.4",
       "_view_module_version": "~2.1.4",
       "children": [
        "IPY_MODEL_1601144e56474e8ebcf7cfa9493b7c18",
        "IPY_MODEL_5296e4f1a1af43278c48b34996982b04",
        "IPY_MODEL_216c6415c01a44a9a316b2a90e118d7a"
       ],
       "layout": "IPY_MODEL_753330da7a814cee9152d47dda7e9e2b"
      }
     },
     "f1b6e3dad8e74cfcaf1bf429e26923aa": {
      "model_module": "jupyter-js-widgets",
      "model_module_version": "~2.1.4",
      "model_name": "LayoutModel",
      "state": {
       "_model_module_version": "~2.1.4",
       "_view_module_version": "~2.1.4"
      }
     },
     "f1be5d37bbee4085976423df20390d2c": {
      "model_module": "jupyter-js-widgets",
      "model_module_version": "~2.1.4",
      "model_name": "FloatSliderModel",
      "state": {
       "_model_module_version": "~2.1.4",
       "_view_module_version": "~2.1.4",
       "description": "lr",
       "layout": "IPY_MODEL_21dea7b0a1564affbe4cc0a4889f5890",
       "max": 1,
       "step": 0.01,
       "value": 0.36
      }
     },
     "f2e0a5a5a5074527943989f802b30dab": {
      "model_module": "jupyter-js-widgets",
      "model_module_version": "~2.1.4",
      "model_name": "FloatSliderModel",
      "state": {
       "_model_module_version": "~2.1.4",
       "_view_module_version": "~2.1.4",
       "description": "lr",
       "layout": "IPY_MODEL_596ca5ec2f754a9a971644a462014451",
       "max": 1,
       "step": 0.001,
       "value": 0.001
      }
     },
     "f3c0e49c1e1a498595588f27e7153930": {
      "model_module": "jupyter-js-widgets",
      "model_module_version": "~2.1.4",
      "model_name": "LayoutModel",
      "state": {
       "_model_module_version": "~2.1.4",
       "_view_module_version": "~2.1.4"
      }
     },
     "f4277c7ee19d4200aa764500c9979de9": {
      "model_module": "jupyter-js-widgets",
      "model_module_version": "~2.1.4",
      "model_name": "OutputModel",
      "state": {
       "_dom_classes": [],
       "_model_module": "jupyter-js-widgets",
       "_model_module_version": "~2.1.4",
       "_view_module": "jupyter-js-widgets",
       "_view_module_version": "~2.1.4",
       "layout": "IPY_MODEL_aa5b9236a4a942e4a7e13d6cf773990e",
       "msg_throttle": 1
      }
     },
     "f46086f4d48b412e914c829e7149f907": {
      "model_module": "jupyter-js-widgets",
      "model_module_version": "~2.1.4",
      "model_name": "LayoutModel",
      "state": {
       "_model_module_version": "~2.1.4",
       "_view_module_version": "~2.1.4"
      }
     },
     "f667b3b085d34a4dbd92265ae592fb79": {
      "model_module": "jupyter-js-widgets",
      "model_module_version": "~2.1.4",
      "model_name": "LayoutModel",
      "state": {
       "_model_module_version": "~2.1.4",
       "_view_module_version": "~2.1.4"
      }
     },
     "f6dcd05dc08544eaaddb1404eee5b21d": {
      "model_module": "jupyter-js-widgets",
      "model_module_version": "~2.1.4",
      "model_name": "LayoutModel",
      "state": {
       "_model_module_version": "~2.1.4",
       "_view_module_version": "~2.1.4"
      }
     },
     "f874e6e6bd2e4e298725648ea552fdb3": {
      "model_module": "jupyter-js-widgets",
      "model_module_version": "~2.1.4",
      "model_name": "LayoutModel",
      "state": {
       "_model_module_version": "~2.1.4",
       "_view_module_version": "~2.1.4"
      }
     },
     "f8eccf2df2a7401096de8cfbb5a00826": {
      "model_module": "jupyter-js-widgets",
      "model_module_version": "~2.1.4",
      "model_name": "VBoxModel",
      "state": {
       "_dom_classes": [
        "widget-interact"
       ],
       "_model_module_version": "~2.1.4",
       "_view_module_version": "~2.1.4",
       "children": [
        "IPY_MODEL_12096d19729940c1a268db467bb29ad8",
        "IPY_MODEL_09c628eea35f40eea043ce1139f13871",
        "IPY_MODEL_44506111f1b4468f85faa6c3f077b8e1",
        "IPY_MODEL_28a46f613e1349a2a3ecda5cd0c5338c"
       ],
       "layout": "IPY_MODEL_839da5806fc448c5a8573bf6277640b0"
      }
     },
     "f96ff9718f1d45e8a15c7d2ecf810273": {
      "model_module": "jupyter-js-widgets",
      "model_module_version": "~2.1.4",
      "model_name": "LayoutModel",
      "state": {
       "_model_module_version": "~2.1.4",
       "_view_module_version": "~2.1.4"
      }
     },
     "fab17bce03d34db18c0bf96529aa5b42": {
      "model_module": "jupyter-js-widgets",
      "model_module_version": "~2.1.4",
      "model_name": "LayoutModel",
      "state": {
       "_model_module_version": "~2.1.4",
       "_view_module_version": "~2.1.4"
      }
     },
     "fcbcdd17620a45c9a9d684796ea6ed8d": {
      "model_module": "jupyter-js-widgets",
      "model_module_version": "~2.1.4",
      "model_name": "FloatSliderModel",
      "state": {
       "_model_module_version": "~2.1.4",
       "_view_module_version": "~2.1.4",
       "description": "nu",
       "layout": "IPY_MODEL_86f1343fad3b4cdf88ffa66b74801aef",
       "max": 0.99,
       "step": 0.001,
       "value": 0.99
      }
     },
     "fcca4a2eb3a94ec7b3de080c6bde8038": {
      "model_module": "jupyter-js-widgets",
      "model_module_version": "~2.1.4",
      "model_name": "LayoutModel",
      "state": {
       "_model_module_version": "~2.1.4",
       "_view_module_version": "~2.1.4"
      }
     },
     "fcf3c2edff23471dadd0738545406701": {
      "model_module": "jupyter-js-widgets",
      "model_module_version": "~2.1.4",
      "model_name": "FloatSliderModel",
      "state": {
       "_model_module_version": "~2.1.4",
       "_view_module_version": "~2.1.4",
       "description": "nu",
       "layout": "IPY_MODEL_3054eea0d88a4418a9284a5847885aa6",
       "max": 0.99,
       "step": 0.001,
       "value": 0.1
      }
     },
     "fd10ee6d0d7b4068aed3d389cffab199": {
      "model_module": "jupyter-js-widgets",
      "model_module_version": "~2.1.4",
      "model_name": "FloatSliderModel",
      "state": {
       "_model_module_version": "~2.1.4",
       "_view_module_version": "~2.1.4",
       "description": "gamma",
       "layout": "IPY_MODEL_94cbd5b347964917b2ab547cbffd5796",
       "max": 2.7,
       "min": -0.9,
       "step": 0.1,
       "value": 0.9
      }
     },
     "fd6ff6f0d2b44ec1833d79ea6df25828": {
      "model_module": "jupyter-js-widgets",
      "model_module_version": "~2.1.4",
      "model_name": "FloatSliderModel",
      "state": {
       "_model_module_version": "~2.1.4",
       "_view_module_version": "~2.1.4",
       "description": "gamma",
       "layout": "IPY_MODEL_1a53a89e7cd44167abac18621a1d51fc",
       "max": 0.99,
       "step": 0.1,
       "value": 0.2
      }
     },
     "fda21ba0922948cc913969e643d8dc50": {
      "model_module": "jupyter-js-widgets",
      "model_module_version": "~2.1.4",
      "model_name": "VBoxModel",
      "state": {
       "_dom_classes": [
        "widget-interact"
       ],
       "_model_module_version": "~2.1.4",
       "_view_module_version": "~2.1.4",
       "children": [
        "IPY_MODEL_a6d5b6e53b6b4d67b08cbb03c17ac9bd",
        "IPY_MODEL_ba95b8c1206d49fbb5ba6cae7e5f8c3d",
        "IPY_MODEL_c9b404c3b07e4095b483718ddca1a7cf"
       ],
       "layout": "IPY_MODEL_626aaf93a8684e7181c156ab7d4cf2b8"
      }
     },
     "fdd531c098ce43018f29676308bc6b08": {
      "model_module": "jupyter-js-widgets",
      "model_module_version": "~2.1.4",
      "model_name": "OutputModel",
      "state": {
       "_dom_classes": [],
       "_model_module": "jupyter-js-widgets",
       "_model_module_version": "~2.1.4",
       "_view_module": "jupyter-js-widgets",
       "_view_module_version": "~2.1.4",
       "layout": "IPY_MODEL_e308291cdf3f4d6294db71ecbbd855f2",
       "msg_throttle": 1
      }
     },
     "fe53f678b32a4a5d950cfd40b4699a8f": {
      "model_module": "jupyter-js-widgets",
      "model_module_version": "~2.1.4",
      "model_name": "LayoutModel",
      "state": {
       "_model_module_version": "~2.1.4",
       "_view_module_version": "~2.1.4"
      }
     },
     "fe873bc935c646d0a75ee69508852e00": {
      "model_module": "jupyter-js-widgets",
      "model_module_version": "~2.1.4",
      "model_name": "LayoutModel",
      "state": {
       "_model_module_version": "~2.1.4",
       "_view_module_version": "~2.1.4"
      }
     },
     "ff05c09321e84d6e8e3972d5d4b0a87c": {
      "model_module": "jupyter-js-widgets",
      "model_module_version": "~2.1.4",
      "model_name": "LayoutModel",
      "state": {
       "_model_module_version": "~2.1.4",
       "_view_module_version": "~2.1.4"
      }
     },
     "ffc0b0d9b66b4d40a9a6687928de6d9e": {
      "model_module": "jupyter-js-widgets",
      "model_module_version": "~2.1.4",
      "model_name": "VBoxModel",
      "state": {
       "_dom_classes": [
        "widget-interact"
       ],
       "_model_module_version": "~2.1.4",
       "_view_module_version": "~2.1.4",
       "children": [
        "IPY_MODEL_3621d25770ce4e2aa1363950a33869c5",
        "IPY_MODEL_485a82ba56ed4e54b88b53f7e14cd364"
       ],
       "layout": "IPY_MODEL_0d9626acc2494ea396e438eb308cd319"
      }
     }
    },
    "version_major": 1,
    "version_minor": 0
   }
  }
 },
 "nbformat": 4,
 "nbformat_minor": 2
}
